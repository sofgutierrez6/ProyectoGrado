{
 "cells": [
  {
   "cell_type": "markdown",
   "metadata": {},
   "source": [
    "# Datos ENEL"
   ]
  },
  {
   "cell_type": "markdown",
   "metadata": {},
   "source": [
    "Se leen los datos entregados por el enel, se juntan en un solo archivo y se revisa la cantidad de datos faltantes"
   ]
  },
  {
   "cell_type": "code",
   "execution_count": 1,
   "metadata": {
    "ExecuteTime": {
     "end_time": "2021-03-01T02:54:25.227769Z",
     "start_time": "2021-03-01T02:54:24.745794Z"
    }
   },
   "outputs": [],
   "source": [
    "import os\n",
    "import pandas as pd\n",
    "import numpy as np\n",
    "from matplotlib import pyplot as plt\n",
    "from tqdm import tqdm"
   ]
  },
  {
   "cell_type": "code",
   "execution_count": 6,
   "metadata": {
    "ExecuteTime": {
     "end_time": "2021-03-01T02:54:25.243769Z",
     "start_time": "2021-03-01T02:54:25.228770Z"
    }
   },
   "outputs": [
    {
     "name": "stdout",
     "output_type": "stream",
     "text": [
      "C:\\Data\\Datos_ENEL_TemperaturaSD\\METEO\n"
     ]
    }
   ],
   "source": [
    "current_dir = os.path.join(os.getcwd(), \"\\Data\\Datos_ENEL_TemperaturaSD\\METEO\")\n",
    "#\\Data\\Datos_ENEL_TemperaturaSD\\METEO\n",
    "print(current_dir)"
   ]
  },
  {
   "cell_type": "code",
   "execution_count": 2,
   "metadata": {},
   "outputs": [
    {
     "name": "stdout",
     "output_type": "stream",
     "text": [
      "C:\\Users\\Sony\\OneDrive - Universidad de los andes\\2021-1\\1. Tesis temperatura\\ProyectoGrado\\Data\\Datos_ENEL_TemperaturaSD\\METEO\n"
     ]
    }
   ],
   "source": [
    "current_dir = os.getcwd()\n",
    "print(current_dir)"
   ]
  },
  {
   "cell_type": "code",
   "execution_count": 3,
   "metadata": {
    "ExecuteTime": {
     "end_time": "2021-03-01T02:54:25.258799Z",
     "start_time": "2021-03-01T02:54:25.244771Z"
    }
   },
   "outputs": [],
   "source": [
    "pyranometers = pd.DataFrame()\n",
    "meteost = pd.DataFrame()"
   ]
  },
  {
   "cell_type": "code",
   "execution_count": 5,
   "metadata": {
    "ExecuteTime": {
     "end_time": "2021-03-01T02:57:55.291775Z",
     "start_time": "2021-03-01T02:54:25.259802Z"
    }
   },
   "outputs": [
    {
     "name": "stderr",
     "output_type": "stream",
     "text": [
      "100%|████████████████████████████████████████████████████████████████████████████████████| 9/9 [10:02<00:00, 76.78s/it]\n",
      "100%|████████████████████████████████████████████████████████████████████████████████████| 2/2 [01:50<00:00, 66.51s/it]\n"
     ]
    }
   ],
   "source": [
    "# Se leen todos los archivos y se ponen en una única tabla\n",
    "\n",
    "folders = os.listdir()\n",
    "if 'DatosEnel.ipynb' in folders:\n",
    "    folders.remove('DatosEnel.ipynb')\n",
    "if '.ipynb_checkpoints' in folders:\n",
    "    folders.remove('.ipynb_checkpoints')\n",
    "\n",
    "for folder in folders:\n",
    "    sub_folders = os.listdir(os.path.join(os.getcwd(),folder))\n",
    "    \n",
    "    for sub_folder in tqdm(sub_folders):\n",
    "        files = [f for f in os.listdir(os.path.join(os.getcwd(),folder,sub_folder))]\n",
    "        \n",
    "        for file in files:\n",
    "            \n",
    "            read_first_file = False\n",
    "            read_second_file = False\n",
    "            \n",
    "            try:\n",
    "            \n",
    "                # Sheet 0\n",
    "                df_temp_pyranometers = pd.read_excel(os.path.join(os.getcwd(), folder, sub_folder, file), header = 5, \n",
    "                                                     sheet_name = 0)\n",
    "                df_temp_pyranometers = df_temp_pyranometers.drop(0).reset_index(drop=True)\n",
    "                read_first_file = True\n",
    "                \n",
    "            except: \n",
    "                print(\"No se pudo leer pyranometers del archivo {}\".format(file))\n",
    "                \n",
    "            try:\n",
    "            \n",
    "                # Sheet 1\n",
    "                df_temp_meteost = pd.read_excel(os.path.join(os.getcwd(), folder, sub_folder, file), header = 10, sheet_name = 1,\n",
    "                                   usecols=lambda x: 'Unnamed' not in x)\n",
    "                df_temp_meteost = df_temp_meteost.drop(0).reset_index(drop=True)\n",
    "                read_second_file = True\n",
    "                \n",
    "            except:  \n",
    "                print(\"No se pudo leer meteost del archivo {}\".format(file))\n",
    "                \n",
    "            \n",
    "            if read_first_file:\n",
    "                pyranometers = pd.concat([pyranometers,df_temp_pyranometers])\n",
    "                \n",
    "            if read_second_file:\n",
    "                meteost = pd.concat([meteost,df_temp_meteost])"
   ]
  },
  {
   "cell_type": "code",
   "execution_count": 6,
   "metadata": {
    "ExecuteTime": {
     "end_time": "2021-03-01T02:57:55.402778Z",
     "start_time": "2021-03-01T02:57:55.292746Z"
    }
   },
   "outputs": [],
   "source": [
    "meteost = meteost.reset_index(drop=True)\n",
    "pyranometers = pyranometers.reset_index(drop=True)"
   ]
  },
  {
   "cell_type": "code",
   "execution_count": 7,
   "metadata": {
    "ExecuteTime": {
     "end_time": "2021-03-01T02:57:55.418747Z",
     "start_time": "2021-03-01T02:57:55.403781Z"
    }
   },
   "outputs": [
    {
     "name": "stdout",
     "output_type": "stream",
     "text": [
      "El tamaño de 'meteost' es de (876138, 11)\n",
      "El tamaño de 'pyranometers' es de (445578, 13)\n"
     ]
    }
   ],
   "source": [
    "# Tamaños de los archivos\n",
    "print(\"El tamaño de 'meteost' es de {}\".format(meteost.shape))\n",
    "print(\"El tamaño de 'pyranometers' es de {}\".format(pyranometers.shape))"
   ]
  },
  {
   "cell_type": "code",
   "execution_count": 8,
   "metadata": {
    "ExecuteTime": {
     "end_time": "2021-03-01T02:57:55.590748Z",
     "start_time": "2021-03-01T02:57:55.419748Z"
    }
   },
   "outputs": [
    {
     "data": {
      "text/plain": [
       "FECHA                         0\n",
       "Ambient Temp [°C]          4066\n",
       "Pressure         [hPa]     4066\n",
       "Humidity           [%]     4066\n",
       "Wind Direction             4066\n",
       "Wind Speed [m/s]           4066\n",
       "Radiance 1 [w/m2]          4066\n",
       "Radiance 2 [w/m2]         18486\n",
       "Horizontal Rad [w/m2]     18486\n",
       "Diffuse Rad [w/m2]        18486\n",
       "Rain             [mm]     18416\n",
       "dtype: int64"
      ]
     },
     "execution_count": 8,
     "metadata": {},
     "output_type": "execute_result"
    }
   ],
   "source": [
    "# Cantidad de vacíos\n",
    "meteost.isna().sum()"
   ]
  },
  {
   "cell_type": "code",
   "execution_count": 9,
   "metadata": {
    "ExecuteTime": {
     "end_time": "2021-03-01T02:57:55.766746Z",
     "start_time": "2021-03-01T02:57:55.592778Z"
    }
   },
   "outputs": [
    {
     "data": {
      "text/plain": [
       "FECHA                     0.000000\n",
       "Ambient Temp [°C]         0.464082\n",
       "Pressure         [hPa]    0.464082\n",
       "Humidity           [%]    0.464082\n",
       "Wind Direction            0.464082\n",
       "Wind Speed [m/s]          0.464082\n",
       "Radiance 1 [w/m2]         0.464082\n",
       "Radiance 2 [w/m2]         2.109942\n",
       "Horizontal Rad [w/m2]     2.109942\n",
       "Diffuse Rad [w/m2]        2.109942\n",
       "Rain             [mm]     2.101952\n",
       "dtype: float64"
      ]
     },
     "execution_count": 9,
     "metadata": {},
     "output_type": "execute_result"
    }
   ],
   "source": [
    "# Cantidad de vacíos ( en %)\n",
    "100*meteost.isna().sum()/meteost.shape[0]"
   ]
  },
  {
   "cell_type": "code",
   "execution_count": 9,
   "metadata": {
    "ExecuteTime": {
     "end_time": "2021-03-01T02:57:55.926776Z",
     "start_time": "2021-03-01T02:57:55.767746Z"
    }
   },
   "outputs": [
    {
     "data": {
      "text/plain": [
       "Fecha     0\n",
       "CU 1      0\n",
       "CU 2      0\n",
       "CU 3      0\n",
       "CU 4      0\n",
       "CU 5      0\n",
       "CU 6      0\n",
       "CU 7      0\n",
       "CU 8      0\n",
       "CU 9      0\n",
       " CU 10    0\n",
       "Cu 11     0\n",
       "CU 12     0\n",
       "dtype: int64"
      ]
     },
     "execution_count": 9,
     "metadata": {},
     "output_type": "execute_result"
    }
   ],
   "source": [
    "# Cantidad de vacíos\n",
    "pyranometers.isna().sum()"
   ]
  },
  {
   "cell_type": "markdown",
   "metadata": {},
   "source": [
    "Para 'meteost' hay datos faltantes, pero son menores al 2.5%. Para pyranometers no hay datos faltantes."
   ]
  },
  {
   "cell_type": "code",
   "execution_count": 10,
   "metadata": {
    "ExecuteTime": {
     "end_time": "2021-03-01T02:57:55.942747Z",
     "start_time": "2021-03-01T02:57:55.927747Z"
    }
   },
   "outputs": [
    {
     "data": {
      "text/plain": [
       "Index(['FECHA', 'Ambient Temp [°C]', 'Pressure         [hPa]',\n",
       "       'Humidity           [%]', 'Wind Direction ', 'Wind Speed [m/s]',\n",
       "       'Radiance 1 [w/m2]', 'Radiance 2 [w/m2]', 'Horizontal Rad [w/m2]',\n",
       "       'Diffuse Rad [w/m2]', 'Rain             [mm]'],\n",
       "      dtype='object')"
      ]
     },
     "execution_count": 10,
     "metadata": {},
     "output_type": "execute_result"
    }
   ],
   "source": [
    "# Columnas\n",
    "meteost.columns"
   ]
  },
  {
   "cell_type": "code",
   "execution_count": 11,
   "metadata": {
    "ExecuteTime": {
     "end_time": "2021-03-01T02:57:55.958747Z",
     "start_time": "2021-03-01T02:57:55.943777Z"
    }
   },
   "outputs": [
    {
     "data": {
      "text/plain": [
       "Index(['Fecha', 'CU 1', 'CU 2', 'CU 3', 'CU 4', 'CU 5', 'CU 6', 'CU 7', 'CU 8',\n",
       "       'CU 9', ' CU 10', 'Cu 11', 'CU 12'],\n",
       "      dtype='object')"
      ]
     },
     "execution_count": 11,
     "metadata": {},
     "output_type": "execute_result"
    }
   ],
   "source": [
    "# Columnas\n",
    "pyranometers.columns"
   ]
  },
  {
   "cell_type": "code",
   "execution_count": 12,
   "metadata": {
    "ExecuteTime": {
     "end_time": "2021-03-01T02:57:55.974747Z",
     "start_time": "2021-03-01T02:57:55.959747Z"
    }
   },
   "outputs": [
    {
     "name": "stdout",
     "output_type": "stream",
     "text": [
      "Fecha mínima 2019-01-30 06:00:00\n",
      "Fecha máxima 2021-02-11 00:00:00\n"
     ]
    }
   ],
   "source": [
    "# fechas\n",
    "print(\"Fecha mínima {}\".format(meteost[\"FECHA\"].min()))\n",
    "print(\"Fecha máxima {}\".format(meteost[\"FECHA\"].max()))"
   ]
  },
  {
   "cell_type": "code",
   "execution_count": 13,
   "metadata": {
    "ExecuteTime": {
     "end_time": "2021-03-01T02:57:55.989777Z",
     "start_time": "2021-03-01T02:57:55.975777Z"
    }
   },
   "outputs": [
    {
     "data": {
      "text/plain": [
       "(7210, 11)"
      ]
     },
     "execution_count": 13,
     "metadata": {},
     "output_type": "execute_result"
    }
   ],
   "source": [
    "meteost[(meteost[\"FECHA\"])<np.datetime64('2020-04-01')].shape"
   ]
  },
  {
   "cell_type": "markdown",
   "metadata": {},
   "source": [
    "Hay 7210 registros con fechas menores a la fecha mínima. Todas marcadas con la fecha \"2019-01-30\"."
   ]
  },
  {
   "cell_type": "code",
   "execution_count": 14,
   "metadata": {
    "ExecuteTime": {
     "end_time": "2021-03-01T02:57:56.036778Z",
     "start_time": "2021-03-01T02:57:55.990747Z"
    }
   },
   "outputs": [
    {
     "data": {
      "text/plain": [
       "Hour\n",
       "0     18239\n",
       "1     17940\n",
       "2     17940\n",
       "3     17940\n",
       "4     17940\n",
       "5     17940\n",
       "6     18540\n",
       "7     18540\n",
       "8     18540\n",
       "9     18540\n",
       "10    18540\n",
       "11    18540\n",
       "12    18540\n",
       "13    18540\n",
       "14    18540\n",
       "15    18540\n",
       "16    18540\n",
       "17    18540\n",
       "18    17950\n",
       "19    17940\n",
       "20    17940\n",
       "21    17940\n",
       "22    17940\n",
       "23    17940\n",
       "Name: FECHA, dtype: int64"
      ]
     },
     "execution_count": 14,
     "metadata": {},
     "output_type": "execute_result"
    }
   ],
   "source": [
    "# Cantidad de Datos por (intervalo) de hora meteost\n",
    "meteost[\"Hour\"] = meteost[\"FECHA\"].dt.hour\n",
    "meteost.groupby(\"Hour\")[\"FECHA\"].count()"
   ]
  },
  {
   "cell_type": "markdown",
   "metadata": {},
   "source": [
    "Parece que hay datos de todas las horas."
   ]
  },
  {
   "cell_type": "code",
   "execution_count": 15,
   "metadata": {
    "ExecuteTime": {
     "end_time": "2021-03-01T02:57:56.068746Z",
     "start_time": "2021-03-01T02:57:56.037747Z"
    }
   },
   "outputs": [
    {
     "data": {
      "text/plain": [
       "Hour\n",
       "6     18540\n",
       "7     18540\n",
       "8     18540\n",
       "9     18540\n",
       "10    18540\n",
       "11    18540\n",
       "12    18540\n",
       "13    18540\n",
       "14    18540\n",
       "15    18540\n",
       "16    18540\n",
       "17    18540\n",
       "18      309\n",
       "Name: Fecha, dtype: int64"
      ]
     },
     "execution_count": 15,
     "metadata": {},
     "output_type": "execute_result"
    }
   ],
   "source": [
    "# Cantidad de Datos por (intervalo) de hora\n",
    "pyranometers[\"Hour\"] = pyranometers[\"Fecha\"].dt.hour\n",
    "pyranometers.groupby(\"Hour\")[\"Fecha\"].count()"
   ]
  },
  {
   "cell_type": "markdown",
   "metadata": {},
   "source": [
    "Solo se tienen datos entre las 6 y las 18 horas. En algunos pocos casos hay información a partir de las 18."
   ]
  },
  {
   "cell_type": "code",
   "execution_count": 16,
   "metadata": {
    "ExecuteTime": {
     "end_time": "2021-03-01T02:57:56.083777Z",
     "start_time": "2021-03-01T02:57:56.069776Z"
    }
   },
   "outputs": [
    {
     "name": "stdout",
     "output_type": "stream",
     "text": [
      "Cantidad horas faltantes: 406\n",
      "Cantidad horas Totales: 7585\n"
     ]
    },
    {
     "data": {
      "text/plain": [
       "DatetimeIndex(['2020-04-28 01:00:00', '2020-04-28 02:00:00',\n",
       "               '2020-04-28 03:00:00', '2020-04-28 04:00:00',\n",
       "               '2020-04-28 05:00:00', '2020-04-28 06:00:00',\n",
       "               '2020-04-28 07:00:00', '2020-04-28 08:00:00',\n",
       "               '2020-04-28 09:00:00', '2020-04-28 10:00:00',\n",
       "               ...\n",
       "               '2020-08-08 14:00:00', '2020-08-08 15:00:00',\n",
       "               '2020-08-08 16:00:00', '2020-08-08 17:00:00',\n",
       "               '2020-08-08 18:00:00', '2020-08-08 19:00:00',\n",
       "               '2020-08-08 20:00:00', '2020-08-08 21:00:00',\n",
       "               '2020-08-08 22:00:00', '2020-08-08 23:00:00'],\n",
       "              dtype='datetime64[ns]', length=406, freq=None)"
      ]
     },
     "execution_count": 16,
     "metadata": {},
     "output_type": "execute_result"
    }
   ],
   "source": [
    "# Horas faltantes (No confundir con vacíos) meteost\n",
    "\n",
    "min_date = np.datetime64('2020-04-01')\n",
    "max_date = meteost[\"FECHA\"].max()\n",
    "\n",
    "cantidad_totales = pd.date_range(start = min_date, end = max_date, freq=\"H\" )\n",
    "faltantes_meteost = cantidad_totales.difference(meteost[\"FECHA\"])\n",
    "\n",
    "print(\"Cantidad horas faltantes: {}\".format(len(faltantes_meteost)))\n",
    "print(\"Cantidad horas Totales: {}\".format(len(cantidad_totales)))\n",
    "\n",
    "faltantes_meteost"
   ]
  },
  {
   "cell_type": "code",
   "execution_count": 17,
   "metadata": {
    "ExecuteTime": {
     "end_time": "2021-03-01T02:57:56.114776Z",
     "start_time": "2021-03-01T02:57:56.084748Z"
    }
   },
   "outputs": [
    {
     "name": "stdout",
     "output_type": "stream",
     "text": [
      "Cantidad horas faltantes: 216\n",
      "Cantidad horas Totales: 3792\n"
     ]
    },
    {
     "data": {
      "text/plain": [
       "DatetimeIndex(['2020-04-28 06:00:00', '2020-04-28 07:00:00',\n",
       "               '2020-04-28 08:00:00', '2020-04-28 09:00:00',\n",
       "               '2020-04-28 10:00:00', '2020-04-28 11:00:00',\n",
       "               '2020-04-28 12:00:00', '2020-04-28 13:00:00',\n",
       "               '2020-04-28 14:00:00', '2020-04-28 15:00:00',\n",
       "               ...\n",
       "               '2020-08-08 08:00:00', '2020-08-08 09:00:00',\n",
       "               '2020-08-08 10:00:00', '2020-08-08 11:00:00',\n",
       "               '2020-08-08 12:00:00', '2020-08-08 13:00:00',\n",
       "               '2020-08-08 14:00:00', '2020-08-08 15:00:00',\n",
       "               '2020-08-08 16:00:00', '2020-08-08 17:00:00'],\n",
       "              dtype='datetime64[ns]', length=216, freq=None)"
      ]
     },
     "execution_count": 17,
     "metadata": {},
     "output_type": "execute_result"
    }
   ],
   "source": [
    "# Horas faltantes (No confundir con vacíos) pyranometers\n",
    "\n",
    "cantidad_totales = pd.date_range(start = min_date, end = max_date, freq=\"H\" )\n",
    "cantidad_totales = pd.DatetimeIndex([d for d in cantidad_totales if (d.hour>=6) and (d.hour<18)])\n",
    "faltantes_pyranometers = cantidad_totales.difference(pyranometers[\"Fecha\"])\n",
    "\n",
    "print(\"Cantidad horas faltantes: {}\".format(len(faltantes_pyranometers)))\n",
    "print(\"Cantidad horas Totales: {}\".format(len(cantidad_totales)))\n",
    "\n",
    "faltantes_pyranometers"
   ]
  },
  {
   "cell_type": "code",
   "execution_count": 18,
   "metadata": {
    "ExecuteTime": {
     "end_time": "2021-03-01T02:57:56.130745Z",
     "start_time": "2021-03-01T02:57:56.115747Z"
    }
   },
   "outputs": [
    {
     "data": {
      "text/plain": [
       "Fecha\n",
       "2020-04-28    23\n",
       "2020-04-29    24\n",
       "2020-04-30    24\n",
       "2020-05-01    24\n",
       "2020-05-02    24\n",
       "2020-05-03    24\n",
       "2020-05-04    24\n",
       "2020-05-05    24\n",
       "2020-05-06    24\n",
       "2020-05-07    24\n",
       "2020-05-08    24\n",
       "2020-05-09    24\n",
       "2020-05-10    24\n",
       "2020-08-05    23\n",
       "2020-08-06    24\n",
       "2020-08-07    24\n",
       "2020-08-08    24\n",
       "Name: Freq, dtype: int64"
      ]
     },
     "execution_count": 18,
     "metadata": {},
     "output_type": "execute_result"
    }
   ],
   "source": [
    "# Faltantes por día meteost\n",
    "df_meteost = pd.DataFrame(data=faltantes_meteost,columns=[\"Fecha\"])\n",
    "df_meteost[\"Freq\"] = 1\n",
    "df_meteost[\"Fecha\"] = df_meteost[\"Fecha\"].dt.date\n",
    "faltantes_dia_meteost = df_meteost.groupby(\"Fecha\")[\"Freq\"].sum()\n",
    "faltantes_dia_meteost"
   ]
  },
  {
   "cell_type": "code",
   "execution_count": 19,
   "metadata": {
    "ExecuteTime": {
     "end_time": "2021-03-01T02:57:56.322777Z",
     "start_time": "2021-03-01T02:57:56.131776Z"
    }
   },
   "outputs": [
    {
     "data": {
      "text/plain": [
       "<BarContainer object of 17 artists>"
      ]
     },
     "execution_count": 19,
     "metadata": {},
     "output_type": "execute_result"
    },
    {
     "data": {
      "image/png": "[encoded data removed]",
      "text/plain": [
       "<Figure size 432x288 with 1 Axes>"
      ]
     },
     "metadata": {
      "needs_background": "light"
     },
     "output_type": "display_data"
    }
   ],
   "source": [
    "plt.bar(faltantes_dia_meteost.index, faltantes_dia_meteost)"
   ]
  },
  {
   "cell_type": "code",
   "execution_count": 20,
   "metadata": {
    "ExecuteTime": {
     "end_time": "2021-03-01T02:57:56.338814Z",
     "start_time": "2021-03-01T02:57:56.323747Z"
    }
   },
   "outputs": [
    {
     "data": {
      "text/plain": [
       "Fecha\n",
       "2020-04-28    12\n",
       "2020-04-29    12\n",
       "2020-04-30    12\n",
       "2020-05-01    12\n",
       "2020-05-02    12\n",
       "2020-05-03    12\n",
       "2020-05-04    12\n",
       "2020-05-05    12\n",
       "2020-05-06    12\n",
       "2020-05-07    12\n",
       "2020-05-08    12\n",
       "2020-05-09    12\n",
       "2020-05-10    12\n",
       "2020-05-11    12\n",
       "2020-08-05    12\n",
       "2020-08-06    12\n",
       "2020-08-07    12\n",
       "2020-08-08    12\n",
       "Name: Freq, dtype: int64"
      ]
     },
     "execution_count": 20,
     "metadata": {},
     "output_type": "execute_result"
    }
   ],
   "source": [
    "# Faltantes por día pyranometers\n",
    "df_pyranometers = pd.DataFrame(data=faltantes_pyranometers,columns=[\"Fecha\"])\n",
    "df_pyranometers[\"Freq\"] = 1\n",
    "df_pyranometers[\"Fecha\"] = df_pyranometers[\"Fecha\"].dt.date\n",
    "faltantes_dia_pyranometers = df_pyranometers.groupby(\"Fecha\")[\"Freq\"].sum()\n",
    "faltantes_dia_pyranometers"
   ]
  },
  {
   "cell_type": "code",
   "execution_count": 21,
   "metadata": {
    "ExecuteTime": {
     "end_time": "2021-03-01T02:57:56.509410Z",
     "start_time": "2021-03-01T02:57:56.339548Z"
    }
   },
   "outputs": [
    {
     "data": {
      "text/plain": [
       "<BarContainer object of 18 artists>"
      ]
     },
     "execution_count": 21,
     "metadata": {},
     "output_type": "execute_result"
    },
    {
     "data": {
      "image/png": "[encoded data removed]",
      "text/plain": [
       "<Figure size 432x288 with 1 Axes>"
      ]
     },
     "metadata": {
      "needs_background": "light"
     },
     "output_type": "display_data"
    }
   ],
   "source": [
    "plt.bar(faltantes_dia_pyranometers.index, faltantes_dia_pyranometers)"
   ]
  },
  {
   "cell_type": "code",
   "execution_count": 12,
   "metadata": {},
   "outputs": [],
   "source": [
    "pyranometers.to_csv('pyranometers.csv', header=True, index=False)\n",
    "meteost.to_csv('meteost.csv', header=True, index=False)"
   ]
  },
  {
   "cell_type": "code",
   "execution_count": 13,
   "metadata": {},
   "outputs": [
    {
     "data": {
      "text/plain": [
       "['Fecha',\n",
       " 'CU 1',\n",
       " 'CU 2',\n",
       " 'CU 3',\n",
       " 'CU 4',\n",
       " 'CU 5',\n",
       " 'CU 6',\n",
       " 'CU 7',\n",
       " 'CU 8',\n",
       " 'CU 9',\n",
       " ' CU 10',\n",
       " 'Cu 11',\n",
       " 'CU 12']"
      ]
     },
     "execution_count": 13,
     "metadata": {},
     "output_type": "execute_result"
    }
   ],
   "source": [
    "list(pyranometers)"
   ]
  }
 ],
 "metadata": {
  "kernelspec": {
   "display_name": "Python 3",
   "language": "python",
   "name": "python3"
  },
  "language_info": {
   "codemirror_mode": {
    "name": "ipython",
    "version": 3
   },
   "file_extension": ".py",
   "mimetype": "text/x-python",
   "name": "python",
   "nbconvert_exporter": "python",
   "pygments_lexer": "ipython3",
   "version": "3.8.5"
  },
  "latex_envs": {
   "LaTeX_envs_menu_present": true,
   "autoclose": false,
   "autocomplete": true,
   "bibliofile": "biblio.bib",
   "cite_by": "apalike",
   "current_citInitial": 1,
   "eqLabelWithNumbers": true,
   "eqNumInitial": 1,
   "hotkeys": {
    "equation": "Ctrl-E",
    "itemize": "Ctrl-I"
   },
   "labels_anchors": false,
   "latex_user_defs": false,
   "report_style_numbering": false,
   "user_envs_cfg": false
  },
  "toc": {
   "base_numbering": 1,
   "nav_menu": {},
   "number_sections": true,
   "sideBar": true,
   "skip_h1_title": false,
   "title_cell": "Table of Contents",
   "title_sidebar": "Contents",
   "toc_cell": false,
   "toc_position": {},
   "toc_section_display": true,
   "toc_window_display": false
  },
  "varInspector": {
   "cols": {
    "lenName": 16,
    "lenType": 16,
    "lenVar": 40
   },
   "kernels_config": {
    "python": {
     "delete_cmd_postfix": "",
     "delete_cmd_prefix": "del ",
     "library": "var_list.py",
     "varRefreshCmd": "print(var_dic_list())"
    },
    "r": {
     "delete_cmd_postfix": ") ",
     "delete_cmd_prefix": "rm(",
     "library": "var_list.r",
     "varRefreshCmd": "cat(var_dic_list()) "
    }
   },
   "types_to_exclude": [
    "module",
    "function",
    "builtin_function_or_method",
    "instance",
    "_Feature"
   ],
   "window_display": false
  }
 },
 "nbformat": 4,
 "nbformat_minor": 4
}
