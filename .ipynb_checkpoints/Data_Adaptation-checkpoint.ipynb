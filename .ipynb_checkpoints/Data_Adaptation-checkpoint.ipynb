{
 "cells": [
  {
   "cell_type": "markdown",
   "metadata": {
    "id": "EGE_3KGCeOs6"
   },
   "source": [
    "# Proyecto de Grado\n",
    "\n",
    "Presentado por Sofía Gutiérrez R [201612121]\n",
    "\n"
   ]
  },
  {
   "cell_type": "markdown",
   "metadata": {},
   "source": [
    "<h1 id=\"tocheading\">Table of Contents</h1>\n",
    "<div id=\"toc\"></div>"
   ]
  },
  {
   "cell_type": "markdown",
   "metadata": {},
   "source": [
    "Se importan las librerías necesarias"
   ]
  },
  {
   "cell_type": "code",
   "execution_count": 104,
   "metadata": {
    "ExecuteTime": {
     "end_time": "2021-03-05T02:57:14.712655Z",
     "start_time": "2021-03-05T02:57:14.695684Z"
    },
    "id": "-przyZjyeOtJ"
   },
   "outputs": [],
   "source": [
    "# Librerías\n",
    "import math\n",
    "import pandas as pd\n",
    "import matplotlib.pyplot as plt\n",
    "import numpy as np\n",
    "from sklearn import linear_model\n",
    "from sklearn.model_selection import train_test_split\n",
    "from sklearn.metrics import mean_squared_error, mean_absolute_error, r2_score#,max_error, mean_absolute_percentage_error\n",
    "from sklearn.ensemble import RandomForestRegressor\n",
    "from datetime import datetime\n",
    "\n",
    "import os\n",
    "\n",
    "# Numerics\n",
    "numerics = ['int16', 'int32', 'int64', 'float16', 'float32', 'float64']"
   ]
  },
  {
   "cell_type": "markdown",
   "metadata": {},
   "source": [
    "# Se cargan los datos"
   ]
  },
  {
   "cell_type": "markdown",
   "metadata": {},
   "source": [
    "## Todos los datos del SD, nuevo archivo"
   ]
  },
  {
   "cell_type": "code",
   "execution_count": 2,
   "metadata": {
    "colab": {
     "base_uri": "https://localhost:8080/",
     "height": 35
    },
    "id": "gjGsw2VIOlrR",
    "outputId": "05e75de0-4e01-4311-fb41-cc632d2be325"
   },
   "outputs": [
    {
     "name": "stdout",
     "output_type": "stream",
     "text": [
      "Data\\UNIANDES_SD_2021-02-01.xlsx\n"
     ]
    }
   ],
   "source": [
    "ruta = os.path.join(\"Data\",\"\")\n",
    "print(ruta+'UNIANDES_SD_2021-02-01.xlsx')"
   ]
  },
  {
   "cell_type": "code",
   "execution_count": 3,
   "metadata": {
    "ExecuteTime": {
     "end_time": "2021-03-05T02:28:55.257417Z",
     "start_time": "2021-03-05T02:28:54.981934Z"
    },
    "colab": {
     "base_uri": "https://localhost:8080/",
     "height": 392
    },
    "id": "TJLUKZ0TeOtL",
    "outputId": "bacd3084-21de-4d0b-9db3-252621e3595e"
   },
   "outputs": [],
   "source": [
    "# Se cargan los datos\n",
    "datosSD = pd.read_excel(ruta+\"UNIANDES_SD_2021-02-01.xlsx\")\n",
    "datosSDconFecha = datosSD.set_index('Date & Time')"
   ]
  },
  {
   "cell_type": "code",
   "execution_count": 4,
   "metadata": {},
   "outputs": [
    {
     "data": {
      "text/html": [
       "<div>\n",
       "<style scoped>\n",
       "    .dataframe tbody tr th:only-of-type {\n",
       "        vertical-align: middle;\n",
       "    }\n",
       "\n",
       "    .dataframe tbody tr th {\n",
       "        vertical-align: top;\n",
       "    }\n",
       "\n",
       "    .dataframe thead th {\n",
       "        text-align: right;\n",
       "    }\n",
       "</style>\n",
       "<table border=\"1\" class=\"dataframe\">\n",
       "  <thead>\n",
       "    <tr style=\"text-align: right;\">\n",
       "      <th></th>\n",
       "      <th>Date &amp; Time</th>\n",
       "      <th>Date</th>\n",
       "      <th>Time</th>\n",
       "      <th>Temp - °C</th>\n",
       "      <th>Temp. Alta - °C</th>\n",
       "      <th>Temp. Baja - °C</th>\n",
       "      <th>Hum - %</th>\n",
       "      <th>Punto de rocío - °C</th>\n",
       "      <th>Wet Bulb - °C</th>\n",
       "      <th>Velocidad del viento - m/s</th>\n",
       "      <th>...</th>\n",
       "      <th>Tasa de lluvia - mm/h</th>\n",
       "      <th>Rad Solar - W/m^2</th>\n",
       "      <th>Energía solar</th>\n",
       "      <th>Rad Solar Alta - W/m^2</th>\n",
       "      <th>ET - mm</th>\n",
       "      <th>El índice UV - Index</th>\n",
       "      <th>Dosis de UV</th>\n",
       "      <th>Alto índice UV - Index</th>\n",
       "      <th>Días-grado de calentamiento</th>\n",
       "      <th>Días-grado de enfriamiento</th>\n",
       "    </tr>\n",
       "  </thead>\n",
       "  <tbody>\n",
       "    <tr>\n",
       "      <th>0</th>\n",
       "      <td>2019-05-07 16:00:00</td>\n",
       "      <td>2019-05-07</td>\n",
       "      <td>16:00:00</td>\n",
       "      <td>21.2</td>\n",
       "      <td>21.3</td>\n",
       "      <td>21.2</td>\n",
       "      <td>47</td>\n",
       "      <td>9.5</td>\n",
       "      <td>12.2</td>\n",
       "      <td>0.9</td>\n",
       "      <td>...</td>\n",
       "      <td>0.0</td>\n",
       "      <td>--</td>\n",
       "      <td>NaN</td>\n",
       "      <td>NaN</td>\n",
       "      <td>0.00</td>\n",
       "      <td>1.6</td>\n",
       "      <td>0.69</td>\n",
       "      <td>1.6</td>\n",
       "      <td>0</td>\n",
       "      <td>0.217</td>\n",
       "    </tr>\n",
       "    <tr>\n",
       "      <th>1</th>\n",
       "      <td>2019-05-07 17:00:00</td>\n",
       "      <td>2019-05-07</td>\n",
       "      <td>17:00:00</td>\n",
       "      <td>19.4</td>\n",
       "      <td>23</td>\n",
       "      <td>19.4</td>\n",
       "      <td>52</td>\n",
       "      <td>9.3</td>\n",
       "      <td>11.8</td>\n",
       "      <td>0.4</td>\n",
       "      <td>...</td>\n",
       "      <td>0.0</td>\n",
       "      <td>59</td>\n",
       "      <td>5.08</td>\n",
       "      <td>162</td>\n",
       "      <td>0.05</td>\n",
       "      <td>0.4</td>\n",
       "      <td>0.17</td>\n",
       "      <td>1.6</td>\n",
       "      <td>0</td>\n",
       "      <td>0.083</td>\n",
       "    </tr>\n",
       "    <tr>\n",
       "      <th>2</th>\n",
       "      <td>2019-05-07 18:00:00</td>\n",
       "      <td>2019-05-07</td>\n",
       "      <td>18:00:00</td>\n",
       "      <td>17.4</td>\n",
       "      <td>19.5</td>\n",
       "      <td>17.4</td>\n",
       "      <td>60</td>\n",
       "      <td>9.6</td>\n",
       "      <td>11.7</td>\n",
       "      <td>1.3</td>\n",
       "      <td>...</td>\n",
       "      <td>0.0</td>\n",
       "      <td>47</td>\n",
       "      <td>4.04</td>\n",
       "      <td>97</td>\n",
       "      <td>0.05</td>\n",
       "      <td>0</td>\n",
       "      <td>0</td>\n",
       "      <td>0.5</td>\n",
       "      <td>0.067</td>\n",
       "      <td>0</td>\n",
       "    </tr>\n",
       "    <tr>\n",
       "      <th>3</th>\n",
       "      <td>2019-05-07 19:00:00</td>\n",
       "      <td>2019-05-07</td>\n",
       "      <td>19:00:00</td>\n",
       "      <td>16.4</td>\n",
       "      <td>17.4</td>\n",
       "      <td>16.3</td>\n",
       "      <td>64</td>\n",
       "      <td>9.6</td>\n",
       "      <td>11.5</td>\n",
       "      <td>2.2</td>\n",
       "      <td>...</td>\n",
       "      <td>0.0</td>\n",
       "      <td>0</td>\n",
       "      <td>0</td>\n",
       "      <td>0</td>\n",
       "      <td>0.03</td>\n",
       "      <td>0</td>\n",
       "      <td>0</td>\n",
       "      <td>0</td>\n",
       "      <td>0.142</td>\n",
       "      <td>0</td>\n",
       "    </tr>\n",
       "    <tr>\n",
       "      <th>4</th>\n",
       "      <td>2019-05-07 20:00:00</td>\n",
       "      <td>2019-05-07</td>\n",
       "      <td>20:00:00</td>\n",
       "      <td>16.3</td>\n",
       "      <td>16.6</td>\n",
       "      <td>16.1</td>\n",
       "      <td>67</td>\n",
       "      <td>10.2</td>\n",
       "      <td>11.9</td>\n",
       "      <td>0.9</td>\n",
       "      <td>...</td>\n",
       "      <td>0.0</td>\n",
       "      <td>0</td>\n",
       "      <td>0</td>\n",
       "      <td>0</td>\n",
       "      <td>0.03</td>\n",
       "      <td>0</td>\n",
       "      <td>0</td>\n",
       "      <td>0</td>\n",
       "      <td>0.15</td>\n",
       "      <td>0</td>\n",
       "    </tr>\n",
       "  </tbody>\n",
       "</table>\n",
       "<p>5 rows × 30 columns</p>\n",
       "</div>"
      ],
      "text/plain": [
       "          Date & Time       Date      Time Temp - °C Temp. Alta - °C  \\\n",
       "0 2019-05-07 16:00:00 2019-05-07  16:00:00      21.2            21.3   \n",
       "1 2019-05-07 17:00:00 2019-05-07  17:00:00      19.4              23   \n",
       "2 2019-05-07 18:00:00 2019-05-07  18:00:00      17.4            19.5   \n",
       "3 2019-05-07 19:00:00 2019-05-07  19:00:00      16.4            17.4   \n",
       "4 2019-05-07 20:00:00 2019-05-07  20:00:00      16.3            16.6   \n",
       "\n",
       "  Temp. Baja - °C Hum - % Punto de rocío - °C Wet Bulb - °C  \\\n",
       "0            21.2      47                 9.5          12.2   \n",
       "1            19.4      52                 9.3          11.8   \n",
       "2            17.4      60                 9.6          11.7   \n",
       "3            16.3      64                 9.6          11.5   \n",
       "4            16.1      67                10.2          11.9   \n",
       "\n",
       "  Velocidad del viento - m/s  ... Tasa de lluvia - mm/h Rad Solar - W/m^2  \\\n",
       "0                        0.9  ...                   0.0                --   \n",
       "1                        0.4  ...                   0.0                59   \n",
       "2                        1.3  ...                   0.0                47   \n",
       "3                        2.2  ...                   0.0                 0   \n",
       "4                        0.9  ...                   0.0                 0   \n",
       "\n",
       "   Energía solar Rad Solar Alta - W/m^2 ET - mm El índice UV - Index  \\\n",
       "0            NaN                    NaN    0.00                  1.6   \n",
       "1           5.08                    162    0.05                  0.4   \n",
       "2           4.04                     97    0.05                    0   \n",
       "3              0                      0    0.03                    0   \n",
       "4              0                      0    0.03                    0   \n",
       "\n",
       "  Dosis de UV Alto índice UV - Index  Días-grado de calentamiento  \\\n",
       "0        0.69                    1.6                            0   \n",
       "1        0.17                    1.6                            0   \n",
       "2           0                    0.5                        0.067   \n",
       "3           0                      0                        0.142   \n",
       "4           0                      0                         0.15   \n",
       "\n",
       "   Días-grado de enfriamiento  \n",
       "0                       0.217  \n",
       "1                       0.083  \n",
       "2                           0  \n",
       "3                           0  \n",
       "4                           0  \n",
       "\n",
       "[5 rows x 30 columns]"
      ]
     },
     "execution_count": 4,
     "metadata": {},
     "output_type": "execute_result"
    }
   ],
   "source": [
    "datosSD.head()"
   ]
  },
  {
   "cell_type": "code",
   "execution_count": 5,
   "metadata": {},
   "outputs": [
    {
     "data": {
      "text/html": [
       "<div>\n",
       "<style scoped>\n",
       "    .dataframe tbody tr th:only-of-type {\n",
       "        vertical-align: middle;\n",
       "    }\n",
       "\n",
       "    .dataframe tbody tr th {\n",
       "        vertical-align: top;\n",
       "    }\n",
       "\n",
       "    .dataframe thead th {\n",
       "        text-align: right;\n",
       "    }\n",
       "</style>\n",
       "<table border=\"1\" class=\"dataframe\">\n",
       "  <thead>\n",
       "    <tr style=\"text-align: right;\">\n",
       "      <th></th>\n",
       "      <th>Alta velocidad del viento - m/s</th>\n",
       "      <th>Barómetro - mm Hg</th>\n",
       "      <th>Lluvia - mm</th>\n",
       "      <th>Tasa de lluvia - mm/h</th>\n",
       "      <th>ET - mm</th>\n",
       "    </tr>\n",
       "  </thead>\n",
       "  <tbody>\n",
       "    <tr>\n",
       "      <th>count</th>\n",
       "      <td>15253.000000</td>\n",
       "      <td>15253.000000</td>\n",
       "      <td>15253.000000</td>\n",
       "      <td>15253.000000</td>\n",
       "      <td>15253.000000</td>\n",
       "    </tr>\n",
       "    <tr>\n",
       "      <th>mean</th>\n",
       "      <td>5.095575</td>\n",
       "      <td>557.299141</td>\n",
       "      <td>0.117393</td>\n",
       "      <td>0.667987</td>\n",
       "      <td>0.110925</td>\n",
       "    </tr>\n",
       "    <tr>\n",
       "      <th>std</th>\n",
       "      <td>2.534429</td>\n",
       "      <td>1.240379</td>\n",
       "      <td>0.932272</td>\n",
       "      <td>6.225197</td>\n",
       "      <td>0.141728</td>\n",
       "    </tr>\n",
       "    <tr>\n",
       "      <th>min</th>\n",
       "      <td>0.000000</td>\n",
       "      <td>551.300000</td>\n",
       "      <td>0.000000</td>\n",
       "      <td>0.000000</td>\n",
       "      <td>0.000000</td>\n",
       "    </tr>\n",
       "    <tr>\n",
       "      <th>25%</th>\n",
       "      <td>3.100000</td>\n",
       "      <td>556.500000</td>\n",
       "      <td>0.000000</td>\n",
       "      <td>0.000000</td>\n",
       "      <td>0.030000</td>\n",
       "    </tr>\n",
       "    <tr>\n",
       "      <th>50%</th>\n",
       "      <td>4.900000</td>\n",
       "      <td>557.300000</td>\n",
       "      <td>0.000000</td>\n",
       "      <td>0.000000</td>\n",
       "      <td>0.030000</td>\n",
       "    </tr>\n",
       "    <tr>\n",
       "      <th>75%</th>\n",
       "      <td>6.700000</td>\n",
       "      <td>558.100000</td>\n",
       "      <td>0.000000</td>\n",
       "      <td>0.000000</td>\n",
       "      <td>0.180000</td>\n",
       "    </tr>\n",
       "    <tr>\n",
       "      <th>max</th>\n",
       "      <td>19.200000</td>\n",
       "      <td>564.400000</td>\n",
       "      <td>30.600000</td>\n",
       "      <td>235.200000</td>\n",
       "      <td>0.760000</td>\n",
       "    </tr>\n",
       "  </tbody>\n",
       "</table>\n",
       "</div>"
      ],
      "text/plain": [
       "       Alta velocidad del viento - m/s  Barómetro - mm Hg   Lluvia - mm  \\\n",
       "count                     15253.000000       15253.000000  15253.000000   \n",
       "mean                          5.095575         557.299141      0.117393   \n",
       "std                           2.534429           1.240379      0.932272   \n",
       "min                           0.000000         551.300000      0.000000   \n",
       "25%                           3.100000         556.500000      0.000000   \n",
       "50%                           4.900000         557.300000      0.000000   \n",
       "75%                           6.700000         558.100000      0.000000   \n",
       "max                          19.200000         564.400000     30.600000   \n",
       "\n",
       "       Tasa de lluvia - mm/h       ET - mm  \n",
       "count           15253.000000  15253.000000  \n",
       "mean                0.667987      0.110925  \n",
       "std                 6.225197      0.141728  \n",
       "min                 0.000000      0.000000  \n",
       "25%                 0.000000      0.030000  \n",
       "50%                 0.000000      0.030000  \n",
       "75%                 0.000000      0.180000  \n",
       "max               235.200000      0.760000  "
      ]
     },
     "execution_count": 5,
     "metadata": {},
     "output_type": "execute_result"
    }
   ],
   "source": [
    "datosSD.describe()"
   ]
  },
  {
   "cell_type": "code",
   "execution_count": 6,
   "metadata": {},
   "outputs": [
    {
     "data": {
      "text/plain": [
       "Date & Time                        2019-05-07 16:00:00\n",
       "Date                               2019-05-07 00:00:00\n",
       "Time                                          00:00:00\n",
       "Alta velocidad del viento - m/s                      0\n",
       "Barómetro - mm Hg                                551.3\n",
       "Lluvia - mm                                          0\n",
       "Tasa de lluvia - mm/h                                0\n",
       "ET - mm                                              0\n",
       "dtype: object"
      ]
     },
     "execution_count": 6,
     "metadata": {},
     "output_type": "execute_result"
    }
   ],
   "source": [
    "datosSD.min()"
   ]
  },
  {
   "cell_type": "code",
   "execution_count": 7,
   "metadata": {},
   "outputs": [
    {
     "data": {
      "text/plain": [
       "Date & Time                        2021-02-01 09:00:00\n",
       "Date                               2021-02-01 00:00:00\n",
       "Time                                          23:00:00\n",
       "Alta velocidad del viento - m/s                   19.2\n",
       "Barómetro - mm Hg                                564.4\n",
       "Lluvia - mm                                       30.6\n",
       "Tasa de lluvia - mm/h                            235.2\n",
       "ET - mm                                           0.76\n",
       "dtype: object"
      ]
     },
     "execution_count": 7,
     "metadata": {},
     "output_type": "execute_result"
    }
   ],
   "source": [
    "datosSD.max()"
   ]
  },
  {
   "cell_type": "code",
   "execution_count": 8,
   "metadata": {},
   "outputs": [
    {
     "data": {
      "text/html": [
       "<div>\n",
       "<style scoped>\n",
       "    .dataframe tbody tr th:only-of-type {\n",
       "        vertical-align: middle;\n",
       "    }\n",
       "\n",
       "    .dataframe tbody tr th {\n",
       "        vertical-align: top;\n",
       "    }\n",
       "\n",
       "    .dataframe thead th {\n",
       "        text-align: right;\n",
       "    }\n",
       "</style>\n",
       "<table border=\"1\" class=\"dataframe\">\n",
       "  <thead>\n",
       "    <tr style=\"text-align: right;\">\n",
       "      <th></th>\n",
       "      <th>Date &amp; Time</th>\n",
       "      <th>Date</th>\n",
       "      <th>Time</th>\n",
       "      <th>Temp - °C</th>\n",
       "      <th>Temp. Alta - °C</th>\n",
       "      <th>Temp. Baja - °C</th>\n",
       "      <th>Hum - %</th>\n",
       "      <th>Punto de rocío - °C</th>\n",
       "      <th>Wet Bulb - °C</th>\n",
       "      <th>Velocidad del viento - m/s</th>\n",
       "      <th>...</th>\n",
       "      <th>Tasa de lluvia - mm/h</th>\n",
       "      <th>Rad Solar - W/m^2</th>\n",
       "      <th>Energía solar</th>\n",
       "      <th>Rad Solar Alta - W/m^2</th>\n",
       "      <th>ET - mm</th>\n",
       "      <th>El índice UV - Index</th>\n",
       "      <th>Dosis de UV</th>\n",
       "      <th>Alto índice UV - Index</th>\n",
       "      <th>Días-grado de calentamiento</th>\n",
       "      <th>Días-grado de enfriamiento</th>\n",
       "    </tr>\n",
       "  </thead>\n",
       "  <tbody>\n",
       "    <tr>\n",
       "      <th>0</th>\n",
       "      <td>False</td>\n",
       "      <td>False</td>\n",
       "      <td>False</td>\n",
       "      <td>False</td>\n",
       "      <td>False</td>\n",
       "      <td>False</td>\n",
       "      <td>False</td>\n",
       "      <td>False</td>\n",
       "      <td>False</td>\n",
       "      <td>False</td>\n",
       "      <td>...</td>\n",
       "      <td>False</td>\n",
       "      <td>True</td>\n",
       "      <td>True</td>\n",
       "      <td>True</td>\n",
       "      <td>False</td>\n",
       "      <td>False</td>\n",
       "      <td>False</td>\n",
       "      <td>False</td>\n",
       "      <td>False</td>\n",
       "      <td>False</td>\n",
       "    </tr>\n",
       "    <tr>\n",
       "      <th>1</th>\n",
       "      <td>False</td>\n",
       "      <td>False</td>\n",
       "      <td>False</td>\n",
       "      <td>False</td>\n",
       "      <td>False</td>\n",
       "      <td>False</td>\n",
       "      <td>False</td>\n",
       "      <td>False</td>\n",
       "      <td>False</td>\n",
       "      <td>False</td>\n",
       "      <td>...</td>\n",
       "      <td>False</td>\n",
       "      <td>False</td>\n",
       "      <td>False</td>\n",
       "      <td>False</td>\n",
       "      <td>False</td>\n",
       "      <td>False</td>\n",
       "      <td>False</td>\n",
       "      <td>False</td>\n",
       "      <td>False</td>\n",
       "      <td>False</td>\n",
       "    </tr>\n",
       "    <tr>\n",
       "      <th>2</th>\n",
       "      <td>False</td>\n",
       "      <td>False</td>\n",
       "      <td>False</td>\n",
       "      <td>False</td>\n",
       "      <td>False</td>\n",
       "      <td>False</td>\n",
       "      <td>False</td>\n",
       "      <td>False</td>\n",
       "      <td>False</td>\n",
       "      <td>False</td>\n",
       "      <td>...</td>\n",
       "      <td>False</td>\n",
       "      <td>False</td>\n",
       "      <td>False</td>\n",
       "      <td>False</td>\n",
       "      <td>False</td>\n",
       "      <td>False</td>\n",
       "      <td>False</td>\n",
       "      <td>False</td>\n",
       "      <td>False</td>\n",
       "      <td>False</td>\n",
       "    </tr>\n",
       "    <tr>\n",
       "      <th>3</th>\n",
       "      <td>False</td>\n",
       "      <td>False</td>\n",
       "      <td>False</td>\n",
       "      <td>False</td>\n",
       "      <td>False</td>\n",
       "      <td>False</td>\n",
       "      <td>False</td>\n",
       "      <td>False</td>\n",
       "      <td>False</td>\n",
       "      <td>False</td>\n",
       "      <td>...</td>\n",
       "      <td>False</td>\n",
       "      <td>False</td>\n",
       "      <td>False</td>\n",
       "      <td>False</td>\n",
       "      <td>False</td>\n",
       "      <td>False</td>\n",
       "      <td>False</td>\n",
       "      <td>False</td>\n",
       "      <td>False</td>\n",
       "      <td>False</td>\n",
       "    </tr>\n",
       "    <tr>\n",
       "      <th>4</th>\n",
       "      <td>False</td>\n",
       "      <td>False</td>\n",
       "      <td>False</td>\n",
       "      <td>False</td>\n",
       "      <td>False</td>\n",
       "      <td>False</td>\n",
       "      <td>False</td>\n",
       "      <td>False</td>\n",
       "      <td>False</td>\n",
       "      <td>False</td>\n",
       "      <td>...</td>\n",
       "      <td>False</td>\n",
       "      <td>False</td>\n",
       "      <td>False</td>\n",
       "      <td>False</td>\n",
       "      <td>False</td>\n",
       "      <td>False</td>\n",
       "      <td>False</td>\n",
       "      <td>False</td>\n",
       "      <td>False</td>\n",
       "      <td>False</td>\n",
       "    </tr>\n",
       "    <tr>\n",
       "      <th>...</th>\n",
       "      <td>...</td>\n",
       "      <td>...</td>\n",
       "      <td>...</td>\n",
       "      <td>...</td>\n",
       "      <td>...</td>\n",
       "      <td>...</td>\n",
       "      <td>...</td>\n",
       "      <td>...</td>\n",
       "      <td>...</td>\n",
       "      <td>...</td>\n",
       "      <td>...</td>\n",
       "      <td>...</td>\n",
       "      <td>...</td>\n",
       "      <td>...</td>\n",
       "      <td>...</td>\n",
       "      <td>...</td>\n",
       "      <td>...</td>\n",
       "      <td>...</td>\n",
       "      <td>...</td>\n",
       "      <td>...</td>\n",
       "      <td>...</td>\n",
       "    </tr>\n",
       "    <tr>\n",
       "      <th>15248</th>\n",
       "      <td>False</td>\n",
       "      <td>False</td>\n",
       "      <td>False</td>\n",
       "      <td>False</td>\n",
       "      <td>False</td>\n",
       "      <td>False</td>\n",
       "      <td>False</td>\n",
       "      <td>False</td>\n",
       "      <td>False</td>\n",
       "      <td>False</td>\n",
       "      <td>...</td>\n",
       "      <td>False</td>\n",
       "      <td>False</td>\n",
       "      <td>False</td>\n",
       "      <td>False</td>\n",
       "      <td>False</td>\n",
       "      <td>False</td>\n",
       "      <td>False</td>\n",
       "      <td>False</td>\n",
       "      <td>False</td>\n",
       "      <td>False</td>\n",
       "    </tr>\n",
       "    <tr>\n",
       "      <th>15249</th>\n",
       "      <td>False</td>\n",
       "      <td>False</td>\n",
       "      <td>False</td>\n",
       "      <td>False</td>\n",
       "      <td>False</td>\n",
       "      <td>False</td>\n",
       "      <td>False</td>\n",
       "      <td>False</td>\n",
       "      <td>False</td>\n",
       "      <td>False</td>\n",
       "      <td>...</td>\n",
       "      <td>False</td>\n",
       "      <td>False</td>\n",
       "      <td>False</td>\n",
       "      <td>False</td>\n",
       "      <td>False</td>\n",
       "      <td>False</td>\n",
       "      <td>False</td>\n",
       "      <td>False</td>\n",
       "      <td>False</td>\n",
       "      <td>False</td>\n",
       "    </tr>\n",
       "    <tr>\n",
       "      <th>15250</th>\n",
       "      <td>False</td>\n",
       "      <td>False</td>\n",
       "      <td>False</td>\n",
       "      <td>False</td>\n",
       "      <td>False</td>\n",
       "      <td>False</td>\n",
       "      <td>False</td>\n",
       "      <td>False</td>\n",
       "      <td>False</td>\n",
       "      <td>False</td>\n",
       "      <td>...</td>\n",
       "      <td>False</td>\n",
       "      <td>False</td>\n",
       "      <td>False</td>\n",
       "      <td>False</td>\n",
       "      <td>False</td>\n",
       "      <td>False</td>\n",
       "      <td>False</td>\n",
       "      <td>False</td>\n",
       "      <td>False</td>\n",
       "      <td>False</td>\n",
       "    </tr>\n",
       "    <tr>\n",
       "      <th>15251</th>\n",
       "      <td>False</td>\n",
       "      <td>False</td>\n",
       "      <td>False</td>\n",
       "      <td>False</td>\n",
       "      <td>False</td>\n",
       "      <td>False</td>\n",
       "      <td>False</td>\n",
       "      <td>False</td>\n",
       "      <td>False</td>\n",
       "      <td>False</td>\n",
       "      <td>...</td>\n",
       "      <td>False</td>\n",
       "      <td>False</td>\n",
       "      <td>False</td>\n",
       "      <td>False</td>\n",
       "      <td>False</td>\n",
       "      <td>False</td>\n",
       "      <td>False</td>\n",
       "      <td>False</td>\n",
       "      <td>False</td>\n",
       "      <td>False</td>\n",
       "    </tr>\n",
       "    <tr>\n",
       "      <th>15252</th>\n",
       "      <td>False</td>\n",
       "      <td>False</td>\n",
       "      <td>False</td>\n",
       "      <td>False</td>\n",
       "      <td>False</td>\n",
       "      <td>False</td>\n",
       "      <td>False</td>\n",
       "      <td>False</td>\n",
       "      <td>False</td>\n",
       "      <td>False</td>\n",
       "      <td>...</td>\n",
       "      <td>False</td>\n",
       "      <td>False</td>\n",
       "      <td>False</td>\n",
       "      <td>False</td>\n",
       "      <td>False</td>\n",
       "      <td>False</td>\n",
       "      <td>False</td>\n",
       "      <td>False</td>\n",
       "      <td>False</td>\n",
       "      <td>False</td>\n",
       "    </tr>\n",
       "  </tbody>\n",
       "</table>\n",
       "<p>15253 rows × 30 columns</p>\n",
       "</div>"
      ],
      "text/plain": [
       "       Date & Time   Date   Time  Temp - °C  Temp. Alta - °C  Temp. Baja - °C  \\\n",
       "0            False  False  False      False            False            False   \n",
       "1            False  False  False      False            False            False   \n",
       "2            False  False  False      False            False            False   \n",
       "3            False  False  False      False            False            False   \n",
       "4            False  False  False      False            False            False   \n",
       "...            ...    ...    ...        ...              ...              ...   \n",
       "15248        False  False  False      False            False            False   \n",
       "15249        False  False  False      False            False            False   \n",
       "15250        False  False  False      False            False            False   \n",
       "15251        False  False  False      False            False            False   \n",
       "15252        False  False  False      False            False            False   \n",
       "\n",
       "       Hum - %  Punto de rocío - °C  Wet Bulb - °C  \\\n",
       "0        False                False          False   \n",
       "1        False                False          False   \n",
       "2        False                False          False   \n",
       "3        False                False          False   \n",
       "4        False                False          False   \n",
       "...        ...                  ...            ...   \n",
       "15248    False                False          False   \n",
       "15249    False                False          False   \n",
       "15250    False                False          False   \n",
       "15251    False                False          False   \n",
       "15252    False                False          False   \n",
       "\n",
       "       Velocidad del viento - m/s  ...  Tasa de lluvia - mm/h  \\\n",
       "0                           False  ...                  False   \n",
       "1                           False  ...                  False   \n",
       "2                           False  ...                  False   \n",
       "3                           False  ...                  False   \n",
       "4                           False  ...                  False   \n",
       "...                           ...  ...                    ...   \n",
       "15248                       False  ...                  False   \n",
       "15249                       False  ...                  False   \n",
       "15250                       False  ...                  False   \n",
       "15251                       False  ...                  False   \n",
       "15252                       False  ...                  False   \n",
       "\n",
       "       Rad Solar - W/m^2  Energía solar  Rad Solar Alta - W/m^2  ET - mm  \\\n",
       "0                   True           True                    True    False   \n",
       "1                  False          False                   False    False   \n",
       "2                  False          False                   False    False   \n",
       "3                  False          False                   False    False   \n",
       "4                  False          False                   False    False   \n",
       "...                  ...            ...                     ...      ...   \n",
       "15248              False          False                   False    False   \n",
       "15249              False          False                   False    False   \n",
       "15250              False          False                   False    False   \n",
       "15251              False          False                   False    False   \n",
       "15252              False          False                   False    False   \n",
       "\n",
       "       El índice UV - Index  Dosis de UV  Alto índice UV - Index  \\\n",
       "0                     False        False                   False   \n",
       "1                     False        False                   False   \n",
       "2                     False        False                   False   \n",
       "3                     False        False                   False   \n",
       "4                     False        False                   False   \n",
       "...                     ...          ...                     ...   \n",
       "15248                 False        False                   False   \n",
       "15249                 False        False                   False   \n",
       "15250                 False        False                   False   \n",
       "15251                 False        False                   False   \n",
       "15252                 False        False                   False   \n",
       "\n",
       "       Días-grado de calentamiento  Días-grado de enfriamiento  \n",
       "0                            False                       False  \n",
       "1                            False                       False  \n",
       "2                            False                       False  \n",
       "3                            False                       False  \n",
       "4                            False                       False  \n",
       "...                            ...                         ...  \n",
       "15248                        False                       False  \n",
       "15249                        False                       False  \n",
       "15250                        False                       False  \n",
       "15251                        False                       False  \n",
       "15252                        False                       False  \n",
       "\n",
       "[15253 rows x 30 columns]"
      ]
     },
     "execution_count": 8,
     "metadata": {},
     "output_type": "execute_result"
    }
   ],
   "source": [
    "#datosSD = datosSD.reset_index(drop=True)\n",
    "# Marcar Vacíos\n",
    "datosSD = datosSD.replace(\"--\", np.nan)\n",
    "# Mostrar de vacíos\n",
    "pd.isna(datosSD)"
   ]
  },
  {
   "cell_type": "code",
   "execution_count": 9,
   "metadata": {},
   "outputs": [
    {
     "data": {
      "text/plain": [
       "(15253, 30)"
      ]
     },
     "execution_count": 9,
     "metadata": {},
     "output_type": "execute_result"
    }
   ],
   "source": [
    "# Cantidad de vacíos\n",
    "datosSD[pd.isna(datosSD)].shape"
   ]
  },
  {
   "cell_type": "code",
   "execution_count": 10,
   "metadata": {},
   "outputs": [
    {
     "data": {
      "text/plain": [
       "False"
      ]
     },
     "execution_count": 10,
     "metadata": {},
     "output_type": "execute_result"
    }
   ],
   "source": [
    "datosSD[\"Temp - °C\"].isna().sum() == 0"
   ]
  },
  {
   "cell_type": "code",
   "execution_count": 11,
   "metadata": {},
   "outputs": [
    {
     "data": {
      "text/plain": [
       "250"
      ]
     },
     "execution_count": 11,
     "metadata": {},
     "output_type": "execute_result"
    }
   ],
   "source": [
    "datosSD[\"Temp - °C\"].isna().sum()"
   ]
  },
  {
   "cell_type": "code",
   "execution_count": 12,
   "metadata": {},
   "outputs": [
    {
     "data": {
      "text/plain": [
       "196"
      ]
     },
     "execution_count": 12,
     "metadata": {},
     "output_type": "execute_result"
    }
   ],
   "source": [
    "datosSD[\"Velocidad del viento - m/s\"].isna().sum()"
   ]
  },
  {
   "cell_type": "markdown",
   "metadata": {},
   "source": [
    "Faltan 250 temperatuas y 196 velocidades de viento, se tienen desde 2019-05-07 16:00:00 a 2021-02-01 09:00:00, casi 1 año y 9 meses"
   ]
  },
  {
   "cell_type": "markdown",
   "metadata": {},
   "source": [
    "## Se cargan los datos de SOLCAST"
   ]
  },
  {
   "cell_type": "code",
   "execution_count": 15,
   "metadata": {},
   "outputs": [
    {
     "name": "stdout",
     "output_type": "stream",
     "text": [
      "El tamaño de la tabla de SOLCAST es (123334, 20).\n"
     ]
    },
    {
     "data": {
      "text/html": [
       "<div>\n",
       "<style scoped>\n",
       "    .dataframe tbody tr th:only-of-type {\n",
       "        vertical-align: middle;\n",
       "    }\n",
       "\n",
       "    .dataframe tbody tr th {\n",
       "        vertical-align: top;\n",
       "    }\n",
       "\n",
       "    .dataframe thead th {\n",
       "        text-align: right;\n",
       "    }\n",
       "</style>\n",
       "<table border=\"1\" class=\"dataframe\">\n",
       "  <thead>\n",
       "    <tr style=\"text-align: right;\">\n",
       "      <th></th>\n",
       "      <th>PeriodEnd</th>\n",
       "      <th>PeriodStart</th>\n",
       "      <th>Period</th>\n",
       "      <th>AirTemp</th>\n",
       "      <th>AlbedoDaily</th>\n",
       "      <th>Azimuth</th>\n",
       "      <th>CloudOpacity</th>\n",
       "      <th>DewpointTemp</th>\n",
       "      <th>Dhi</th>\n",
       "      <th>Dni</th>\n",
       "      <th>Ebh</th>\n",
       "      <th>Ghi</th>\n",
       "      <th>GtiFixedTilt</th>\n",
       "      <th>GtiTracking</th>\n",
       "      <th>PrecipitableWater</th>\n",
       "      <th>RelativeHumidity</th>\n",
       "      <th>SurfacePressure</th>\n",
       "      <th>WindDirection10m</th>\n",
       "      <th>WindSpeed10m</th>\n",
       "      <th>Zenith</th>\n",
       "    </tr>\n",
       "  </thead>\n",
       "  <tbody>\n",
       "    <tr>\n",
       "      <th>0</th>\n",
       "      <td>2007-01-01T02:00:00Z</td>\n",
       "      <td>2007-01-01T01:00:00Z</td>\n",
       "      <td>PT60M</td>\n",
       "      <td>17.1</td>\n",
       "      <td>0.13</td>\n",
       "      <td>116</td>\n",
       "      <td>0.0</td>\n",
       "      <td>14.0</td>\n",
       "      <td>0</td>\n",
       "      <td>0</td>\n",
       "      <td>0</td>\n",
       "      <td>0</td>\n",
       "      <td>0</td>\n",
       "      <td>0</td>\n",
       "      <td>22.5</td>\n",
       "      <td>82.2</td>\n",
       "      <td>814.6</td>\n",
       "      <td>112</td>\n",
       "      <td>1.9</td>\n",
       "      <td>126</td>\n",
       "    </tr>\n",
       "    <tr>\n",
       "      <th>1</th>\n",
       "      <td>2007-01-01T03:00:00Z</td>\n",
       "      <td>2007-01-01T02:00:00Z</td>\n",
       "      <td>PT60M</td>\n",
       "      <td>15.5</td>\n",
       "      <td>0.13</td>\n",
       "      <td>121</td>\n",
       "      <td>0.0</td>\n",
       "      <td>13.8</td>\n",
       "      <td>0</td>\n",
       "      <td>0</td>\n",
       "      <td>0</td>\n",
       "      <td>0</td>\n",
       "      <td>0</td>\n",
       "      <td>0</td>\n",
       "      <td>22.5</td>\n",
       "      <td>89.7</td>\n",
       "      <td>815.2</td>\n",
       "      <td>115</td>\n",
       "      <td>1.8</td>\n",
       "      <td>140</td>\n",
       "    </tr>\n",
       "    <tr>\n",
       "      <th>2</th>\n",
       "      <td>2007-01-01T04:00:00Z</td>\n",
       "      <td>2007-01-01T03:00:00Z</td>\n",
       "      <td>PT60M</td>\n",
       "      <td>14.6</td>\n",
       "      <td>0.13</td>\n",
       "      <td>134</td>\n",
       "      <td>0.0</td>\n",
       "      <td>13.7</td>\n",
       "      <td>0</td>\n",
       "      <td>0</td>\n",
       "      <td>0</td>\n",
       "      <td>0</td>\n",
       "      <td>0</td>\n",
       "      <td>0</td>\n",
       "      <td>22.3</td>\n",
       "      <td>94.2</td>\n",
       "      <td>815.4</td>\n",
       "      <td>119</td>\n",
       "      <td>1.8</td>\n",
       "      <td>152</td>\n",
       "    </tr>\n",
       "    <tr>\n",
       "      <th>3</th>\n",
       "      <td>2007-01-01T05:00:00Z</td>\n",
       "      <td>2007-01-01T04:00:00Z</td>\n",
       "      <td>PT60M</td>\n",
       "      <td>14.3</td>\n",
       "      <td>0.13</td>\n",
       "      <td>161</td>\n",
       "      <td>0.0</td>\n",
       "      <td>13.6</td>\n",
       "      <td>0</td>\n",
       "      <td>0</td>\n",
       "      <td>0</td>\n",
       "      <td>0</td>\n",
       "      <td>0</td>\n",
       "      <td>0</td>\n",
       "      <td>22.0</td>\n",
       "      <td>95.4</td>\n",
       "      <td>815.3</td>\n",
       "      <td>123</td>\n",
       "      <td>1.8</td>\n",
       "      <td>160</td>\n",
       "    </tr>\n",
       "    <tr>\n",
       "      <th>4</th>\n",
       "      <td>2007-01-01T06:00:00Z</td>\n",
       "      <td>2007-01-01T05:00:00Z</td>\n",
       "      <td>PT60M</td>\n",
       "      <td>14.0</td>\n",
       "      <td>0.13</td>\n",
       "      <td>-160</td>\n",
       "      <td>0.0</td>\n",
       "      <td>13.5</td>\n",
       "      <td>0</td>\n",
       "      <td>0</td>\n",
       "      <td>0</td>\n",
       "      <td>0</td>\n",
       "      <td>0</td>\n",
       "      <td>0</td>\n",
       "      <td>21.7</td>\n",
       "      <td>96.5</td>\n",
       "      <td>815.2</td>\n",
       "      <td>127</td>\n",
       "      <td>1.9</td>\n",
       "      <td>160</td>\n",
       "    </tr>\n",
       "  </tbody>\n",
       "</table>\n",
       "</div>"
      ],
      "text/plain": [
       "              PeriodEnd           PeriodStart Period  AirTemp  AlbedoDaily  \\\n",
       "0  2007-01-01T02:00:00Z  2007-01-01T01:00:00Z  PT60M     17.1         0.13   \n",
       "1  2007-01-01T03:00:00Z  2007-01-01T02:00:00Z  PT60M     15.5         0.13   \n",
       "2  2007-01-01T04:00:00Z  2007-01-01T03:00:00Z  PT60M     14.6         0.13   \n",
       "3  2007-01-01T05:00:00Z  2007-01-01T04:00:00Z  PT60M     14.3         0.13   \n",
       "4  2007-01-01T06:00:00Z  2007-01-01T05:00:00Z  PT60M     14.0         0.13   \n",
       "\n",
       "   Azimuth  CloudOpacity  DewpointTemp  Dhi  Dni  Ebh  Ghi  GtiFixedTilt  \\\n",
       "0      116           0.0          14.0    0    0    0    0             0   \n",
       "1      121           0.0          13.8    0    0    0    0             0   \n",
       "2      134           0.0          13.7    0    0    0    0             0   \n",
       "3      161           0.0          13.6    0    0    0    0             0   \n",
       "4     -160           0.0          13.5    0    0    0    0             0   \n",
       "\n",
       "   GtiTracking  PrecipitableWater  RelativeHumidity  SurfacePressure  \\\n",
       "0            0               22.5              82.2            814.6   \n",
       "1            0               22.5              89.7            815.2   \n",
       "2            0               22.3              94.2            815.4   \n",
       "3            0               22.0              95.4            815.3   \n",
       "4            0               21.7              96.5            815.2   \n",
       "\n",
       "   WindDirection10m  WindSpeed10m  Zenith  \n",
       "0               112           1.9     126  \n",
       "1               115           1.8     140  \n",
       "2               119           1.8     152  \n",
       "3               123           1.8     160  \n",
       "4               127           1.9     160  "
      ]
     },
     "execution_count": 15,
     "metadata": {},
     "output_type": "execute_result"
    }
   ],
   "source": [
    "# Cargar datos\n",
    "datos_solar_1 = pd.read_csv(os.path.join(\"Data\",\"DatosSOLARCAST4.710989_-74.072092_Solcast_PT60M.csv\"))\n",
    "datos_solar_2 = pd.read_csv(os.path.join(\"Data\",\"2020-2021Nuevos4.710989_-74.072092_Solcast_PT60M.csv\"))\n",
    "\n",
    "# Filttrar fechas\n",
    "datos_solar_2 = datos_solar_2[datos_solar_2[\"PeriodStart\"]>=\"2020-04-22T21:00:00Z\"]\n",
    "\n",
    "# Quitar columnas adicionales\n",
    "drop_columns = list(set(datos_solar_2.columns).difference(set(datos_solar_1.columns)))\n",
    "datos_solar_2.drop(columns=drop_columns, inplace=True)\n",
    "\n",
    "# Revisar las columnas son las mismas\n",
    "assert len(datos_solar_1.columns)==len(datos_solar_2.columns) and (datos_solar_1.columns==datos_solar_2.columns).all(), \"Las columnas no son iguales\"\n",
    "\n",
    "datos_solar = pd.concat([datos_solar_1,datos_solar_2])\n",
    "\n",
    "# Guardar nueva tabla\n",
    "datos_solar.to_csv(\"datosSOLCAST_Unidos.csv\", index=False)\n",
    "print(\"El tamaño de la tabla de SOLCAST es {}.\".format(datos_solar.shape))\n",
    "datos_solar.head()"
   ]
  },
  {
   "cell_type": "code",
   "execution_count": 20,
   "metadata": {},
   "outputs": [
    {
     "data": {
      "text/html": [
       "<div>\n",
       "<style scoped>\n",
       "    .dataframe tbody tr th:only-of-type {\n",
       "        vertical-align: middle;\n",
       "    }\n",
       "\n",
       "    .dataframe tbody tr th {\n",
       "        vertical-align: top;\n",
       "    }\n",
       "\n",
       "    .dataframe thead th {\n",
       "        text-align: right;\n",
       "    }\n",
       "</style>\n",
       "<table border=\"1\" class=\"dataframe\">\n",
       "  <thead>\n",
       "    <tr style=\"text-align: right;\">\n",
       "      <th></th>\n",
       "      <th>AirTemp</th>\n",
       "      <th>AlbedoDaily</th>\n",
       "      <th>Azimuth</th>\n",
       "      <th>CloudOpacity</th>\n",
       "      <th>DewpointTemp</th>\n",
       "      <th>Dhi</th>\n",
       "      <th>Dni</th>\n",
       "      <th>Ebh</th>\n",
       "      <th>Ghi</th>\n",
       "      <th>GtiFixedTilt</th>\n",
       "      <th>GtiTracking</th>\n",
       "      <th>PrecipitableWater</th>\n",
       "      <th>RelativeHumidity</th>\n",
       "      <th>SurfacePressure</th>\n",
       "      <th>WindDirection10m</th>\n",
       "      <th>WindSpeed10m</th>\n",
       "      <th>Zenith</th>\n",
       "    </tr>\n",
       "  </thead>\n",
       "  <tbody>\n",
       "    <tr>\n",
       "      <th>count</th>\n",
       "      <td>123334.000000</td>\n",
       "      <td>123334.000000</td>\n",
       "      <td>123334.000000</td>\n",
       "      <td>123334.000000</td>\n",
       "      <td>123334.000000</td>\n",
       "      <td>123334.000000</td>\n",
       "      <td>123334.000000</td>\n",
       "      <td>123334.000000</td>\n",
       "      <td>123334.000000</td>\n",
       "      <td>123334.000000</td>\n",
       "      <td>123334.000000</td>\n",
       "      <td>123334.000000</td>\n",
       "      <td>123334.000000</td>\n",
       "      <td>123334.000000</td>\n",
       "      <td>123334.000000</td>\n",
       "      <td>123334.000000</td>\n",
       "      <td>123334.000000</td>\n",
       "    </tr>\n",
       "    <tr>\n",
       "      <th>mean</th>\n",
       "      <td>16.490122</td>\n",
       "      <td>0.125194</td>\n",
       "      <td>-0.150737</td>\n",
       "      <td>41.219229</td>\n",
       "      <td>13.910538</td>\n",
       "      <td>125.877317</td>\n",
       "      <td>112.551794</td>\n",
       "      <td>75.497251</td>\n",
       "      <td>201.377852</td>\n",
       "      <td>195.636361</td>\n",
       "      <td>226.108932</td>\n",
       "      <td>25.987851</td>\n",
       "      <td>86.019176</td>\n",
       "      <td>805.436811</td>\n",
       "      <td>134.665899</td>\n",
       "      <td>1.499023</td>\n",
       "      <td>89.963911</td>\n",
       "    </tr>\n",
       "    <tr>\n",
       "      <th>std</th>\n",
       "      <td>2.865403</td>\n",
       "      <td>0.005043</td>\n",
       "      <td>96.012780</td>\n",
       "      <td>27.319541</td>\n",
       "      <td>2.269917</td>\n",
       "      <td>167.664278</td>\n",
       "      <td>228.060272</td>\n",
       "      <td>168.530507</td>\n",
       "      <td>273.401148</td>\n",
       "      <td>263.397997</td>\n",
       "      <td>299.800713</td>\n",
       "      <td>4.089952</td>\n",
       "      <td>13.364029</td>\n",
       "      <td>24.324412</td>\n",
       "      <td>73.778456</td>\n",
       "      <td>0.629107</td>\n",
       "      <td>47.166742</td>\n",
       "    </tr>\n",
       "    <tr>\n",
       "      <th>min</th>\n",
       "      <td>5.300000</td>\n",
       "      <td>0.120000</td>\n",
       "      <td>-174.000000</td>\n",
       "      <td>0.000000</td>\n",
       "      <td>-5.300000</td>\n",
       "      <td>0.000000</td>\n",
       "      <td>0.000000</td>\n",
       "      <td>0.000000</td>\n",
       "      <td>0.000000</td>\n",
       "      <td>0.000000</td>\n",
       "      <td>0.000000</td>\n",
       "      <td>2.900000</td>\n",
       "      <td>24.000000</td>\n",
       "      <td>734.200000</td>\n",
       "      <td>0.000000</td>\n",
       "      <td>0.000000</td>\n",
       "      <td>6.000000</td>\n",
       "    </tr>\n",
       "    <tr>\n",
       "      <th>25%</th>\n",
       "      <td>14.600000</td>\n",
       "      <td>0.120000</td>\n",
       "      <td>-89.000000</td>\n",
       "      <td>17.600000</td>\n",
       "      <td>13.200000</td>\n",
       "      <td>0.000000</td>\n",
       "      <td>0.000000</td>\n",
       "      <td>0.000000</td>\n",
       "      <td>0.000000</td>\n",
       "      <td>0.000000</td>\n",
       "      <td>0.000000</td>\n",
       "      <td>23.600000</td>\n",
       "      <td>79.300000</td>\n",
       "      <td>812.800000</td>\n",
       "      <td>101.000000</td>\n",
       "      <td>1.100000</td>\n",
       "      <td>48.250000</td>\n",
       "    </tr>\n",
       "    <tr>\n",
       "      <th>50%</th>\n",
       "      <td>16.500000</td>\n",
       "      <td>0.130000</td>\n",
       "      <td>-14.000000</td>\n",
       "      <td>43.700000</td>\n",
       "      <td>14.400000</td>\n",
       "      <td>7.000000</td>\n",
       "      <td>0.000000</td>\n",
       "      <td>0.000000</td>\n",
       "      <td>9.000000</td>\n",
       "      <td>9.000000</td>\n",
       "      <td>8.000000</td>\n",
       "      <td>26.600000</td>\n",
       "      <td>90.300000</td>\n",
       "      <td>814.200000</td>\n",
       "      <td>124.000000</td>\n",
       "      <td>1.500000</td>\n",
       "      <td>89.000000</td>\n",
       "    </tr>\n",
       "    <tr>\n",
       "      <th>75%</th>\n",
       "      <td>18.500000</td>\n",
       "      <td>0.130000</td>\n",
       "      <td>89.000000</td>\n",
       "      <td>63.400000</td>\n",
       "      <td>15.300000</td>\n",
       "      <td>233.000000</td>\n",
       "      <td>95.000000</td>\n",
       "      <td>45.000000</td>\n",
       "      <td>374.000000</td>\n",
       "      <td>369.000000</td>\n",
       "      <td>441.000000</td>\n",
       "      <td>28.900000</td>\n",
       "      <td>96.700000</td>\n",
       "      <td>815.200000</td>\n",
       "      <td>140.000000</td>\n",
       "      <td>1.900000</td>\n",
       "      <td>133.000000</td>\n",
       "    </tr>\n",
       "    <tr>\n",
       "      <th>max</th>\n",
       "      <td>25.500000</td>\n",
       "      <td>0.140000</td>\n",
       "      <td>170.000000</td>\n",
       "      <td>100.000000</td>\n",
       "      <td>19.300000</td>\n",
       "      <td>726.000000</td>\n",
       "      <td>1118.000000</td>\n",
       "      <td>1037.000000</td>\n",
       "      <td>1129.000000</td>\n",
       "      <td>1092.000000</td>\n",
       "      <td>1119.000000</td>\n",
       "      <td>38.600000</td>\n",
       "      <td>100.000000</td>\n",
       "      <td>819.500000</td>\n",
       "      <td>360.000000</td>\n",
       "      <td>8.400000</td>\n",
       "      <td>175.000000</td>\n",
       "    </tr>\n",
       "  </tbody>\n",
       "</table>\n",
       "</div>"
      ],
      "text/plain": [
       "             AirTemp    AlbedoDaily        Azimuth   CloudOpacity  \\\n",
       "count  123334.000000  123334.000000  123334.000000  123334.000000   \n",
       "mean       16.490122       0.125194      -0.150737      41.219229   \n",
       "std         2.865403       0.005043      96.012780      27.319541   \n",
       "min         5.300000       0.120000    -174.000000       0.000000   \n",
       "25%        14.600000       0.120000     -89.000000      17.600000   \n",
       "50%        16.500000       0.130000     -14.000000      43.700000   \n",
       "75%        18.500000       0.130000      89.000000      63.400000   \n",
       "max        25.500000       0.140000     170.000000     100.000000   \n",
       "\n",
       "        DewpointTemp            Dhi            Dni            Ebh  \\\n",
       "count  123334.000000  123334.000000  123334.000000  123334.000000   \n",
       "mean       13.910538     125.877317     112.551794      75.497251   \n",
       "std         2.269917     167.664278     228.060272     168.530507   \n",
       "min        -5.300000       0.000000       0.000000       0.000000   \n",
       "25%        13.200000       0.000000       0.000000       0.000000   \n",
       "50%        14.400000       7.000000       0.000000       0.000000   \n",
       "75%        15.300000     233.000000      95.000000      45.000000   \n",
       "max        19.300000     726.000000    1118.000000    1037.000000   \n",
       "\n",
       "                 Ghi   GtiFixedTilt    GtiTracking  PrecipitableWater  \\\n",
       "count  123334.000000  123334.000000  123334.000000      123334.000000   \n",
       "mean      201.377852     195.636361     226.108932          25.987851   \n",
       "std       273.401148     263.397997     299.800713           4.089952   \n",
       "min         0.000000       0.000000       0.000000           2.900000   \n",
       "25%         0.000000       0.000000       0.000000          23.600000   \n",
       "50%         9.000000       9.000000       8.000000          26.600000   \n",
       "75%       374.000000     369.000000     441.000000          28.900000   \n",
       "max      1129.000000    1092.000000    1119.000000          38.600000   \n",
       "\n",
       "       RelativeHumidity  SurfacePressure  WindDirection10m   WindSpeed10m  \\\n",
       "count     123334.000000    123334.000000     123334.000000  123334.000000   \n",
       "mean          86.019176       805.436811        134.665899       1.499023   \n",
       "std           13.364029        24.324412         73.778456       0.629107   \n",
       "min           24.000000       734.200000          0.000000       0.000000   \n",
       "25%           79.300000       812.800000        101.000000       1.100000   \n",
       "50%           90.300000       814.200000        124.000000       1.500000   \n",
       "75%           96.700000       815.200000        140.000000       1.900000   \n",
       "max          100.000000       819.500000        360.000000       8.400000   \n",
       "\n",
       "              Zenith  \n",
       "count  123334.000000  \n",
       "mean       89.963911  \n",
       "std        47.166742  \n",
       "min         6.000000  \n",
       "25%        48.250000  \n",
       "50%        89.000000  \n",
       "75%       133.000000  \n",
       "max       175.000000  "
      ]
     },
     "execution_count": 20,
     "metadata": {},
     "output_type": "execute_result"
    }
   ],
   "source": [
    "datos_solar.describe()"
   ]
  },
  {
   "cell_type": "code",
   "execution_count": 21,
   "metadata": {},
   "outputs": [
    {
     "data": {
      "text/plain": [
       "PeriodEnd            0\n",
       "PeriodStart          0\n",
       "Period               0\n",
       "AirTemp              0\n",
       "AlbedoDaily          0\n",
       "Azimuth              0\n",
       "CloudOpacity         0\n",
       "DewpointTemp         0\n",
       "Dhi                  0\n",
       "Dni                  0\n",
       "Ebh                  0\n",
       "Ghi                  0\n",
       "GtiFixedTilt         0\n",
       "GtiTracking          0\n",
       "PrecipitableWater    0\n",
       "RelativeHumidity     0\n",
       "SurfacePressure      0\n",
       "WindDirection10m     0\n",
       "WindSpeed10m         0\n",
       "Zenith               0\n",
       "dtype: int64"
      ]
     },
     "execution_count": 21,
     "metadata": {},
     "output_type": "execute_result"
    }
   ],
   "source": [
    "datos_solar.isna().sum()"
   ]
  },
  {
   "cell_type": "markdown",
   "metadata": {},
   "source": [
    "No hay huecos en datos Solar"
   ]
  },
  {
   "cell_type": "code",
   "execution_count": 22,
   "metadata": {},
   "outputs": [
    {
     "data": {
      "text/plain": [
       "PeriodEnd            2007-01-01T02:00:00Z\n",
       "PeriodStart          2007-01-01T01:00:00Z\n",
       "Period                              PT60M\n",
       "AirTemp                              17.1\n",
       "AlbedoDaily                          0.13\n",
       "Azimuth                               116\n",
       "CloudOpacity                            0\n",
       "DewpointTemp                           14\n",
       "Dhi                                     0\n",
       "Dni                                     0\n",
       "Ebh                                     0\n",
       "Ghi                                     0\n",
       "GtiFixedTilt                            0\n",
       "GtiTracking                             0\n",
       "PrecipitableWater                    22.5\n",
       "RelativeHumidity                     82.2\n",
       "SurfacePressure                     814.6\n",
       "WindDirection10m                      112\n",
       "WindSpeed10m                          1.9\n",
       "Zenith                                126\n",
       "Name: 0, dtype: object"
      ]
     },
     "execution_count": 22,
     "metadata": {},
     "output_type": "execute_result"
    }
   ],
   "source": [
    "datos_solar.loc[0]"
   ]
  },
  {
   "cell_type": "code",
   "execution_count": 25,
   "metadata": {},
   "outputs": [
    {
     "data": {
      "text/plain": [
       "PeriodEnd            2021-01-25T22:00:00Z\n",
       "PeriodStart          2021-01-25T21:00:00Z\n",
       "Period                              PT60M\n",
       "AirTemp                              15.9\n",
       "AlbedoDaily                          0.13\n",
       "Azimuth                               113\n",
       "CloudOpacity                         27.2\n",
       "DewpointTemp                          9.8\n",
       "Dhi                                   199\n",
       "Dni                                   203\n",
       "Ebh                                    68\n",
       "Ghi                                   267\n",
       "GtiFixedTilt                          275\n",
       "GtiTracking                           407\n",
       "PrecipitableWater                    18.5\n",
       "RelativeHumidity                     67.1\n",
       "SurfacePressure                     735.2\n",
       "WindDirection10m                      156\n",
       "WindSpeed10m                          1.7\n",
       "Zenith                                 69\n",
       "Name: 17612, dtype: object"
      ]
     },
     "execution_count": 25,
     "metadata": {},
     "output_type": "execute_result"
    }
   ],
   "source": [
    "datos_solar.iloc[-1]"
   ]
  },
  {
   "cell_type": "markdown",
   "metadata": {},
   "source": [
    "Los datos de Solar se tiene: 2007-01-01T01:00:00Z - 2021-01-25T22:00:00Z"
   ]
  },
  {
   "cell_type": "markdown",
   "metadata": {},
   "source": [
    "# Adaptación de datos satelitales a datos in sitio"
   ]
  },
  {
   "cell_type": "code",
   "execution_count": 28,
   "metadata": {},
   "outputs": [
    {
     "data": {
      "text/html": [
       "<div>\n",
       "<style scoped>\n",
       "    .dataframe tbody tr th:only-of-type {\n",
       "        vertical-align: middle;\n",
       "    }\n",
       "\n",
       "    .dataframe tbody tr th {\n",
       "        vertical-align: top;\n",
       "    }\n",
       "\n",
       "    .dataframe thead th {\n",
       "        text-align: right;\n",
       "    }\n",
       "</style>\n",
       "<table border=\"1\" class=\"dataframe\">\n",
       "  <thead>\n",
       "    <tr style=\"text-align: right;\">\n",
       "      <th></th>\n",
       "      <th>Date &amp; Time</th>\n",
       "      <th>Date</th>\n",
       "      <th>Time</th>\n",
       "      <th>Temp - °C</th>\n",
       "      <th>Temp. Alta - °C</th>\n",
       "      <th>Temp. Baja - °C</th>\n",
       "      <th>Hum - %</th>\n",
       "      <th>Punto de rocío - °C</th>\n",
       "      <th>Wet Bulb - °C</th>\n",
       "      <th>Velocidad del viento - m/s</th>\n",
       "      <th>...</th>\n",
       "      <th>Tasa de lluvia - mm/h</th>\n",
       "      <th>Rad Solar - W/m^2</th>\n",
       "      <th>Energía solar</th>\n",
       "      <th>Rad Solar Alta - W/m^2</th>\n",
       "      <th>ET - mm</th>\n",
       "      <th>El índice UV - Index</th>\n",
       "      <th>Dosis de UV</th>\n",
       "      <th>Alto índice UV - Index</th>\n",
       "      <th>Días-grado de calentamiento</th>\n",
       "      <th>Días-grado de enfriamiento</th>\n",
       "    </tr>\n",
       "  </thead>\n",
       "  <tbody>\n",
       "    <tr>\n",
       "      <th>0</th>\n",
       "      <td>2019-05-07 16:00:00</td>\n",
       "      <td>2019-05-07</td>\n",
       "      <td>16:00:00</td>\n",
       "      <td>21.2</td>\n",
       "      <td>21.3</td>\n",
       "      <td>21.2</td>\n",
       "      <td>47.0</td>\n",
       "      <td>9.5</td>\n",
       "      <td>12.2</td>\n",
       "      <td>0.9</td>\n",
       "      <td>...</td>\n",
       "      <td>0.0</td>\n",
       "      <td>NaN</td>\n",
       "      <td>NaN</td>\n",
       "      <td>NaN</td>\n",
       "      <td>0.00</td>\n",
       "      <td>1.6</td>\n",
       "      <td>0.69</td>\n",
       "      <td>1.6</td>\n",
       "      <td>0.000</td>\n",
       "      <td>0.217</td>\n",
       "    </tr>\n",
       "    <tr>\n",
       "      <th>1</th>\n",
       "      <td>2019-05-07 17:00:00</td>\n",
       "      <td>2019-05-07</td>\n",
       "      <td>17:00:00</td>\n",
       "      <td>19.4</td>\n",
       "      <td>23.0</td>\n",
       "      <td>19.4</td>\n",
       "      <td>52.0</td>\n",
       "      <td>9.3</td>\n",
       "      <td>11.8</td>\n",
       "      <td>0.4</td>\n",
       "      <td>...</td>\n",
       "      <td>0.0</td>\n",
       "      <td>59.0</td>\n",
       "      <td>5.08</td>\n",
       "      <td>162.0</td>\n",
       "      <td>0.05</td>\n",
       "      <td>0.4</td>\n",
       "      <td>0.17</td>\n",
       "      <td>1.6</td>\n",
       "      <td>0.000</td>\n",
       "      <td>0.083</td>\n",
       "    </tr>\n",
       "    <tr>\n",
       "      <th>2</th>\n",
       "      <td>2019-05-07 18:00:00</td>\n",
       "      <td>2019-05-07</td>\n",
       "      <td>18:00:00</td>\n",
       "      <td>17.4</td>\n",
       "      <td>19.5</td>\n",
       "      <td>17.4</td>\n",
       "      <td>60.0</td>\n",
       "      <td>9.6</td>\n",
       "      <td>11.7</td>\n",
       "      <td>1.3</td>\n",
       "      <td>...</td>\n",
       "      <td>0.0</td>\n",
       "      <td>47.0</td>\n",
       "      <td>4.04</td>\n",
       "      <td>97.0</td>\n",
       "      <td>0.05</td>\n",
       "      <td>0.0</td>\n",
       "      <td>0.00</td>\n",
       "      <td>0.5</td>\n",
       "      <td>0.067</td>\n",
       "      <td>0.000</td>\n",
       "    </tr>\n",
       "    <tr>\n",
       "      <th>3</th>\n",
       "      <td>2019-05-07 19:00:00</td>\n",
       "      <td>2019-05-07</td>\n",
       "      <td>19:00:00</td>\n",
       "      <td>16.4</td>\n",
       "      <td>17.4</td>\n",
       "      <td>16.3</td>\n",
       "      <td>64.0</td>\n",
       "      <td>9.6</td>\n",
       "      <td>11.5</td>\n",
       "      <td>2.2</td>\n",
       "      <td>...</td>\n",
       "      <td>0.0</td>\n",
       "      <td>0.0</td>\n",
       "      <td>0.00</td>\n",
       "      <td>0.0</td>\n",
       "      <td>0.03</td>\n",
       "      <td>0.0</td>\n",
       "      <td>0.00</td>\n",
       "      <td>0.0</td>\n",
       "      <td>0.142</td>\n",
       "      <td>0.000</td>\n",
       "    </tr>\n",
       "    <tr>\n",
       "      <th>4</th>\n",
       "      <td>2019-05-07 20:00:00</td>\n",
       "      <td>2019-05-07</td>\n",
       "      <td>20:00:00</td>\n",
       "      <td>16.3</td>\n",
       "      <td>16.6</td>\n",
       "      <td>16.1</td>\n",
       "      <td>67.0</td>\n",
       "      <td>10.2</td>\n",
       "      <td>11.9</td>\n",
       "      <td>0.9</td>\n",
       "      <td>...</td>\n",
       "      <td>0.0</td>\n",
       "      <td>0.0</td>\n",
       "      <td>0.00</td>\n",
       "      <td>0.0</td>\n",
       "      <td>0.03</td>\n",
       "      <td>0.0</td>\n",
       "      <td>0.00</td>\n",
       "      <td>0.0</td>\n",
       "      <td>0.150</td>\n",
       "      <td>0.000</td>\n",
       "    </tr>\n",
       "  </tbody>\n",
       "</table>\n",
       "<p>5 rows × 30 columns</p>\n",
       "</div>"
      ],
      "text/plain": [
       "          Date & Time       Date      Time  Temp - °C  Temp. Alta - °C  \\\n",
       "0 2019-05-07 16:00:00 2019-05-07  16:00:00       21.2             21.3   \n",
       "1 2019-05-07 17:00:00 2019-05-07  17:00:00       19.4             23.0   \n",
       "2 2019-05-07 18:00:00 2019-05-07  18:00:00       17.4             19.5   \n",
       "3 2019-05-07 19:00:00 2019-05-07  19:00:00       16.4             17.4   \n",
       "4 2019-05-07 20:00:00 2019-05-07  20:00:00       16.3             16.6   \n",
       "\n",
       "   Temp. Baja - °C  Hum - %  Punto de rocío - °C  Wet Bulb - °C  \\\n",
       "0             21.2     47.0                  9.5           12.2   \n",
       "1             19.4     52.0                  9.3           11.8   \n",
       "2             17.4     60.0                  9.6           11.7   \n",
       "3             16.3     64.0                  9.6           11.5   \n",
       "4             16.1     67.0                 10.2           11.9   \n",
       "\n",
       "   Velocidad del viento - m/s  ... Tasa de lluvia - mm/h  Rad Solar - W/m^2  \\\n",
       "0                         0.9  ...                   0.0                NaN   \n",
       "1                         0.4  ...                   0.0               59.0   \n",
       "2                         1.3  ...                   0.0               47.0   \n",
       "3                         2.2  ...                   0.0                0.0   \n",
       "4                         0.9  ...                   0.0                0.0   \n",
       "\n",
       "   Energía solar Rad Solar Alta - W/m^2  ET - mm  El índice UV - Index  \\\n",
       "0            NaN                    NaN     0.00                   1.6   \n",
       "1           5.08                  162.0     0.05                   0.4   \n",
       "2           4.04                   97.0     0.05                   0.0   \n",
       "3           0.00                    0.0     0.03                   0.0   \n",
       "4           0.00                    0.0     0.03                   0.0   \n",
       "\n",
       "   Dosis de UV  Alto índice UV - Index  Días-grado de calentamiento  \\\n",
       "0         0.69                     1.6                        0.000   \n",
       "1         0.17                     1.6                        0.000   \n",
       "2         0.00                     0.5                        0.067   \n",
       "3         0.00                     0.0                        0.142   \n",
       "4         0.00                     0.0                        0.150   \n",
       "\n",
       "   Días-grado de enfriamiento  \n",
       "0                       0.217  \n",
       "1                       0.083  \n",
       "2                       0.000  \n",
       "3                       0.000  \n",
       "4                       0.000  \n",
       "\n",
       "[5 rows x 30 columns]"
      ]
     },
     "execution_count": 28,
     "metadata": {},
     "output_type": "execute_result"
    }
   ],
   "source": [
    "datosSD.head()"
   ]
  },
  {
   "cell_type": "code",
   "execution_count": 30,
   "metadata": {},
   "outputs": [
    {
     "data": {
      "text/plain": [
       "250"
      ]
     },
     "execution_count": 30,
     "metadata": {},
     "output_type": "execute_result"
    }
   ],
   "source": [
    "# Completar 'Temp - °C'\n",
    "datosSD['Temp - °C'].isna().sum()"
   ]
  },
  {
   "cell_type": "code",
   "execution_count": 26,
   "metadata": {},
   "outputs": [
    {
     "data": {
      "text/plain": [
       "['Date & Time',\n",
       " 'Date',\n",
       " 'Time',\n",
       " 'Temp - °C',\n",
       " 'Temp.\\xa0Alta - °C',\n",
       " 'Temp. Baja - °C',\n",
       " 'Hum - %',\n",
       " 'Punto de rocío - °C',\n",
       " 'Wet Bulb - °C',\n",
       " 'Velocidad del viento - m/s',\n",
       " 'Dirección del viento',\n",
       " 'Viento Corriente - m',\n",
       " 'Alta velocidad del viento - m/s',\n",
       " 'Alta Dirección del viento',\n",
       " 'Viento Frío - °C',\n",
       " 'Índice de calor - °C',\n",
       " 'THW Index - °C',\n",
       " 'THSW  índice - °C',\n",
       " 'Barómetro - mm Hg',\n",
       " 'Lluvia - mm',\n",
       " 'Tasa de lluvia - mm/h',\n",
       " 'Rad Solar - W/m^2',\n",
       " 'Energía solar',\n",
       " 'Rad Solar Alta - W/m^2',\n",
       " 'ET - mm',\n",
       " 'El índice UV - Index',\n",
       " 'Dosis de UV',\n",
       " 'Alto índice UV - Index',\n",
       " 'Días-grado de calentamiento',\n",
       " 'Días-grado de enfriamiento']"
      ]
     },
     "execution_count": 26,
     "metadata": {},
     "output_type": "execute_result"
    }
   ],
   "source": [
    "list(datosSD)"
   ]
  },
  {
   "cell_type": "code",
   "execution_count": 65,
   "metadata": {},
   "outputs": [
    {
     "data": {
      "text/plain": [
       "0        2007-01-01T01:00:00Z\n",
       "1        2007-01-01T02:00:00Z\n",
       "2        2007-01-01T03:00:00Z\n",
       "3        2007-01-01T04:00:00Z\n",
       "4        2007-01-01T05:00:00Z\n",
       "                 ...         \n",
       "17608    2021-01-25T17:00:00Z\n",
       "17609    2021-01-25T18:00:00Z\n",
       "17610    2021-01-25T19:00:00Z\n",
       "17611    2021-01-25T20:00:00Z\n",
       "17612    2021-01-25T21:00:00Z\n",
       "Name: PeriodStart, Length: 123334, dtype: object"
      ]
     },
     "execution_count": 65,
     "metadata": {},
     "output_type": "execute_result"
    }
   ],
   "source": [
    "datos_solar[\"PeriodStart\"]"
   ]
  },
  {
   "cell_type": "code",
   "execution_count": 86,
   "metadata": {},
   "outputs": [
    {
     "data": {
      "text/html": [
       "<div>\n",
       "<style scoped>\n",
       "    .dataframe tbody tr th:only-of-type {\n",
       "        vertical-align: middle;\n",
       "    }\n",
       "\n",
       "    .dataframe tbody tr th {\n",
       "        vertical-align: top;\n",
       "    }\n",
       "\n",
       "    .dataframe thead th {\n",
       "        text-align: right;\n",
       "    }\n",
       "</style>\n",
       "<table border=\"1\" class=\"dataframe\">\n",
       "  <thead>\n",
       "    <tr style=\"text-align: right;\">\n",
       "      <th></th>\n",
       "      <th>PeriodEnd</th>\n",
       "      <th>PeriodStart</th>\n",
       "      <th>Period</th>\n",
       "      <th>AirTemp</th>\n",
       "      <th>AlbedoDaily</th>\n",
       "      <th>Azimuth</th>\n",
       "      <th>CloudOpacity</th>\n",
       "      <th>DewpointTemp</th>\n",
       "      <th>Dhi</th>\n",
       "      <th>Dni</th>\n",
       "      <th>...</th>\n",
       "      <th>Ghi</th>\n",
       "      <th>GtiFixedTilt</th>\n",
       "      <th>GtiTracking</th>\n",
       "      <th>PrecipitableWater</th>\n",
       "      <th>RelativeHumidity</th>\n",
       "      <th>SurfacePressure</th>\n",
       "      <th>WindDirection10m</th>\n",
       "      <th>WindSpeed10m</th>\n",
       "      <th>Zenith</th>\n",
       "      <th>Date &amp; Time</th>\n",
       "    </tr>\n",
       "  </thead>\n",
       "  <tbody>\n",
       "    <tr>\n",
       "      <th>0</th>\n",
       "      <td>2007-01-01T02:00:00Z</td>\n",
       "      <td>2007-01-01T01:00:00Z</td>\n",
       "      <td>PT60M</td>\n",
       "      <td>17.1</td>\n",
       "      <td>0.13</td>\n",
       "      <td>116</td>\n",
       "      <td>0.0</td>\n",
       "      <td>14.0</td>\n",
       "      <td>0</td>\n",
       "      <td>0</td>\n",
       "      <td>...</td>\n",
       "      <td>0</td>\n",
       "      <td>0</td>\n",
       "      <td>0</td>\n",
       "      <td>22.5</td>\n",
       "      <td>82.2</td>\n",
       "      <td>814.6</td>\n",
       "      <td>112</td>\n",
       "      <td>1.9</td>\n",
       "      <td>126</td>\n",
       "      <td>2006-12-31 20:00:00</td>\n",
       "    </tr>\n",
       "    <tr>\n",
       "      <th>1</th>\n",
       "      <td>2007-01-01T03:00:00Z</td>\n",
       "      <td>2007-01-01T02:00:00Z</td>\n",
       "      <td>PT60M</td>\n",
       "      <td>15.5</td>\n",
       "      <td>0.13</td>\n",
       "      <td>121</td>\n",
       "      <td>0.0</td>\n",
       "      <td>13.8</td>\n",
       "      <td>0</td>\n",
       "      <td>0</td>\n",
       "      <td>...</td>\n",
       "      <td>0</td>\n",
       "      <td>0</td>\n",
       "      <td>0</td>\n",
       "      <td>22.5</td>\n",
       "      <td>89.7</td>\n",
       "      <td>815.2</td>\n",
       "      <td>115</td>\n",
       "      <td>1.8</td>\n",
       "      <td>140</td>\n",
       "      <td>2006-12-31 21:00:00</td>\n",
       "    </tr>\n",
       "    <tr>\n",
       "      <th>2</th>\n",
       "      <td>2007-01-01T04:00:00Z</td>\n",
       "      <td>2007-01-01T03:00:00Z</td>\n",
       "      <td>PT60M</td>\n",
       "      <td>14.6</td>\n",
       "      <td>0.13</td>\n",
       "      <td>134</td>\n",
       "      <td>0.0</td>\n",
       "      <td>13.7</td>\n",
       "      <td>0</td>\n",
       "      <td>0</td>\n",
       "      <td>...</td>\n",
       "      <td>0</td>\n",
       "      <td>0</td>\n",
       "      <td>0</td>\n",
       "      <td>22.3</td>\n",
       "      <td>94.2</td>\n",
       "      <td>815.4</td>\n",
       "      <td>119</td>\n",
       "      <td>1.8</td>\n",
       "      <td>152</td>\n",
       "      <td>2006-12-31 22:00:00</td>\n",
       "    </tr>\n",
       "    <tr>\n",
       "      <th>3</th>\n",
       "      <td>2007-01-01T05:00:00Z</td>\n",
       "      <td>2007-01-01T04:00:00Z</td>\n",
       "      <td>PT60M</td>\n",
       "      <td>14.3</td>\n",
       "      <td>0.13</td>\n",
       "      <td>161</td>\n",
       "      <td>0.0</td>\n",
       "      <td>13.6</td>\n",
       "      <td>0</td>\n",
       "      <td>0</td>\n",
       "      <td>...</td>\n",
       "      <td>0</td>\n",
       "      <td>0</td>\n",
       "      <td>0</td>\n",
       "      <td>22.0</td>\n",
       "      <td>95.4</td>\n",
       "      <td>815.3</td>\n",
       "      <td>123</td>\n",
       "      <td>1.8</td>\n",
       "      <td>160</td>\n",
       "      <td>2006-12-31 23:00:00</td>\n",
       "    </tr>\n",
       "    <tr>\n",
       "      <th>4</th>\n",
       "      <td>2007-01-01T06:00:00Z</td>\n",
       "      <td>2007-01-01T05:00:00Z</td>\n",
       "      <td>PT60M</td>\n",
       "      <td>14.0</td>\n",
       "      <td>0.13</td>\n",
       "      <td>-160</td>\n",
       "      <td>0.0</td>\n",
       "      <td>13.5</td>\n",
       "      <td>0</td>\n",
       "      <td>0</td>\n",
       "      <td>...</td>\n",
       "      <td>0</td>\n",
       "      <td>0</td>\n",
       "      <td>0</td>\n",
       "      <td>21.7</td>\n",
       "      <td>96.5</td>\n",
       "      <td>815.2</td>\n",
       "      <td>127</td>\n",
       "      <td>1.9</td>\n",
       "      <td>160</td>\n",
       "      <td>2007-01-01 00:00:00</td>\n",
       "    </tr>\n",
       "  </tbody>\n",
       "</table>\n",
       "<p>5 rows × 21 columns</p>\n",
       "</div>"
      ],
      "text/plain": [
       "              PeriodEnd           PeriodStart Period  AirTemp  AlbedoDaily  \\\n",
       "0  2007-01-01T02:00:00Z  2007-01-01T01:00:00Z  PT60M     17.1         0.13   \n",
       "1  2007-01-01T03:00:00Z  2007-01-01T02:00:00Z  PT60M     15.5         0.13   \n",
       "2  2007-01-01T04:00:00Z  2007-01-01T03:00:00Z  PT60M     14.6         0.13   \n",
       "3  2007-01-01T05:00:00Z  2007-01-01T04:00:00Z  PT60M     14.3         0.13   \n",
       "4  2007-01-01T06:00:00Z  2007-01-01T05:00:00Z  PT60M     14.0         0.13   \n",
       "\n",
       "   Azimuth  CloudOpacity  DewpointTemp  Dhi  Dni  ...  Ghi  GtiFixedTilt  \\\n",
       "0      116           0.0          14.0    0    0  ...    0             0   \n",
       "1      121           0.0          13.8    0    0  ...    0             0   \n",
       "2      134           0.0          13.7    0    0  ...    0             0   \n",
       "3      161           0.0          13.6    0    0  ...    0             0   \n",
       "4     -160           0.0          13.5    0    0  ...    0             0   \n",
       "\n",
       "   GtiTracking  PrecipitableWater  RelativeHumidity  SurfacePressure  \\\n",
       "0            0               22.5              82.2            814.6   \n",
       "1            0               22.5              89.7            815.2   \n",
       "2            0               22.3              94.2            815.4   \n",
       "3            0               22.0              95.4            815.3   \n",
       "4            0               21.7              96.5            815.2   \n",
       "\n",
       "   WindDirection10m  WindSpeed10m  Zenith         Date & Time  \n",
       "0               112           1.9     126 2006-12-31 20:00:00  \n",
       "1               115           1.8     140 2006-12-31 21:00:00  \n",
       "2               119           1.8     152 2006-12-31 22:00:00  \n",
       "3               123           1.8     160 2006-12-31 23:00:00  \n",
       "4               127           1.9     160 2007-01-01 00:00:00  \n",
       "\n",
       "[5 rows x 21 columns]"
      ]
     },
     "execution_count": 86,
     "metadata": {},
     "output_type": "execute_result"
    }
   ],
   "source": [
    "datos_solar['Date & Time'] = (pd.to_datetime(datos_solar['PeriodStart']) - \\\n",
    "                              pd.Timedelta(hours=5)).dt.strftime('%Y-%m-%d %H:%M:%S').astype('datetime64[ns]')\n",
    "datos_solar.head()"
   ]
  },
  {
   "cell_type": "code",
   "execution_count": 93,
   "metadata": {},
   "outputs": [
    {
     "data": {
      "text/plain": [
       "Index(['PeriodEnd', 'PeriodStart', 'Period', 'AirTemp', 'AlbedoDaily',\n",
       "       'Azimuth', 'CloudOpacity', 'DewpointTemp', 'Dhi', 'Dni', 'Ebh', 'Ghi',\n",
       "       'GtiFixedTilt', 'GtiTracking', 'PrecipitableWater', 'RelativeHumidity',\n",
       "       'SurfacePressure', 'WindDirection10m', 'WindSpeed10m', 'Zenith',\n",
       "       'Date & Time'],\n",
       "      dtype='object')"
      ]
     },
     "execution_count": 93,
     "metadata": {},
     "output_type": "execute_result"
    }
   ],
   "source": [
    "datos_solar.columns"
   ]
  },
  {
   "cell_type": "code",
   "execution_count": 98,
   "metadata": {},
   "outputs": [
    {
     "data": {
      "text/html": [
       "<div>\n",
       "<style scoped>\n",
       "    .dataframe tbody tr th:only-of-type {\n",
       "        vertical-align: middle;\n",
       "    }\n",
       "\n",
       "    .dataframe tbody tr th {\n",
       "        vertical-align: top;\n",
       "    }\n",
       "\n",
       "    .dataframe thead th {\n",
       "        text-align: right;\n",
       "    }\n",
       "</style>\n",
       "<table border=\"1\" class=\"dataframe\">\n",
       "  <thead>\n",
       "    <tr style=\"text-align: right;\">\n",
       "      <th></th>\n",
       "      <th>AirTemp</th>\n",
       "      <th>Ghi</th>\n",
       "      <th>WindSpeed10m</th>\n",
       "      <th>Date &amp; Time</th>\n",
       "    </tr>\n",
       "  </thead>\n",
       "  <tbody>\n",
       "    <tr>\n",
       "      <th>4511</th>\n",
       "      <td>15.3</td>\n",
       "      <td>217.0</td>\n",
       "      <td>1.3</td>\n",
       "      <td>2019-11-11 15:00:00</td>\n",
       "    </tr>\n",
       "    <tr>\n",
       "      <th>3334</th>\n",
       "      <td>16.8</td>\n",
       "      <td>380.0</td>\n",
       "      <td>1.5</td>\n",
       "      <td>2019-09-23 14:00:00</td>\n",
       "    </tr>\n",
       "    <tr>\n",
       "      <th>8547</th>\n",
       "      <td>11.2</td>\n",
       "      <td>0.0</td>\n",
       "      <td>2.0</td>\n",
       "      <td>2020-04-27 20:00:00</td>\n",
       "    </tr>\n",
       "    <tr>\n",
       "      <th>10027</th>\n",
       "      <td>13.8</td>\n",
       "      <td>509.0</td>\n",
       "      <td>1.1</td>\n",
       "      <td>2020-06-28 12:00:00</td>\n",
       "    </tr>\n",
       "    <tr>\n",
       "      <th>7842</th>\n",
       "      <td>19.9</td>\n",
       "      <td>1016.0</td>\n",
       "      <td>1.9</td>\n",
       "      <td>2020-03-29 11:00:00</td>\n",
       "    </tr>\n",
       "    <tr>\n",
       "      <th>...</th>\n",
       "      <td>...</td>\n",
       "      <td>...</td>\n",
       "      <td>...</td>\n",
       "      <td>...</td>\n",
       "    </tr>\n",
       "    <tr>\n",
       "      <th>5269</th>\n",
       "      <td>8.5</td>\n",
       "      <td>0.0</td>\n",
       "      <td>1.0</td>\n",
       "      <td>2019-12-13 05:00:00</td>\n",
       "    </tr>\n",
       "    <tr>\n",
       "      <th>13641</th>\n",
       "      <td>8.7</td>\n",
       "      <td>1.0</td>\n",
       "      <td>0.8</td>\n",
       "      <td>2020-11-26 05:00:00</td>\n",
       "    </tr>\n",
       "    <tr>\n",
       "      <th>5468</th>\n",
       "      <td>18.4</td>\n",
       "      <td>457.0</td>\n",
       "      <td>2.3</td>\n",
       "      <td>2019-12-21 12:00:00</td>\n",
       "    </tr>\n",
       "    <tr>\n",
       "      <th>881</th>\n",
       "      <td>14.8</td>\n",
       "      <td>274.0</td>\n",
       "      <td>1.0</td>\n",
       "      <td>2019-06-13 09:00:00</td>\n",
       "    </tr>\n",
       "    <tr>\n",
       "      <th>7417</th>\n",
       "      <td>14.9</td>\n",
       "      <td>76.0</td>\n",
       "      <td>0.6</td>\n",
       "      <td>2020-03-11 17:00:00</td>\n",
       "    </tr>\n",
       "  </tbody>\n",
       "</table>\n",
       "<p>12003 rows × 4 columns</p>\n",
       "</div>"
      ],
      "text/plain": [
       "       AirTemp     Ghi  WindSpeed10m         Date & Time\n",
       "4511      15.3   217.0           1.3 2019-11-11 15:00:00\n",
       "3334      16.8   380.0           1.5 2019-09-23 14:00:00\n",
       "8547      11.2     0.0           2.0 2020-04-27 20:00:00\n",
       "10027     13.8   509.0           1.1 2020-06-28 12:00:00\n",
       "7842      19.9  1016.0           1.9 2020-03-29 11:00:00\n",
       "...        ...     ...           ...                 ...\n",
       "5269       8.5     0.0           1.0 2019-12-13 05:00:00\n",
       "13641      8.7     1.0           0.8 2020-11-26 05:00:00\n",
       "5468      18.4   457.0           2.3 2019-12-21 12:00:00\n",
       "881       14.8   274.0           1.0 2019-06-13 09:00:00\n",
       "7417      14.9    76.0           0.6 2020-03-11 17:00:00\n",
       "\n",
       "[12003 rows x 4 columns]"
      ]
     },
     "execution_count": 98,
     "metadata": {},
     "output_type": "execute_result"
    }
   ],
   "source": [
    "X_train"
   ]
  },
  {
   "cell_type": "markdown",
   "metadata": {},
   "source": [
    "## Regresión Lineal"
   ]
  },
  {
   "cell_type": "code",
   "execution_count": 102,
   "metadata": {},
   "outputs": [
    {
     "name": "stdout",
     "output_type": "stream",
     "text": [
      "RMSE: 1.5033965469382127\n",
      "MAE: 1.2033066027915231\n",
      "R2: 0.6735143678957047\n"
     ]
    },
    {
     "data": {
      "image/png": "[encoded data removed]",
      "text/plain": [
       "<Figure size 432x288 with 1 Axes>"
      ]
     },
     "metadata": {
      "needs_background": "light"
     },
     "output_type": "display_data"
    }
   ],
   "source": [
    "#datos_merge\n",
    "predictores = [\"AirTemp\",'Ghi', 'WindSpeed10m']\n",
    "predictores.append('Date & Time')\n",
    "\n",
    "# Comparar temperaturas\n",
    "datos_merge = datosSD.merge(datos_solar[predictores], how=\"left\", on='Date & Time')\n",
    "\n",
    "all_columns = predictores.copy()\n",
    "all_columns.append(\"Temp - °C\")\n",
    "\n",
    "datos_merge = datos_merge[all_columns]\n",
    "\n",
    "label_data = datos_merge.dropna()\n",
    "predictores.remove('Date & Time')\n",
    "\n",
    "X = label_data[predictores]\n",
    "y = label_data[\"Temp - °C\"]\n",
    "\n",
    "# Separar en train y test\n",
    "X_train, X_test, y_train, y_test = train_test_split(X, y, test_size = 0.2, random_state = 42)\n",
    "\n",
    "# Modelo\n",
    "model_lr = linear_model.LinearRegression()\n",
    "model_lr.fit(X_train, y_train)\n",
    "y_predict = model_lr.predict(X_test)\n",
    "\n",
    "# Errores\n",
    "rmse = math.sqrt(mean_squared_error(y_test, y_predict))\n",
    "print(\"RMSE:\", rmse)\n",
    "\n",
    "mae = mean_absolute_error(y_test, y_predict)\n",
    "print(\"MAE:\", mae)\n",
    "\n",
    "r2 = r2_score(y_test, y_predict) \n",
    "print(\"R2:\", r2)\n",
    "\n",
    "x=range(len(y_test))\n",
    "\n",
    "# Gráficas\n",
    "plt.plot(x[:100], y_test[:100])\n",
    "plt.plot(x[:100], y_predict[:100])\n",
    "plt.show()"
   ]
  },
  {
   "cell_type": "code",
   "execution_count": 106,
   "metadata": {},
   "outputs": [
    {
     "name": "stdout",
     "output_type": "stream",
     "text": [
      "RMSE: 1.2704892384194544\n",
      "MAE: 1.002875571576043\n",
      "R2: 0.7668373630152882\n"
     ]
    },
    {
     "data": {
      "image/png": "[encoded data removed]",
      "text/plain": [
       "<Figure size 432x288 with 1 Axes>"
      ]
     },
     "metadata": {
      "needs_background": "light"
     },
     "output_type": "display_data"
    }
   ],
   "source": [
    "#datos_merge\n",
    "predictores = list(datos_solar.select_dtypes(include=numerics).columns)\n",
    "predictores.append('Date & Time')\n",
    "\n",
    "# Comparar temperaturas\n",
    "datos_merge = datosSD.merge(datos_solar[predictores], how=\"left\", on='Date & Time')\n",
    "\n",
    "all_columns = predictores.copy()\n",
    "all_columns.append(\"Temp - °C\")\n",
    "\n",
    "datos_merge = datos_merge[all_columns]\n",
    "\n",
    "label_data = datos_merge.dropna()\n",
    "predictores.remove('Date & Time')\n",
    "\n",
    "X = label_data[predictores]\n",
    "y = label_data[\"Temp - °C\"]\n",
    "\n",
    "# Separar en train y test\n",
    "X_train, X_test, y_train, y_test = train_test_split(X, y, test_size = 0.2, random_state = 42)\n",
    "\n",
    "# Modelo\n",
    "model_lr = linear_model.LinearRegression()\n",
    "model_lr.fit(X_train, y_train)\n",
    "y_predict = model_lr.predict(X_test)\n",
    "\n",
    "# Errores\n",
    "rmse = math.sqrt(mean_squared_error(y_test, y_predict))\n",
    "print(\"RMSE:\", rmse)\n",
    "\n",
    "mae = mean_absolute_error(y_test, y_predict)\n",
    "print(\"MAE:\", mae)\n",
    "\n",
    "r2 = r2_score(y_test, y_predict) \n",
    "print(\"R2:\", r2)\n",
    "\n",
    "x=range(len(y_test))\n",
    "\n",
    "# Gráficas\n",
    "plt.plot(x[:100], y_test[:100])\n",
    "plt.plot(x[:100], y_predict[:100])\n",
    "plt.show()"
   ]
  },
  {
   "cell_type": "markdown",
   "metadata": {},
   "source": [
    "## Random Forest"
   ]
  },
  {
   "cell_type": "code",
   "execution_count": 109,
   "metadata": {},
   "outputs": [
    {
     "name": "stdout",
     "output_type": "stream",
     "text": [
      "RMSE: 1.428687400191188\n",
      "MAE: 1.1154625397489915\n",
      "R2: 0.7051566030317533\n"
     ]
    },
    {
     "data": {
      "image/png": "[encoded data removed]",
      "text/plain": [
       "<Figure size 432x288 with 1 Axes>"
      ]
     },
     "metadata": {
      "needs_background": "light"
     },
     "output_type": "display_data"
    }
   ],
   "source": [
    "#datos_merge\n",
    "predictores = [\"AirTemp\",'Ghi', 'WindSpeed10m']\n",
    "predictores.append('Date & Time')\n",
    "\n",
    "# Comparar temperaturas\n",
    "datos_merge = datosSD.merge(datos_solar[predictores], how=\"left\", on='Date & Time')\n",
    "\n",
    "all_columns = predictores.copy()\n",
    "all_columns.append(\"Temp - °C\")\n",
    "\n",
    "datos_merge = datos_merge[all_columns]\n",
    "\n",
    "label_data = datos_merge.dropna()\n",
    "predictores.remove('Date & Time')\n",
    "\n",
    "X = label_data[predictores]\n",
    "y = label_data[\"Temp - °C\"]\n",
    "\n",
    "# Separar en train y test\n",
    "X_train, X_test, y_train, y_test = train_test_split(X, y, test_size = 0.2, random_state = 42)\n",
    "\n",
    "# Modelo\n",
    "model_rfTodo = RandomForestRegressor()#n_estimators=100, max_features=4, min_samples_leaf=10,random_state=0, n_jobs=2)\n",
    "model_rfTodo.fit(X_train, y_train)\n",
    "y_predict = model_rfTodo.predict(X_test)\n",
    "\n",
    "# Errores\n",
    "rmse = math.sqrt(mean_squared_error(y_test, y_predict))\n",
    "print(\"RMSE:\", rmse)\n",
    "\n",
    "mae = mean_absolute_error(y_test, y_predict)\n",
    "print(\"MAE:\", mae)\n",
    "\n",
    "r2 = r2_score(y_test, y_predict) \n",
    "print(\"R2:\", r2)\n",
    "\n",
    "x=range(len(y_test))\n",
    "\n",
    "# Gráficas\n",
    "plt.plot(x[:100], y_test[:100])\n",
    "plt.plot(x[:100], y_predict[:100])\n",
    "plt.show()"
   ]
  },
  {
   "cell_type": "code",
   "execution_count": 110,
   "metadata": {},
   "outputs": [
    {
     "name": "stdout",
     "output_type": "stream",
     "text": [
      "RMSE: 1.044404022981499\n",
      "MAE: 0.8073543280565849\n",
      "R2: 0.8424370697392308\n"
     ]
    },
    {
     "data": {
      "image/png": "[encoded data removed]",
      "text/plain": [
       "<Figure size 432x288 with 1 Axes>"
      ]
     },
     "metadata": {
      "needs_background": "light"
     },
     "output_type": "display_data"
    }
   ],
   "source": [
    "#datos_merge\n",
    "predictores = list(datos_solar.select_dtypes(include=numerics).columns)\n",
    "predictores.append('Date & Time')\n",
    "\n",
    "# Comparar temperaturas\n",
    "datos_merge = datosSD.merge(datos_solar[predictores], how=\"left\", on='Date & Time')\n",
    "\n",
    "all_columns = predictores.copy()\n",
    "all_columns.append(\"Temp - °C\")\n",
    "\n",
    "datos_merge = datos_merge[all_columns]\n",
    "\n",
    "label_data = datos_merge.dropna()\n",
    "predictores.remove('Date & Time')\n",
    "\n",
    "X = label_data[predictores]\n",
    "y = label_data[\"Temp - °C\"]\n",
    "\n",
    "# Separar en train y test\n",
    "X_train, X_test, y_train, y_test = train_test_split(X, y, test_size = 0.2, random_state = 42)\n",
    "\n",
    "# Modelo\n",
    "model_rfTodo = RandomForestRegressor()#n_estimators=100, max_features=4, min_samples_leaf=10,random_state=0, n_jobs=2)\n",
    "model_rfTodo.fit(X_train, y_train)\n",
    "y_predict = model_rfTodo.predict(X_test)\n",
    "\n",
    "# Errores\n",
    "rmse = math.sqrt(mean_squared_error(y_test, y_predict))\n",
    "print(\"RMSE:\", rmse)\n",
    "\n",
    "mae = mean_absolute_error(y_test, y_predict)\n",
    "print(\"MAE:\", mae)\n",
    "\n",
    "r2 = r2_score(y_test, y_predict) \n",
    "print(\"R2:\", r2)\n",
    "\n",
    "x=range(len(y_test))\n",
    "\n",
    "# Gráficas\n",
    "plt.plot(x[:100], y_test[:100])\n",
    "plt.plot(x[:100], y_predict[:100])\n",
    "plt.show()"
   ]
  },
  {
   "cell_type": "markdown",
   "metadata": {},
   "source": [
    "## XGBoost"
   ]
  },
  {
   "cell_type": "code",
   "execution_count": 116,
   "metadata": {},
   "outputs": [],
   "source": [
    "import xgboost\n",
    "\n",
    "model = xgboost.XGBRegressor()"
   ]
  },
  {
   "cell_type": "code",
   "execution_count": 117,
   "metadata": {},
   "outputs": [
    {
     "name": "stdout",
     "output_type": "stream",
     "text": [
      "RMSE: 1.074091507288981\n",
      "MAE: 0.8344752640626212\n",
      "R2: 0.8333522162818631\n"
     ]
    },
    {
     "name": "stderr",
     "output_type": "stream",
     "text": [
      "C:\\ProgramData\\Anaconda3\\lib\\site-packages\\xgboost\\data.py:112: UserWarning: Use subset (sliced data) of np.ndarray is not recommended because it will generate extra copies and increase memory consumption\n",
      "  warnings.warn(\n"
     ]
    },
    {
     "data": {
      "image/png": "[encoded data removed]",
      "text/plain": [
       "<Figure size 432x288 with 1 Axes>"
      ]
     },
     "metadata": {
      "needs_background": "light"
     },
     "output_type": "display_data"
    }
   ],
   "source": [
    "#datos_merge\n",
    "predictores = list(datos_solar.select_dtypes(include=numerics).columns)\n",
    "predictores.append('Date & Time')\n",
    "\n",
    "# Comparar temperaturas\n",
    "datos_merge = datosSD.merge(datos_solar[predictores], how=\"left\", on='Date & Time')\n",
    "\n",
    "all_columns = predictores.copy()\n",
    "all_columns.append(\"Temp - °C\")\n",
    "\n",
    "datos_merge = datos_merge[all_columns]\n",
    "\n",
    "label_data = datos_merge.dropna()\n",
    "predictores.remove('Date & Time')\n",
    "\n",
    "X = label_data[predictores]\n",
    "y = label_data[\"Temp - °C\"]\n",
    "\n",
    "# Separar en train y test\n",
    "X_train, X_test, y_train, y_test = train_test_split(X, y, test_size = 0.2, random_state = 42)\n",
    "\n",
    "# Modelo\n",
    "model_xgboost = xgboost.XGBRegressor()#n_estimators=100, max_features=4, min_samples_leaf=10,random_state=0, n_jobs=2)\n",
    "model_xgboost.fit(X_train, y_train)\n",
    "y_predict = model_xgboost.predict(X_test)\n",
    "\n",
    "# Errores\n",
    "rmse = math.sqrt(mean_squared_error(y_test, y_predict))\n",
    "print(\"RMSE:\", rmse)\n",
    "\n",
    "mae = mean_absolute_error(y_test, y_predict)\n",
    "print(\"MAE:\", mae)\n",
    "\n",
    "r2 = r2_score(y_test, y_predict) \n",
    "print(\"R2:\", r2)\n",
    "\n",
    "x=range(len(y_test))\n",
    "\n",
    "# Gráficas\n",
    "plt.plot(x[:100], y_test[:100])\n",
    "plt.plot(x[:100], y_predict[:100])\n",
    "plt.show()"
   ]
  },
  {
   "cell_type": "code",
   "execution_count": null,
   "metadata": {},
   "outputs": [],
   "source": []
  },
  {
   "cell_type": "code",
   "execution_count": null,
   "metadata": {},
   "outputs": [],
   "source": []
  },
  {
   "cell_type": "code",
   "execution_count": 90,
   "metadata": {},
   "outputs": [
    {
     "data": {
      "text/plain": [
       "[<matplotlib.lines.Line2D at 0x18a1cf82730>]"
      ]
     },
     "execution_count": 90,
     "metadata": {},
     "output_type": "execute_result"
    },
    {
     "data": {
      "image/png": "[encoded data removed]",
      "text/plain": [
       "<Figure size 432x288 with 1 Axes>"
      ]
     },
     "metadata": {
      "needs_background": "light"
     },
     "output_type": "display_data"
    }
   ],
   "source": [
    "# Comparar temperaturas\n",
    "datos_merge = datosSD.merge(datos_solar[['Date & Time',\"AirTemp\"]],how=\"left\", on='Date & Time')\n",
    "\n",
    "k = 2358\n",
    "\n",
    "start = k + 0\n",
    "end = k + 24*7\n",
    "\n",
    "graph = datos_merge.iloc[start:end,:]\n",
    "\n",
    "plt.plot(graph[\"AirTemp\"].tolist())\n",
    "plt.plot(graph['Temp - °C'].tolist())"
   ]
  },
  {
   "cell_type": "code",
   "execution_count": 73,
   "metadata": {},
   "outputs": [
    {
     "data": {
      "text/plain": [
       "[<matplotlib.lines.Line2D at 0x18a1cbbdaf0>]"
      ]
     },
     "execution_count": 73,
     "metadata": {},
     "output_type": "execute_result"
    },
    {
     "data": {
      "image/png": "[encoded data removed]",
      "text/plain": [
       "<Figure size 432x288 with 1 Axes>"
      ]
     },
     "metadata": {
      "needs_background": "light"
     },
     "output_type": "display_data"
    }
   ],
   "source": [
    "x1 = datos_solar[datos_solar[\"PeriodStart\"]>=\"2019-05-07T16:00:00Z\"].head(72)[\"AirTemp\"].tolist()\n",
    "x2 = datosSD.head(72)['Temp - °C'].tolist()\n",
    "\n",
    "plt.plot(x1)\n",
    "plt.plot(x2)"
   ]
  },
  {
   "cell_type": "code",
   "execution_count": 29,
   "metadata": {},
   "outputs": [
    {
     "data": {
      "text/plain": [
       "['PeriodEnd',\n",
       " 'PeriodStart',\n",
       " 'Period',\n",
       " 'AirTemp',\n",
       " 'AlbedoDaily',\n",
       " 'Azimuth',\n",
       " 'CloudOpacity',\n",
       " 'DewpointTemp',\n",
       " 'Dhi',\n",
       " 'Dni',\n",
       " 'Ebh',\n",
       " 'Ghi',\n",
       " 'GtiFixedTilt',\n",
       " 'GtiTracking',\n",
       " 'PrecipitableWater',\n",
       " 'RelativeHumidity',\n",
       " 'SnowDepth',\n",
       " 'SurfacePressure',\n",
       " 'WindDirection10m',\n",
       " 'WindSpeed10m',\n",
       " 'Zenith']"
      ]
     },
     "execution_count": 29,
     "metadata": {},
     "output_type": "execute_result"
    }
   ],
   "source": [
    "list(datosSolar)"
   ]
  },
  {
   "cell_type": "code",
   "execution_count": 30,
   "metadata": {},
   "outputs": [
    {
     "data": {
      "text/html": [
       "<div>\n",
       "<style scoped>\n",
       "    .dataframe tbody tr th:only-of-type {\n",
       "        vertical-align: middle;\n",
       "    }\n",
       "\n",
       "    .dataframe tbody tr th {\n",
       "        vertical-align: top;\n",
       "    }\n",
       "\n",
       "    .dataframe thead th {\n",
       "        text-align: right;\n",
       "    }\n",
       "</style>\n",
       "<table border=\"1\" class=\"dataframe\">\n",
       "  <thead>\n",
       "    <tr style=\"text-align: right;\">\n",
       "      <th></th>\n",
       "      <th>PeriodEnd</th>\n",
       "      <th>PeriodStart</th>\n",
       "      <th>Period</th>\n",
       "      <th>AirTemp</th>\n",
       "      <th>AlbedoDaily</th>\n",
       "      <th>Azimuth</th>\n",
       "      <th>CloudOpacity</th>\n",
       "      <th>DewpointTemp</th>\n",
       "      <th>Dhi</th>\n",
       "      <th>Dni</th>\n",
       "      <th>...</th>\n",
       "      <th>Ghi</th>\n",
       "      <th>GtiFixedTilt</th>\n",
       "      <th>GtiTracking</th>\n",
       "      <th>PrecipitableWater</th>\n",
       "      <th>RelativeHumidity</th>\n",
       "      <th>SnowDepth</th>\n",
       "      <th>SurfacePressure</th>\n",
       "      <th>WindDirection10m</th>\n",
       "      <th>WindSpeed10m</th>\n",
       "      <th>Zenith</th>\n",
       "    </tr>\n",
       "  </thead>\n",
       "  <tbody>\n",
       "    <tr>\n",
       "      <th>0</th>\n",
       "      <td>2007-01-01T02:00:00Z</td>\n",
       "      <td>2007-01-01T01:00:00Z</td>\n",
       "      <td>PT60M</td>\n",
       "      <td>10.5</td>\n",
       "      <td>0.15</td>\n",
       "      <td>-45</td>\n",
       "      <td>0.2</td>\n",
       "      <td>7.9</td>\n",
       "      <td>0</td>\n",
       "      <td>0</td>\n",
       "      <td>...</td>\n",
       "      <td>0</td>\n",
       "      <td>0</td>\n",
       "      <td>0</td>\n",
       "      <td>14.5</td>\n",
       "      <td>83.7</td>\n",
       "      <td>0.0</td>\n",
       "      <td>1008.3</td>\n",
       "      <td>246</td>\n",
       "      <td>10.7</td>\n",
       "      <td>144</td>\n",
       "    </tr>\n",
       "    <tr>\n",
       "      <th>1</th>\n",
       "      <td>2007-01-01T03:00:00Z</td>\n",
       "      <td>2007-01-01T02:00:00Z</td>\n",
       "      <td>PT60M</td>\n",
       "      <td>9.8</td>\n",
       "      <td>0.15</td>\n",
       "      <td>-64</td>\n",
       "      <td>0.0</td>\n",
       "      <td>7.2</td>\n",
       "      <td>0</td>\n",
       "      <td>0</td>\n",
       "      <td>...</td>\n",
       "      <td>0</td>\n",
       "      <td>0</td>\n",
       "      <td>0</td>\n",
       "      <td>13.0</td>\n",
       "      <td>83.8</td>\n",
       "      <td>0.0</td>\n",
       "      <td>1008.4</td>\n",
       "      <td>249</td>\n",
       "      <td>10.8</td>\n",
       "      <td>137</td>\n",
       "    </tr>\n",
       "    <tr>\n",
       "      <th>2</th>\n",
       "      <td>2007-01-01T04:00:00Z</td>\n",
       "      <td>2007-01-01T03:00:00Z</td>\n",
       "      <td>PT60M</td>\n",
       "      <td>9.3</td>\n",
       "      <td>0.15</td>\n",
       "      <td>-79</td>\n",
       "      <td>0.0</td>\n",
       "      <td>6.6</td>\n",
       "      <td>0</td>\n",
       "      <td>0</td>\n",
       "      <td>...</td>\n",
       "      <td>0</td>\n",
       "      <td>0</td>\n",
       "      <td>0</td>\n",
       "      <td>12.3</td>\n",
       "      <td>83.0</td>\n",
       "      <td>0.0</td>\n",
       "      <td>1008.5</td>\n",
       "      <td>250</td>\n",
       "      <td>10.9</td>\n",
       "      <td>128</td>\n",
       "    </tr>\n",
       "    <tr>\n",
       "      <th>3</th>\n",
       "      <td>2007-01-01T05:00:00Z</td>\n",
       "      <td>2007-01-01T04:00:00Z</td>\n",
       "      <td>PT60M</td>\n",
       "      <td>8.9</td>\n",
       "      <td>0.15</td>\n",
       "      <td>-91</td>\n",
       "      <td>0.0</td>\n",
       "      <td>5.9</td>\n",
       "      <td>0</td>\n",
       "      <td>0</td>\n",
       "      <td>...</td>\n",
       "      <td>0</td>\n",
       "      <td>0</td>\n",
       "      <td>0</td>\n",
       "      <td>12.2</td>\n",
       "      <td>81.5</td>\n",
       "      <td>0.0</td>\n",
       "      <td>1008.6</td>\n",
       "      <td>251</td>\n",
       "      <td>11.0</td>\n",
       "      <td>119</td>\n",
       "    </tr>\n",
       "    <tr>\n",
       "      <th>4</th>\n",
       "      <td>2007-01-01T06:00:00Z</td>\n",
       "      <td>2007-01-01T05:00:00Z</td>\n",
       "      <td>PT60M</td>\n",
       "      <td>8.6</td>\n",
       "      <td>0.15</td>\n",
       "      <td>-102</td>\n",
       "      <td>0.0</td>\n",
       "      <td>5.3</td>\n",
       "      <td>0</td>\n",
       "      <td>0</td>\n",
       "      <td>...</td>\n",
       "      <td>0</td>\n",
       "      <td>0</td>\n",
       "      <td>0</td>\n",
       "      <td>12.1</td>\n",
       "      <td>79.9</td>\n",
       "      <td>0.0</td>\n",
       "      <td>1008.6</td>\n",
       "      <td>251</td>\n",
       "      <td>11.1</td>\n",
       "      <td>110</td>\n",
       "    </tr>\n",
       "    <tr>\n",
       "      <th>...</th>\n",
       "      <td>...</td>\n",
       "      <td>...</td>\n",
       "      <td>...</td>\n",
       "      <td>...</td>\n",
       "      <td>...</td>\n",
       "      <td>...</td>\n",
       "      <td>...</td>\n",
       "      <td>...</td>\n",
       "      <td>...</td>\n",
       "      <td>...</td>\n",
       "      <td>...</td>\n",
       "      <td>...</td>\n",
       "      <td>...</td>\n",
       "      <td>...</td>\n",
       "      <td>...</td>\n",
       "      <td>...</td>\n",
       "      <td>...</td>\n",
       "      <td>...</td>\n",
       "      <td>...</td>\n",
       "      <td>...</td>\n",
       "      <td>...</td>\n",
       "    </tr>\n",
       "    <tr>\n",
       "      <th>121336</th>\n",
       "      <td>2020-11-03T18:00:00Z</td>\n",
       "      <td>2020-11-03T17:00:00Z</td>\n",
       "      <td>PT60M</td>\n",
       "      <td>9.1</td>\n",
       "      <td>0.15</td>\n",
       "      <td>98</td>\n",
       "      <td>42.8</td>\n",
       "      <td>3.7</td>\n",
       "      <td>0</td>\n",
       "      <td>0</td>\n",
       "      <td>...</td>\n",
       "      <td>0</td>\n",
       "      <td>0</td>\n",
       "      <td>0</td>\n",
       "      <td>11.3</td>\n",
       "      <td>68.8</td>\n",
       "      <td>0.0</td>\n",
       "      <td>1020.3</td>\n",
       "      <td>239</td>\n",
       "      <td>4.6</td>\n",
       "      <td>103</td>\n",
       "    </tr>\n",
       "    <tr>\n",
       "      <th>121337</th>\n",
       "      <td>2020-11-03T19:00:00Z</td>\n",
       "      <td>2020-11-03T18:00:00Z</td>\n",
       "      <td>PT60M</td>\n",
       "      <td>8.9</td>\n",
       "      <td>0.15</td>\n",
       "      <td>86</td>\n",
       "      <td>17.0</td>\n",
       "      <td>4.0</td>\n",
       "      <td>0</td>\n",
       "      <td>0</td>\n",
       "      <td>...</td>\n",
       "      <td>0</td>\n",
       "      <td>0</td>\n",
       "      <td>0</td>\n",
       "      <td>11.4</td>\n",
       "      <td>71.5</td>\n",
       "      <td>0.0</td>\n",
       "      <td>1021.0</td>\n",
       "      <td>233</td>\n",
       "      <td>4.4</td>\n",
       "      <td>112</td>\n",
       "    </tr>\n",
       "    <tr>\n",
       "      <th>121338</th>\n",
       "      <td>2020-11-03T20:00:00Z</td>\n",
       "      <td>2020-11-03T19:00:00Z</td>\n",
       "      <td>PT60M</td>\n",
       "      <td>8.6</td>\n",
       "      <td>0.15</td>\n",
       "      <td>74</td>\n",
       "      <td>17.1</td>\n",
       "      <td>4.3</td>\n",
       "      <td>0</td>\n",
       "      <td>0</td>\n",
       "      <td>...</td>\n",
       "      <td>0</td>\n",
       "      <td>0</td>\n",
       "      <td>0</td>\n",
       "      <td>11.2</td>\n",
       "      <td>74.1</td>\n",
       "      <td>0.0</td>\n",
       "      <td>1021.4</td>\n",
       "      <td>232</td>\n",
       "      <td>4.3</td>\n",
       "      <td>121</td>\n",
       "    </tr>\n",
       "    <tr>\n",
       "      <th>121339</th>\n",
       "      <td>2020-11-03T21:00:00Z</td>\n",
       "      <td>2020-11-03T20:00:00Z</td>\n",
       "      <td>PT60M</td>\n",
       "      <td>8.3</td>\n",
       "      <td>0.15</td>\n",
       "      <td>59</td>\n",
       "      <td>18.8</td>\n",
       "      <td>4.2</td>\n",
       "      <td>0</td>\n",
       "      <td>0</td>\n",
       "      <td>...</td>\n",
       "      <td>0</td>\n",
       "      <td>0</td>\n",
       "      <td>0</td>\n",
       "      <td>10.5</td>\n",
       "      <td>75.1</td>\n",
       "      <td>0.0</td>\n",
       "      <td>1022.0</td>\n",
       "      <td>239</td>\n",
       "      <td>4.3</td>\n",
       "      <td>130</td>\n",
       "    </tr>\n",
       "    <tr>\n",
       "      <th>121340</th>\n",
       "      <td>2020-11-03T22:00:00Z</td>\n",
       "      <td>2020-11-03T21:00:00Z</td>\n",
       "      <td>PT60M</td>\n",
       "      <td>8.1</td>\n",
       "      <td>0.15</td>\n",
       "      <td>42</td>\n",
       "      <td>0.1</td>\n",
       "      <td>3.9</td>\n",
       "      <td>0</td>\n",
       "      <td>0</td>\n",
       "      <td>...</td>\n",
       "      <td>0</td>\n",
       "      <td>0</td>\n",
       "      <td>0</td>\n",
       "      <td>10.1</td>\n",
       "      <td>74.4</td>\n",
       "      <td>0.0</td>\n",
       "      <td>1022.9</td>\n",
       "      <td>247</td>\n",
       "      <td>4.3</td>\n",
       "      <td>137</td>\n",
       "    </tr>\n",
       "  </tbody>\n",
       "</table>\n",
       "<p>121341 rows × 21 columns</p>\n",
       "</div>"
      ],
      "text/plain": [
       "                   PeriodEnd           PeriodStart Period  AirTemp  \\\n",
       "0       2007-01-01T02:00:00Z  2007-01-01T01:00:00Z  PT60M     10.5   \n",
       "1       2007-01-01T03:00:00Z  2007-01-01T02:00:00Z  PT60M      9.8   \n",
       "2       2007-01-01T04:00:00Z  2007-01-01T03:00:00Z  PT60M      9.3   \n",
       "3       2007-01-01T05:00:00Z  2007-01-01T04:00:00Z  PT60M      8.9   \n",
       "4       2007-01-01T06:00:00Z  2007-01-01T05:00:00Z  PT60M      8.6   \n",
       "...                      ...                   ...    ...      ...   \n",
       "121336  2020-11-03T18:00:00Z  2020-11-03T17:00:00Z  PT60M      9.1   \n",
       "121337  2020-11-03T19:00:00Z  2020-11-03T18:00:00Z  PT60M      8.9   \n",
       "121338  2020-11-03T20:00:00Z  2020-11-03T19:00:00Z  PT60M      8.6   \n",
       "121339  2020-11-03T21:00:00Z  2020-11-03T20:00:00Z  PT60M      8.3   \n",
       "121340  2020-11-03T22:00:00Z  2020-11-03T21:00:00Z  PT60M      8.1   \n",
       "\n",
       "        AlbedoDaily  Azimuth  CloudOpacity  DewpointTemp  Dhi  Dni  ...  Ghi  \\\n",
       "0              0.15      -45           0.2           7.9    0    0  ...    0   \n",
       "1              0.15      -64           0.0           7.2    0    0  ...    0   \n",
       "2              0.15      -79           0.0           6.6    0    0  ...    0   \n",
       "3              0.15      -91           0.0           5.9    0    0  ...    0   \n",
       "4              0.15     -102           0.0           5.3    0    0  ...    0   \n",
       "...             ...      ...           ...           ...  ...  ...  ...  ...   \n",
       "121336         0.15       98          42.8           3.7    0    0  ...    0   \n",
       "121337         0.15       86          17.0           4.0    0    0  ...    0   \n",
       "121338         0.15       74          17.1           4.3    0    0  ...    0   \n",
       "121339         0.15       59          18.8           4.2    0    0  ...    0   \n",
       "121340         0.15       42           0.1           3.9    0    0  ...    0   \n",
       "\n",
       "        GtiFixedTilt  GtiTracking  PrecipitableWater  RelativeHumidity  \\\n",
       "0                  0            0               14.5              83.7   \n",
       "1                  0            0               13.0              83.8   \n",
       "2                  0            0               12.3              83.0   \n",
       "3                  0            0               12.2              81.5   \n",
       "4                  0            0               12.1              79.9   \n",
       "...              ...          ...                ...               ...   \n",
       "121336             0            0               11.3              68.8   \n",
       "121337             0            0               11.4              71.5   \n",
       "121338             0            0               11.2              74.1   \n",
       "121339             0            0               10.5              75.1   \n",
       "121340             0            0               10.1              74.4   \n",
       "\n",
       "        SnowDepth  SurfacePressure  WindDirection10m  WindSpeed10m  Zenith  \n",
       "0             0.0           1008.3               246          10.7     144  \n",
       "1             0.0           1008.4               249          10.8     137  \n",
       "2             0.0           1008.5               250          10.9     128  \n",
       "3             0.0           1008.6               251          11.0     119  \n",
       "4             0.0           1008.6               251          11.1     110  \n",
       "...           ...              ...               ...           ...     ...  \n",
       "121336        0.0           1020.3               239           4.6     103  \n",
       "121337        0.0           1021.0               233           4.4     112  \n",
       "121338        0.0           1021.4               232           4.3     121  \n",
       "121339        0.0           1022.0               239           4.3     130  \n",
       "121340        0.0           1022.9               247           4.3     137  \n",
       "\n",
       "[121341 rows x 21 columns]"
      ]
     },
     "execution_count": 30,
     "metadata": {},
     "output_type": "execute_result"
    }
   ],
   "source": [
    "datosSolar"
   ]
  },
  {
   "cell_type": "code",
   "execution_count": 31,
   "metadata": {},
   "outputs": [
    {
     "ename": "NameError",
     "evalue": "name 'datosSolar2' is not defined",
     "output_type": "error",
     "traceback": [
      "\u001b[1;31m---------------------------------------------------------------------------\u001b[0m",
      "\u001b[1;31mNameError\u001b[0m                                 Traceback (most recent call last)",
      "\u001b[1;32m<ipython-input-31-5df163e7df43>\u001b[0m in \u001b[0;36m<module>\u001b[1;34m\u001b[0m\n\u001b[1;32m----> 1\u001b[1;33m \u001b[0mdatosSolar\u001b[0m \u001b[1;33m=\u001b[0m \u001b[0mdatosSolar2\u001b[0m\u001b[1;33m.\u001b[0m\u001b[0mset_index\u001b[0m\u001b[1;33m(\u001b[0m\u001b[1;34m'PeriodEnd'\u001b[0m\u001b[1;33m)\u001b[0m\u001b[1;33m\u001b[0m\u001b[1;33m\u001b[0m\u001b[0m\n\u001b[0m",
      "\u001b[1;31mNameError\u001b[0m: name 'datosSolar2' is not defined"
     ]
    }
   ],
   "source": [
    "datosSolar = datosSolar2.set_index('PeriodEnd')"
   ]
  },
  {
   "cell_type": "code",
   "execution_count": null,
   "metadata": {},
   "outputs": [],
   "source": [
    "datosSolar"
   ]
  },
  {
   "cell_type": "code",
   "execution_count": 32,
   "metadata": {},
   "outputs": [
    {
     "name": "stdout",
     "output_type": "stream",
     "text": [
      "2019-05-07 00:00:00  2021-02-01 00:00:00\n"
     ]
    }
   ],
   "source": [
    "print(str(datosSD.min()['Date'])+ \"  \"+ str(datosSD.max()['Date']))\n",
    "#['Date & Time']"
   ]
  },
  {
   "cell_type": "code",
   "execution_count": null,
   "metadata": {},
   "outputs": [],
   "source": [
    "print(str(datosSD.min()['Date & Time'])+ \"  \"+ str(datosSD.max()['Date & Time']))\n",
    "#['Date & Time']"
   ]
  },
  {
   "cell_type": "code",
   "execution_count": 33,
   "metadata": {},
   "outputs": [
    {
     "ename": "TypeError",
     "evalue": "cannot do slice indexing on RangeIndex with these indexers [2019-05-07T16:00:00Z] of type str",
     "output_type": "error",
     "traceback": [
      "\u001b[1;31m---------------------------------------------------------------------------\u001b[0m",
      "\u001b[1;31mTypeError\u001b[0m                                 Traceback (most recent call last)",
      "\u001b[1;32m<ipython-input-33-fb7d2d238822>\u001b[0m in \u001b[0;36m<module>\u001b[1;34m\u001b[0m\n\u001b[1;32m----> 1\u001b[1;33m \u001b[0mdataSolarRangoSD\u001b[0m \u001b[1;33m=\u001b[0m \u001b[0mdatosSolar\u001b[0m\u001b[1;33m[\u001b[0m\u001b[1;34m\"2019-05-07T16:00:00Z\"\u001b[0m\u001b[1;33m:\u001b[0m\u001b[1;34m\"2020-11-03T21:00:00Z\"\u001b[0m\u001b[1;33m]\u001b[0m\u001b[1;33m\u001b[0m\u001b[1;33m\u001b[0m\u001b[0m\n\u001b[0m",
      "\u001b[1;32mC:\\ProgramData\\Anaconda3\\lib\\site-packages\\pandas\\core\\frame.py\u001b[0m in \u001b[0;36m__getitem__\u001b[1;34m(self, key)\u001b[0m\n\u001b[0;32m   2879\u001b[0m \u001b[1;33m\u001b[0m\u001b[0m\n\u001b[0;32m   2880\u001b[0m         \u001b[1;31m# Do we have a slicer (on rows)?\u001b[0m\u001b[1;33m\u001b[0m\u001b[1;33m\u001b[0m\u001b[1;33m\u001b[0m\u001b[0m\n\u001b[1;32m-> 2881\u001b[1;33m         \u001b[0mindexer\u001b[0m \u001b[1;33m=\u001b[0m \u001b[0mconvert_to_index_sliceable\u001b[0m\u001b[1;33m(\u001b[0m\u001b[0mself\u001b[0m\u001b[1;33m,\u001b[0m \u001b[0mkey\u001b[0m\u001b[1;33m)\u001b[0m\u001b[1;33m\u001b[0m\u001b[1;33m\u001b[0m\u001b[0m\n\u001b[0m\u001b[0;32m   2882\u001b[0m         \u001b[1;32mif\u001b[0m \u001b[0mindexer\u001b[0m \u001b[1;32mis\u001b[0m \u001b[1;32mnot\u001b[0m \u001b[1;32mNone\u001b[0m\u001b[1;33m:\u001b[0m\u001b[1;33m\u001b[0m\u001b[1;33m\u001b[0m\u001b[0m\n\u001b[0;32m   2883\u001b[0m             \u001b[1;31m# either we have a slice or we have a string that can be converted\u001b[0m\u001b[1;33m\u001b[0m\u001b[1;33m\u001b[0m\u001b[1;33m\u001b[0m\u001b[0m\n",
      "\u001b[1;32mC:\\ProgramData\\Anaconda3\\lib\\site-packages\\pandas\\core\\indexing.py\u001b[0m in \u001b[0;36mconvert_to_index_sliceable\u001b[1;34m(obj, key)\u001b[0m\n\u001b[0;32m   2132\u001b[0m     \u001b[0midx\u001b[0m \u001b[1;33m=\u001b[0m \u001b[0mobj\u001b[0m\u001b[1;33m.\u001b[0m\u001b[0mindex\u001b[0m\u001b[1;33m\u001b[0m\u001b[1;33m\u001b[0m\u001b[0m\n\u001b[0;32m   2133\u001b[0m     \u001b[1;32mif\u001b[0m \u001b[0misinstance\u001b[0m\u001b[1;33m(\u001b[0m\u001b[0mkey\u001b[0m\u001b[1;33m,\u001b[0m \u001b[0mslice\u001b[0m\u001b[1;33m)\u001b[0m\u001b[1;33m:\u001b[0m\u001b[1;33m\u001b[0m\u001b[1;33m\u001b[0m\u001b[0m\n\u001b[1;32m-> 2134\u001b[1;33m         \u001b[1;32mreturn\u001b[0m \u001b[0midx\u001b[0m\u001b[1;33m.\u001b[0m\u001b[0m_convert_slice_indexer\u001b[0m\u001b[1;33m(\u001b[0m\u001b[0mkey\u001b[0m\u001b[1;33m,\u001b[0m \u001b[0mkind\u001b[0m\u001b[1;33m=\u001b[0m\u001b[1;34m\"getitem\"\u001b[0m\u001b[1;33m)\u001b[0m\u001b[1;33m\u001b[0m\u001b[1;33m\u001b[0m\u001b[0m\n\u001b[0m\u001b[0;32m   2135\u001b[0m \u001b[1;33m\u001b[0m\u001b[0m\n\u001b[0;32m   2136\u001b[0m     \u001b[1;32melif\u001b[0m \u001b[0misinstance\u001b[0m\u001b[1;33m(\u001b[0m\u001b[0mkey\u001b[0m\u001b[1;33m,\u001b[0m \u001b[0mstr\u001b[0m\u001b[1;33m)\u001b[0m\u001b[1;33m:\u001b[0m\u001b[1;33m\u001b[0m\u001b[1;33m\u001b[0m\u001b[0m\n",
      "\u001b[1;32mC:\\ProgramData\\Anaconda3\\lib\\site-packages\\pandas\\core\\indexes\\base.py\u001b[0m in \u001b[0;36m_convert_slice_indexer\u001b[1;34m(self, key, kind)\u001b[0m\n\u001b[0;32m   3154\u001b[0m             \"\"\"\n\u001b[0;32m   3155\u001b[0m             \u001b[1;32mif\u001b[0m \u001b[0mself\u001b[0m\u001b[1;33m.\u001b[0m\u001b[0mis_integer\u001b[0m\u001b[1;33m(\u001b[0m\u001b[1;33m)\u001b[0m \u001b[1;32mor\u001b[0m \u001b[0mis_index_slice\u001b[0m\u001b[1;33m:\u001b[0m\u001b[1;33m\u001b[0m\u001b[1;33m\u001b[0m\u001b[0m\n\u001b[1;32m-> 3156\u001b[1;33m                 \u001b[0mself\u001b[0m\u001b[1;33m.\u001b[0m\u001b[0m_validate_indexer\u001b[0m\u001b[1;33m(\u001b[0m\u001b[1;34m\"slice\"\u001b[0m\u001b[1;33m,\u001b[0m \u001b[0mkey\u001b[0m\u001b[1;33m.\u001b[0m\u001b[0mstart\u001b[0m\u001b[1;33m,\u001b[0m \u001b[1;34m\"getitem\"\u001b[0m\u001b[1;33m)\u001b[0m\u001b[1;33m\u001b[0m\u001b[1;33m\u001b[0m\u001b[0m\n\u001b[0m\u001b[0;32m   3157\u001b[0m                 \u001b[0mself\u001b[0m\u001b[1;33m.\u001b[0m\u001b[0m_validate_indexer\u001b[0m\u001b[1;33m(\u001b[0m\u001b[1;34m\"slice\"\u001b[0m\u001b[1;33m,\u001b[0m \u001b[0mkey\u001b[0m\u001b[1;33m.\u001b[0m\u001b[0mstop\u001b[0m\u001b[1;33m,\u001b[0m \u001b[1;34m\"getitem\"\u001b[0m\u001b[1;33m)\u001b[0m\u001b[1;33m\u001b[0m\u001b[1;33m\u001b[0m\u001b[0m\n\u001b[0;32m   3158\u001b[0m                 \u001b[0mself\u001b[0m\u001b[1;33m.\u001b[0m\u001b[0m_validate_indexer\u001b[0m\u001b[1;33m(\u001b[0m\u001b[1;34m\"slice\"\u001b[0m\u001b[1;33m,\u001b[0m \u001b[0mkey\u001b[0m\u001b[1;33m.\u001b[0m\u001b[0mstep\u001b[0m\u001b[1;33m,\u001b[0m \u001b[1;34m\"getitem\"\u001b[0m\u001b[1;33m)\u001b[0m\u001b[1;33m\u001b[0m\u001b[1;33m\u001b[0m\u001b[0m\n",
      "\u001b[1;32mC:\\ProgramData\\Anaconda3\\lib\\site-packages\\pandas\\core\\indexes\\base.py\u001b[0m in \u001b[0;36m_validate_indexer\u001b[1;34m(self, form, key, kind)\u001b[0m\n\u001b[0;32m   4995\u001b[0m             \u001b[1;32mpass\u001b[0m\u001b[1;33m\u001b[0m\u001b[1;33m\u001b[0m\u001b[0m\n\u001b[0;32m   4996\u001b[0m         \u001b[1;32melse\u001b[0m\u001b[1;33m:\u001b[0m\u001b[1;33m\u001b[0m\u001b[1;33m\u001b[0m\u001b[0m\n\u001b[1;32m-> 4997\u001b[1;33m             \u001b[0mself\u001b[0m\u001b[1;33m.\u001b[0m\u001b[0m_invalid_indexer\u001b[0m\u001b[1;33m(\u001b[0m\u001b[0mform\u001b[0m\u001b[1;33m,\u001b[0m \u001b[0mkey\u001b[0m\u001b[1;33m)\u001b[0m\u001b[1;33m\u001b[0m\u001b[1;33m\u001b[0m\u001b[0m\n\u001b[0m\u001b[0;32m   4998\u001b[0m \u001b[1;33m\u001b[0m\u001b[0m\n\u001b[0;32m   4999\u001b[0m     \u001b[1;32mdef\u001b[0m \u001b[0m_maybe_cast_slice_bound\u001b[0m\u001b[1;33m(\u001b[0m\u001b[0mself\u001b[0m\u001b[1;33m,\u001b[0m \u001b[0mlabel\u001b[0m\u001b[1;33m,\u001b[0m \u001b[0mside\u001b[0m\u001b[1;33m:\u001b[0m \u001b[0mstr_t\u001b[0m\u001b[1;33m,\u001b[0m \u001b[0mkind\u001b[0m\u001b[1;33m)\u001b[0m\u001b[1;33m:\u001b[0m\u001b[1;33m\u001b[0m\u001b[1;33m\u001b[0m\u001b[0m\n",
      "\u001b[1;32mC:\\ProgramData\\Anaconda3\\lib\\site-packages\\pandas\\core\\indexes\\base.py\u001b[0m in \u001b[0;36m_invalid_indexer\u001b[1;34m(self, form, key)\u001b[0m\n\u001b[0;32m   3265\u001b[0m         \u001b[0mConsistent\u001b[0m \u001b[0minvalid\u001b[0m \u001b[0mindexer\u001b[0m \u001b[0mmessage\u001b[0m\u001b[1;33m.\u001b[0m\u001b[1;33m\u001b[0m\u001b[1;33m\u001b[0m\u001b[0m\n\u001b[0;32m   3266\u001b[0m         \"\"\"\n\u001b[1;32m-> 3267\u001b[1;33m         raise TypeError(\n\u001b[0m\u001b[0;32m   3268\u001b[0m             \u001b[1;34mf\"cannot do {form} indexing on {type(self).__name__} with these \"\u001b[0m\u001b[1;33m\u001b[0m\u001b[1;33m\u001b[0m\u001b[0m\n\u001b[0;32m   3269\u001b[0m             \u001b[1;34mf\"indexers [{key}] of type {type(key).__name__}\"\u001b[0m\u001b[1;33m\u001b[0m\u001b[1;33m\u001b[0m\u001b[0m\n",
      "\u001b[1;31mTypeError\u001b[0m: cannot do slice indexing on RangeIndex with these indexers [2019-05-07T16:00:00Z] of type str"
     ]
    }
   ],
   "source": [
    "dataSolarRangoSD = datosSolar[\"2019-05-07T16:00:00Z\":\"2020-11-03T21:00:00Z\"]"
   ]
  },
  {
   "cell_type": "code",
   "execution_count": null,
   "metadata": {},
   "outputs": [],
   "source": [
    "data['AirTemp']"
   ]
  },
  {
   "cell_type": "code",
   "execution_count": null,
   "metadata": {},
   "outputs": [],
   "source": [
    "dataSolarRangoSD"
   ]
  },
  {
   "cell_type": "code",
   "execution_count": null,
   "metadata": {},
   "outputs": [],
   "source": [
    "len(dataSolarRangoSD)==len(datosSD)"
   ]
  },
  {
   "cell_type": "code",
   "execution_count": null,
   "metadata": {},
   "outputs": [],
   "source": [
    "len(datosSD)"
   ]
  },
  {
   "cell_type": "code",
   "execution_count": null,
   "metadata": {},
   "outputs": [],
   "source": [
    "len(dataSolarRangoSD)"
   ]
  },
  {
   "cell_type": "code",
   "execution_count": null,
   "metadata": {},
   "outputs": [],
   "source": [
    "\"\"\"Conclusión: Debo completar los datos faltantes del SD.\n",
    "Para esto debo:\n",
    "mirar e identificar los gaps\"\"\"\n",
    "min_date = np.datetime64('2019-05-07')\n",
    "max_date = np.datetime64('2021-02-02')\n",
    "cantidad_totales = pd.date_range(start = min_date, end = max_date, freq=\"H\" )\n",
    "print(cantidad_totales)"
   ]
  },
  {
   "cell_type": "code",
   "execution_count": null,
   "metadata": {},
   "outputs": [],
   "source": [
    "cantidad_totales[16:-15]"
   ]
  },
  {
   "cell_type": "code",
   "execution_count": null,
   "metadata": {},
   "outputs": [],
   "source": [
    "len(cantidad_totales[16:-15])#En SD hay 15253 de 2019-05-07 16:00:00  2021-02-01 09:00:00"
   ]
  },
  {
   "cell_type": "code",
   "execution_count": null,
   "metadata": {},
   "outputs": [],
   "source": [
    "cantidad_totales = cantidad_totales[16:-15]"
   ]
  },
  {
   "cell_type": "code",
   "execution_count": null,
   "metadata": {},
   "outputs": [],
   "source": [
    "# Faltan 5?\n",
    "faltantes = cantidad_totales.difference(datosSD['Date & Time'])\n",
    "\n",
    "print(\"Cantidad horas faltantes: {}\".format(len(faltantes)))\n",
    "print(\"Cantidad horas Totales: {}\".format(len(cantidad_totales)))\n",
    "\n",
    "faltantes"
   ]
  },
  {
   "cell_type": "code",
   "execution_count": null,
   "metadata": {},
   "outputs": [],
   "source": [
    "# Gráficas\n",
    "x1=range(len(dataSolarRangoSD))\n",
    "x2=range(len(datosSD))\n",
    "plt.plot(x1,dataSolarRangoSD['AirTemp'])\n",
    "plt.plot(x2,datosSD['Temp - °C'])\n",
    "plt.show()"
   ]
  },
  {
   "cell_type": "code",
   "execution_count": null,
   "metadata": {},
   "outputs": [],
   "source": [
    "plt.plot(x1,dataSolarRangoSD['AirTemp'])\n",
    "plt.show()"
   ]
  },
  {
   "cell_type": "code",
   "execution_count": null,
   "metadata": {},
   "outputs": [],
   "source": [
    "plt.plot(x2,datosSD['Temp - °C'])\n",
    "plt.show()\n",
    "\"\"\"falta machear las horas\"\"\""
   ]
  },
  {
   "cell_type": "code",
   "execution_count": null,
   "metadata": {},
   "outputs": [],
   "source": [
    "cantidad_totales.min()"
   ]
  },
  {
   "cell_type": "code",
   "execution_count": null,
   "metadata": {},
   "outputs": [],
   "source": [
    "# Fecha mínima y máxima\n",
    "min_date = cantidad_totales.min()#datosSD[\"Date & Time\"].min()\n",
    "max_date = cantidad_totales.max()#datosSD[\"Date & Time\"].max()\n",
    "\n",
    "# Todas las fechas entre 'min_darte' y 'max_date'\n",
    "all_dates = cantidad_totales#pd.date_range(start = min_date, end = max_date, freq=\"H\")\n",
    "\n",
    "# Fijar la fecha como el índice\n",
    "#datosSD = datosSD.set_index(\"Date & Time\")\n",
    "\n",
    "# Rellenar fechas faltantes\n",
    "datosSDConFechas = datosSD.reindex(all_dates, fill_value=np.nan)\n",
    "\n",
    "# Regresar fecha como columna\n",
    "datosSDConFechas = datosSDConFechas.reset_index().rename(columns={\"index\":\"Date & Time\"})\n",
    "\n",
    "# Nueva tabla\n",
    "print(\"Nuevo tamaño {}\".format(datosSDConFechas.shape))"
   ]
  },
  {
   "cell_type": "code",
   "execution_count": null,
   "metadata": {},
   "outputs": [],
   "source": [
    "datosSD.shape"
   ]
  },
  {
   "cell_type": "code",
   "execution_count": null,
   "metadata": {},
   "outputs": [],
   "source": [
    "min_date"
   ]
  },
  {
   "cell_type": "code",
   "execution_count": null,
   "metadata": {},
   "outputs": [],
   "source": [
    "max_date"
   ]
  },
  {
   "cell_type": "code",
   "execution_count": null,
   "metadata": {},
   "outputs": [],
   "source": [
    "all_dates"
   ]
  },
  {
   "cell_type": "code",
   "execution_count": null,
   "metadata": {},
   "outputs": [],
   "source": [
    "datosSDConFechas"
   ]
  },
  {
   "cell_type": "code",
   "execution_count": null,
   "metadata": {},
   "outputs": [],
   "source": [
    "\"\"\"Haré un dataset para tenerlos en el mismo y luego hacer drop de los NaN\"\"\"\n",
    "# Se dividen los datos\n",
    "numerics = ['int16', 'int32', 'int64', 'float16', 'float32', 'float64']\n",
    "\n",
    "\"\"\"#Tengo que poner empatar por fechas\"\"\"\n",
    "dataX = dataSolarRangoSD.select_dtypes(include=numerics)\n",
    "dataX\n"
   ]
  },
  {
   "cell_type": "code",
   "execution_count": null,
   "metadata": {},
   "outputs": [],
   "source": [
    "datosSDConFechas.index"
   ]
  },
  {
   "cell_type": "code",
   "execution_count": null,
   "metadata": {},
   "outputs": [],
   "source": [
    "datosSD.index"
   ]
  },
  {
   "cell_type": "code",
   "execution_count": null,
   "metadata": {},
   "outputs": [],
   "source": [
    "dataY = datosSDConFechas.select_dtypes(include=numerics)\n",
    "dataY = dataY.set_index(all_dates)\n",
    "dataY"
   ]
  },
  {
   "cell_type": "code",
   "execution_count": null,
   "metadata": {},
   "outputs": [],
   "source": [
    "len(dataX)==len(dataY)"
   ]
  },
  {
   "cell_type": "code",
   "execution_count": null,
   "metadata": {},
   "outputs": [],
   "source": [
    "print(\" Datos X (datos SolCast): \"+str(len(dataX))+\", Datos Y (datos SD): \"+str(len(dataY)))"
   ]
  },
  {
   "cell_type": "code",
   "execution_count": null,
   "metadata": {},
   "outputs": [],
   "source": [
    "# Función para graficar predicciones\n",
    "def RegresionYgraficas(variable_x = [\"AirTemp\"], variable_y = \"Temp\"):\n",
    "\n",
    "    # Se dividen los datos\n",
    "    numerics = ['int16', 'int32', 'int64', 'float16', 'float32', 'float64']\n",
    "\n",
    "    #dataX = shuffle_data.select_dtypes(include=numerics).drop(columns=\"Temp\")\n",
    "    dataX = shuffle_data[variable_x]\n",
    "    dataY = shuffle_data[\"Temp\"]\n",
    "\n",
    "    train_size = int(len(dataX)*0.8)\n",
    "    test_size = len(dataX) - train_size\n",
    "\n",
    "    trainX, testX = dataX[0:train_size], dataX[test_size:len(dataX)]\n",
    "    trainY, testY = dataY[0:train_size], dataY[test_size:len(dataY)]\n",
    "\n",
    "    # Modelo\n",
    "    clf = linear_model.LinearRegression()\n",
    "    clf.fit(trainX, trainY)\n",
    "    yPredict = clf.predict(testX)\n",
    "\n",
    "    # Errores\n",
    "    rmse = math.sqrt(mean_squared_error(testY, yPredict))\n",
    "    print(\"RMSE:\", rmse)\n",
    "\n",
    "    mae = mean_absolute_error(testY, yPredict)\n",
    "    print(\"MAE:\", mae)\n",
    "\n",
    "    r2 = r2_score(testY,yPredict) \n",
    "    print(\"R2:\", r2)\n",
    "\n",
    "    x=range(len(testY))\n",
    "\n",
    "    # Gráficas\n",
    "    plt.plot(x[:100], testY[:100])\n",
    "    plt.plot(x[:100], yPredict[:100])\n",
    "    plt.show()"
   ]
  },
  {
   "cell_type": "code",
   "execution_count": null,
   "metadata": {},
   "outputs": [],
   "source": [
    "\n",
    "dataY = shuffle_data[\"Temp - °C\"]\n",
    "\n",
    "train_size = int(len(dataX)*0.8)\n",
    "test_size = len(dataX) - train_size\n",
    "\n",
    "trainX, testX = dataX[0:train_size], dataX[test_size:len(dataX)]\n",
    "trainY, testY = dataY[0:train_size], dataY[test_size:len(dataY)]"
   ]
  },
  {
   "cell_type": "code",
   "execution_count": null,
   "metadata": {},
   "outputs": [],
   "source": [
    "# Se dividen los datos\n",
    "\n",
    "#shuffle_data = datosSD.sample(frac=1)\n",
    "#dataX = shuffle_data.select_dtypes(include=numerics).drop(columns=\"Temp - °C\")\n",
    "\n",
    "\"\"\"Ya tengo resultados parciales de temperatura usando los mismos datos sin completar (CDT)\"\"\""
   ]
  },
  {
   "cell_type": "code",
   "execution_count": null,
   "metadata": {},
   "outputs": [],
   "source": [
    "# Modelo datos SD 2021\n",
    "clf = linear_model.LinearRegression()\n",
    "clf.fit(trainX, trainY)\n",
    "yPredict = clf.predict(testX)\n",
    "\n",
    "# Errores\n",
    "rmse = math.sqrt(mean_squared_error(testY, yPredict))\n",
    "print(\"RMSE:\", rmse)\n",
    "\n",
    "mae = mean_absolute_error(testY, yPredict)\n",
    "print(\"MAE:\", mae)\n",
    "\n",
    "r2 = r2_score(testY,yPredict) \n",
    "print(\"R2:\", r2)\n",
    "\n",
    "x=range(len(testY))\n",
    "\n",
    "# Gráficas\n",
    "plt.plot(x[:100], testY[:100])\n",
    "plt.plot(x[:100], yPredict[:100])\n",
    "plt.show()"
   ]
  },
  {
   "cell_type": "code",
   "execution_count": null,
   "metadata": {
    "ExecuteTime": {
     "end_time": "2021-03-05T03:19:55.561281Z",
     "start_time": "2021-03-05T03:19:55.459278Z"
    },
    "id": "B6uazvw0eOtT",
    "outputId": "01eb45fd-48ab-482e-f264-c88a0faf3229"
   },
   "outputs": [],
   "source": [
    "# Modelo datos SD 2020\n",
    "clf = linear_model.LinearRegression()\n",
    "clf.fit(trainX, trainY)\n",
    "yPredict = clf.predict(testX)\n",
    "\n",
    "# Errores\n",
    "rmse = math.sqrt(mean_squared_error(testY, yPredict))\n",
    "print(\"RMSE:\", rmse)\n",
    "\n",
    "mae = mean_absolute_error(testY, yPredict)\n",
    "print(\"MAE:\", mae)\n",
    "\n",
    "r2 = r2_score(testY,yPredict) \n",
    "print(\"R2:\", r2)\n",
    "\n",
    "x=range(len(testY))\n",
    "\n",
    "# Gráficas\n",
    "plt.plot(x[:100], testY[:100])\n",
    "plt.plot(x[:100], yPredict[:100])\n",
    "plt.show()"
   ]
  },
  {
   "cell_type": "code",
   "execution_count": null,
   "metadata": {},
   "outputs": [],
   "source": []
  },
  {
   "cell_type": "markdown",
   "metadata": {
    "ExecuteTime": {
     "end_time": "2021-03-05T03:06:55.523937Z",
     "start_time": "2021-03-05T03:06:55.510937Z"
    },
    "id": "GWpF9a4geOtT"
   },
   "source": [
    "## Normalizando"
   ]
  },
  {
   "cell_type": "code",
   "execution_count": null,
   "metadata": {
    "ExecuteTime": {
     "end_time": "2021-03-05T03:21:23.868424Z",
     "start_time": "2021-03-05T03:21:23.833393Z"
    },
    "id": "niNqHYjleOtV",
    "outputId": "826b55a7-fa37-43fc-f51f-b635f83d09fb"
   },
   "outputs": [],
   "source": [
    "from sklearn import preprocessing\n",
    "\n",
    "x = shuffle_data.select_dtypes(include=numerics).values #returns a numpy array\n",
    "min_max_scaler = preprocessing.MinMaxScaler()\n",
    "x_scaled = min_max_scaler.fit_transform(x)\n",
    "normalized_shuffle_data = pd.DataFrame(x_scaled, columns = shuffle_data.select_dtypes(include=numerics).columns)\n",
    "normalized_shuffle_data"
   ]
  },
  {
   "cell_type": "code",
   "execution_count": null,
   "metadata": {
    "ExecuteTime": {
     "end_time": "2021-03-05T03:21:29.205388Z",
     "start_time": "2021-03-05T03:21:29.188388Z"
    },
    "id": "8lQNGOSPeOtW"
   },
   "outputs": [],
   "source": [
    "# Se dividen los datos\n",
    "numerics = ['int16', 'int32', 'int64', 'float16', 'float32', 'float64']\n",
    "\n",
    "#dataX = normalized_shuffle_data.select_dtypes(include=numerics).drop(columns=\"Temp\")\n",
    "dataX = shuffle_data[[\"AirTemp\"]]\n",
    "dataY = normalized_shuffle_data[\"Temp\"]\n",
    "\n",
    "train_size = int(len(dataX)*0.8)\n",
    "test_size = len(dataX) - train_size\n",
    "\n",
    "trainX, testX = dataX[0:train_size], dataX[test_size:len(dataX)]\n",
    "trainY, testY = dataY[0:train_size], dataY[test_size:len(dataY)]"
   ]
  },
  {
   "cell_type": "code",
   "execution_count": null,
   "metadata": {
    "ExecuteTime": {
     "end_time": "2021-03-05T03:21:30.402486Z",
     "start_time": "2021-03-05T03:21:30.308153Z"
    },
    "id": "BczxGs5KeOtX",
    "outputId": "1233da9b-da9d-4bb6-8011-499bc7f91970"
   },
   "outputs": [],
   "source": [
    "# Modelo\n",
    "clf = linear_model.LinearRegression()\n",
    "clf.fit(trainX, trainY)\n",
    "yPredict = clf.predict(testX)\n",
    "\n",
    "# Errores\n",
    "rmse = math.sqrt(mean_squared_error(testY, yPredict))\n",
    "print(\"RMSE:\", rmse)\n",
    "\n",
    "mae = mean_absolute_error(testY, yPredict)\n",
    "print(\"MAE:\", mae)\n",
    "\n",
    "r2 = r2_score(testY,yPredict) \n",
    "print(\"R2:\", r2)\n",
    "\n",
    "x=range(len(testY))\n",
    "\n",
    "# Gráficas\n",
    "plt.plot(x[:100], testY[:100])\n",
    "plt.plot(x[:100], yPredict[:100])\n",
    "plt.show()"
   ]
  },
  {
   "cell_type": "code",
   "execution_count": null,
   "metadata": {
    "ExecuteTime": {
     "end_time": "2021-03-05T03:21:40.641612Z",
     "start_time": "2021-03-05T03:21:40.622613Z"
    },
    "id": "Wq3a3RGXeOtY",
    "outputId": "fffc2426-099d-423e-ee13-bbf4a0cdb941"
   },
   "outputs": [],
   "source": [
    "coeficientes = list(zip(dataX.columns, clf.coef_))\n",
    "sorted(coeficientes, key=lambda x: -abs(x[1]))"
   ]
  },
  {
   "cell_type": "markdown",
   "metadata": {
    "id": "vsVgYOLMeOtf"
   },
   "source": [
    "## Con datos de Enel (wetransfer)"
   ]
  },
  {
   "cell_type": "markdown",
   "metadata": {},
   "source": [
    "Fecha mínima 2019-01-30 06:00:00\n",
    "Fecha máxima 2021-02-11 00:00:00"
   ]
  },
  {
   "cell_type": "code",
   "execution_count": null,
   "metadata": {
    "ExecuteTime": {
     "end_time": "2021-03-05T03:59:04.283287Z",
     "start_time": "2021-03-05T03:59:04.209256Z"
    },
    "id": "TfPysVMleOtg",
    "outputId": "804fd90f-930c-44be-9115-f45f00bc2299"
   },
   "outputs": [],
   "source": [
    "numerics = ['int16', 'int32', 'int64', 'float16', 'float32', 'float64']\n",
    "\n",
    "wetransfer = pd.read_csv(\"datos_procesados.csv\", encoding=\"latin-1\")\n",
    "wetransfer = wetransfer.set_index(\"Date & Time\")\n",
    "wetransfer_numeric = wetransfer.select_dtypes(include=numerics)\n",
    "\n",
    "shuffle_wetransfer_numeric = wetransfer_numeric.sample(frac=1)\n",
    "\n",
    "shuffle_wetransfer_numeric = shuffle_wetransfer_numeric.dropna()\n",
    "\n",
    "shuffle_wetransfer_numeric.head()"
   ]
  },
  {
   "cell_type": "code",
   "execution_count": null,
   "metadata": {},
   "outputs": [],
   "source": [
    "list(wetransfer)"
   ]
  },
  {
   "cell_type": "code",
   "execution_count": null,
   "metadata": {
    "ExecuteTime": {
     "end_time": "2021-03-05T04:35:42.634954Z",
     "start_time": "2021-03-05T04:35:42.615953Z"
    },
    "id": "bQSvHSWweOth",
    "outputId": "a5ac82d9-011d-4e1e-b134-00fc469da688"
   },
   "outputs": [],
   "source": [
    "shuffle_wetransfer_numeric.shape"
   ]
  },
  {
   "cell_type": "code",
   "execution_count": null,
   "metadata": {
    "ExecuteTime": {
     "end_time": "2021-03-05T03:59:05.200776Z",
     "start_time": "2021-03-05T03:59:05.180746Z"
    },
    "id": "hHHiNbtneOth"
   },
   "outputs": [],
   "source": [
    "#dataX = shuffle_data.select_dtypes(include=numerics).drop(columns=\"Temp\")\n",
    "dataX = shuffle_wetransfer_numeric.drop(columns='Temp - °C')\n",
    "dataY = shuffle_wetransfer_numeric['Temp - °C']\n",
    "\n",
    "train_size = int(len(dataX)*0.8)\n",
    "test_size = len(dataX) - train_size\n",
    "\n",
    "trainX, testX = dataX[0:train_size], dataX[test_size:len(dataX)]\n",
    "trainY, testY = dataY[0:train_size], dataY[test_size:len(dataY)]"
   ]
  },
  {
   "cell_type": "code",
   "execution_count": null,
   "metadata": {
    "ExecuteTime": {
     "end_time": "2021-03-05T03:59:06.291960Z",
     "start_time": "2021-03-05T03:59:06.172961Z"
    },
    "id": "0aGjqnkWeOth",
    "outputId": "6bc4dc44-9060-4584-84b7-4a6b6f2a4b59"
   },
   "outputs": [],
   "source": [
    "# Modelo\n",
    "clf = linear_model.LinearRegression()\n",
    "clf.fit(trainX, trainY)\n",
    "yPredict = clf.predict(testX)\n",
    "\n",
    "# Errores\n",
    "rmse = math.sqrt(mean_squared_error(testY, yPredict))\n",
    "print(\"RMSE:\", rmse)\n",
    "\n",
    "mae = mean_absolute_error(testY, yPredict)\n",
    "print(\"MAE:\", mae)\n",
    "\n",
    "r2 = r2_score(testY,yPredict) \n",
    "print(\"R2:\", r2)\n",
    "\n",
    "x=range(len(testY))\n",
    "\n",
    "# Gráficas\n",
    "plt.plot(x[:100], testY[:100])\n",
    "plt.plot(x[:100], yPredict[:100])\n",
    "plt.show()"
   ]
  },
  {
   "cell_type": "code",
   "execution_count": null,
   "metadata": {
    "ExecuteTime": {
     "end_time": "2021-03-05T04:35:03.904524Z",
     "start_time": "2021-03-05T04:35:03.894495Z"
    },
    "id": "DKFPnNZXeOti",
    "outputId": "bc040a44-6bff-4e9b-8912-5497fba21f0d",
    "scrolled": true
   },
   "outputs": [],
   "source": [
    "coeficientes = list(zip(dataX.columns, clf.coef_))\n",
    "sorted(coeficientes, key=lambda x: -abs(x[1]))"
   ]
  },
  {
   "cell_type": "markdown",
   "metadata": {
    "id": "I2LvhU9KgTgw"
   },
   "source": [
    "In sitio 2019-2020\n",
    "\n",
    "satelitales para completar los datos in sitio"
   ]
  },
  {
   "cell_type": "markdown",
   "metadata": {
    "id": "eBuZQGCKeOti"
   },
   "source": [
    "## Se prueba omitiendo los ceros entre las 6pm y 6am"
   ]
  },
  {
   "cell_type": "code",
   "execution_count": null,
   "metadata": {
    "id": "yhWmt4oweOtj"
   },
   "outputs": [],
   "source": [
    "# Se prueba omitiendo los ceros entre las 6pm y 6am\n",
    "dataX = dataX[datosSDSinCompletar.RadSolar!=0]\n",
    "dataY = datosSDSinCompletar.RadSolar[datosSDSinCompletar.RadSolar!=0]\n",
    "\n",
    "# Se dividen los datos\n",
    "train_size = int(len(dataX)*0.8)\n",
    "test_size = len(dataX) - train_size\n",
    "\n",
    "trainX, testX = dataX[0:train_size], dataX[test_size:len(dataX)]\n",
    "trainY, testY = dataY[0:train_size], dataY[test_size:len(dataY)]\n",
    "\n",
    "# Modelo de regresión lineal\n",
    "clf = linear_model.LinearRegression()\n",
    "clf.fit(trainX, trainY)\n",
    "yPredict = clf.predict(testX)\n",
    "\n",
    "# Cálculos de errores\n",
    "rmse = math.sqrt(mean_squared_error(testY,yPredict))\n",
    "print(rmse)\n",
    "\n",
    "r2 = r2_score(testY,yPredict) \n",
    "print(r2)\n",
    "\n",
    "# Se grafica\n",
    "x=range(len(testY))\n",
    "plt.plot(x, testY)\n",
    "plt.plot(x, yPredict)\n",
    "plt.show()"
   ]
  },
  {
   "cell_type": "markdown",
   "metadata": {
    "id": "Q8V8Bd4WeOtj"
   },
   "source": [
    "## Se prueba con las 3 irradiaciones"
   ]
  },
  {
   "cell_type": "code",
   "execution_count": null,
   "metadata": {
    "id": "yZQ5pJVJeOtk"
   },
   "outputs": [],
   "source": [
    "# solo DHI, DNI y GHI de SolarCast\n",
    "dataX= pd.DataFrame({'Dhi':datosSolarSinCompletar.Dhi, 'Dni':datosSolarSinCompletar.Dni, 'Ghi':datosSolarSinCompletar.Ghi})\n",
    "dataY= datosSDSinCompletar.RadSolar\n",
    "\n",
    "# Se dividen los datos\n",
    "train_size = int(len(dataX)*0.8)\n",
    "test_size = len(dataX) - train_size\n",
    "\n",
    "trainX, testX = dataX[0:train_size], dataX[test_size:len(dataX)]\n",
    "trainY, testY = dataY[0:train_size], dataY[test_size:len(dataY)]\n",
    "\n",
    "# Se crea y ajusta el modelo de regresión\n",
    "clf = linear_model.LinearRegression()\n",
    "clf.fit(trainX, trainY)\n",
    "yPredict = clf.predict(testX)\n",
    "\n",
    "# Se calculan los errores\n",
    "rmse = math.sqrt(mean_squared_error(testY,yPredict))\n",
    "print(rmse)\n",
    "\n",
    "r2 = r2_score(testY,yPredict) \n",
    "print(r2)\n",
    "\n",
    "# Se grafica\n",
    "x=range(len(testY))\n",
    "plt.plot(x, testY)\n",
    "plt.plot(x, yPredict)\n",
    "plt.show()"
   ]
  },
  {
   "cell_type": "code",
   "execution_count": null,
   "metadata": {
    "id": "dJRvvnpXeOtk"
   },
   "outputs": [],
   "source": [
    "# Se corrigen los ceros\n",
    "correccionZeros = yPredict[testY==0]\n",
    "copiaYPredict = yPredict\n",
    "copiaYPredict[testY==0]=0\n",
    "\n",
    "# Se recalculan los errores\n",
    "rmse = math.sqrt(mean_squared_error(testY,copiaYPredict))\n",
    "print(rmse)\n",
    "\n",
    "r2 = r2_score(testY,copiaYPredict) \n",
    "print(r2)\n",
    "\n",
    "# Se grafica\n",
    "x=range(len(testY))\n",
    "plt.plot(x, testY)\n",
    "plt.plot(x, copiaYPredict)\n",
    "plt.show()"
   ]
  },
  {
   "cell_type": "markdown",
   "metadata": {
    "id": "rzSWN30weOtl"
   },
   "source": [
    "# Random Forest Regressor\n",
    "## Se prueba con todos los datos disponibles"
   ]
  },
  {
   "cell_type": "code",
   "execution_count": null,
   "metadata": {
    "ExecuteTime": {
     "end_time": "2021-03-05T04:42:34.288956Z",
     "start_time": "2021-03-05T04:42:34.026956Z"
    },
    "id": "psCddDmVeOtl",
    "outputId": "5c8f0247-f77e-4451-c623-8f1d2d145c69"
   },
   "outputs": [],
   "source": [
    "dataXTodo = shuffle_data.select_dtypes(include=numerics).drop(columns=\"Temp\")\n",
    "dataX = shuffle_data[[\"AirTemp\"]]\n",
    "dataY = shuffle_data[\"Temp\"]\n",
    "\n",
    "train_size = int(len(dataX)*0.8)\n",
    "test_size = len(dataX) - train_size\n",
    "\n",
    "trainXTodo, testXTodo = dataXTodo[0:train_size], dataXTodo[test_size:len(dataX)]\n",
    "trainY, testY = dataY[0:train_size], dataY[test_size:len(dataY)]\n",
    "model_rfTodo = RandomForestRegressor(n_estimators=100, max_features=4, min_samples_leaf=10,random_state=0, n_jobs=2)\n",
    "model_rfTodo.fit(trainXTodo, trainY)\n",
    "\n",
    "yPredictTodo = model_rfTodo.predict(testXTodo)\n",
    "\n",
    "rmse = math.sqrt(mean_squared_error(testY,yPredictTodo))\n",
    "print(\"RMSE:\", rmse)\n",
    "\n",
    "mae = mean_absolute_error(testY, yPredictTodo)\n",
    "print(\"MAE:\", mae)\n",
    "\n",
    "r2 = r2_score(testY, yPredictTodo) \n",
    "print(\"R2:\", r2)\n",
    "\n",
    "x=range(len(testY))\n",
    "plt.plot(x, testY)\n",
    "plt.plot(x, yPredictTodo)\n",
    "plt.show()"
   ]
  },
  {
   "cell_type": "code",
   "execution_count": null,
   "metadata": {
    "ExecuteTime": {
     "end_time": "2021-03-05T04:51:47.886476Z",
     "start_time": "2021-03-05T04:51:47.268476Z"
    },
    "id": "TnsBJ9fEeOtm",
    "outputId": "a4c354b8-5d30-4823-e222-fd262cb80162"
   },
   "outputs": [],
   "source": [
    "dataXTodo = shuffle_wetransfer_numeric.drop(columns='Temp - °C')\n",
    "dataX = shuffle_wetransfer_numeric[[\"Temp - °C\"]]\n",
    "dataY = shuffle_wetransfer_numeric['Temp - °C']\n",
    "\n",
    "train_size = int(len(dataX)*0.8)\n",
    "test_size = len(dataX) - train_size\n",
    "\n",
    "trainXTodo, testXTodo = dataXTodo[0:train_size], dataXTodo[test_size:len(dataX)]\n",
    "trainY, testY = dataY[0:train_size], dataY[test_size:len(dataY)]\n",
    "model_rfTodo = RandomForestRegressor(n_estimators=100, max_features=4, min_samples_leaf=10,random_state=0, n_jobs=2)\n",
    "model_rfTodo.fit(trainXTodo, trainY)\n",
    "\n",
    "yPredictTodo = model_rfTodo.predict(testXTodo)\n",
    "\n",
    "rmse = math.sqrt(mean_squared_error(testY,yPredictTodo))\n",
    "print(\"RMSE:\", rmse)\n",
    "\n",
    "mae = mean_absolute_error(testY, yPredictTodo)\n",
    "print(\"MAE:\", mae)\n",
    "\n",
    "r2 = r2_score(testY, yPredictTodo) \n",
    "print(\"R2:\", r2)\n",
    "\n",
    "x=range(len(testY))\n",
    "plt.plot(x[:24*7], testY[:24*7])\n",
    "plt.plot(x[:24*7], yPredictTodo[:24*7])\n",
    "plt.xticks(np.arange(0, 24*7, step=24),[\"L\",\"M\",\"X\",\"J\",\"V\",\"S\",\"D\"])\n",
    "plt.show()"
   ]
  },
  {
   "cell_type": "code",
   "execution_count": null,
   "metadata": {
    "ExecuteTime": {
     "end_time": "2021-03-05T04:41:18.487989Z",
     "start_time": "2021-03-05T04:41:18.103835Z"
    },
    "id": "IoNFMtMmeOtm",
    "outputId": "90f92af4-6494-4818-9a01-d949f5626979"
   },
   "outputs": [],
   "source": [
    "# Se \n",
    "#dataXTodo= pd.DataFrame({'Temp':datosSDSinCompletar.Temp, 'VelocidadViento':datosSDSinCompletar.VelocidadViento, 'Dhi':datosSolarSinCompletar.Dhi, 'Dni':datosSolarSinCompletar.Dni, 'Ghi':datosSolarSinCompletar.Ghi})\n",
    "#dataY= datosSDSinCompletar.RadSolar\n",
    "\n",
    "dataXTodo = shuffle_data.select_dtypes(include=numerics).drop(columns=\"Temp\")\n",
    "dataX = shuffle_data[[\"AirTemp\"]]\n",
    "dataY = shuffle_data[\"Temp\"]\n",
    "\n",
    "train_size = int(len(dataX)*0.8)\n",
    "test_size = len(dataX) - train_size\n",
    "\n",
    "trainXTodo, testXTodo = dataXTodo[0:train_size], dataXTodo[test_size:len(dataX)]\n",
    "trainY, testY = dataY[0:train_size], dataY[test_size:len(dataY)]\n",
    "model_rfTodo = RandomForestRegressor(n_estimators=100, max_features=4, min_samples_leaf=10,random_state=0, n_jobs=2)\n",
    "model_rfTodo.fit(trainXTodo, trainY)\n",
    "\n",
    "yPredictTodo = model_rfTodo.predict(testXTodo)\n",
    "\n",
    "rmse = math.sqrt(mean_squared_error(testY,yPredictTodo))\n",
    "print(rmse)\n",
    "\n",
    "r2 = r2_score(testY, yPredictTodo) \n",
    "print(r2)\n",
    "\n",
    "x=range(len(testY))\n",
    "plt.plot(x, testY)\n",
    "plt.plot(x, yPredictTodo)\n",
    "plt.show()\n",
    "\n",
    "#%% Más grafiquitas\n",
    "x=range(len(datosSolarSinCompletar.WindSpeed10m[24*7*2:24*7*3]))\n",
    "plt.plot(x, datosSolarSinCompletar.WindSpeed10m[24*7*2:24*7*3])\n",
    "plt.plot(x, datosSDSinCompletar.VelocidadViento[24*7*2:24*7*3])\n",
    "plt.show()\n",
    "#%%\n",
    "x=range(len(testY[24*7*2:24*7*3]))\n",
    "plt.plot(x, testY[24*7*2:24*7*3])\n",
    "plt.plot(x, yPredict[24*7*2:24*7*3])\n",
    "plt.show()\n",
    "#%%\n",
    "x=range(len(dataX[test_size+24*7*3:test_size+24*7*4]))\n",
    "plt.plot(x, dataX.Ghi[test_size+24*7*3:test_size+24*7*4])\n",
    "plt.plot(x, dataY[test_size+24*7*3:test_size+24*7*4])\n",
    "plt.show()\n",
    "\n",
    "#%%\n",
    "rmse = math.sqrt(mean_squared_error(datosSDSinCompletar.RadSolar,datosSolarSinCompletar.Ghi))\n",
    "print(rmse)\n",
    "r2 = r2_score(datosSDSinCompletar.RadSolar,datosSolarSinCompletar.Ghi) \n",
    "print(r2)\n",
    "#%%\n",
    "rmse = math.sqrt(mean_squared_error(datosSolarSinCompletar.WindSpeed10m,datosSDSinCompletar.VelocidadViento))\n",
    "print('rMSE velocidad viento:'+str(rmse))\n",
    "r2 = r2_score(datosSDSinCompletar.VelocidadViento, datosSolarSinCompletar.WindSpeed10m) \n",
    "print('r2 velocidad viento:'+str(r2))\n",
    "rmse = math.sqrt(mean_squared_error(datosSDSinCompletar.Temp, datosSolarSinCompletar.AirTemp))\n",
    "print('rMSE temperatura'+ str(rmse))\n",
    "r2 = r2_score( datosSDSinCompletar.Temp, datosSolarSinCompletar.AirTemp) \n",
    "print('r2 temperatura'+ str(r2))\n",
    "#%%\n",
    "x=range(len(datosSolarSinCompletar.AirTemp[24*7*2:24*7*3]))\n",
    "plt.plot(x, datosSolarSinCompletar.AirTemp[24*7*2:24*7*3])\n",
    "plt.plot(x, datosSDSinCompletar.Temp[24*7*2:24*7*3])\n",
    "plt.show()"
   ]
  },
  {
   "cell_type": "code",
   "execution_count": null,
   "metadata": {
    "id": "XfYd2DWEeOtn"
   },
   "outputs": [],
   "source": [
    "#%%\n",
    "dataX= pd.DataFrame({'AirTemp': datosSolarSinCompletar.AirTemp, 'Dhi':datosSolarSinCompletar.Dhi, 'Dni':datosSolarSinCompletar.Dni, 'Ghi':datosSolarSinCompletar.Ghi})\n",
    "dataY= datosSDSinCompletar.RadSolar\n",
    "\n",
    "train_size = int(len(dataX)*0.8)\n",
    "test_size = len(dataX) - train_size\n",
    "\n",
    "trainX, testX = dataX[0:train_size], dataX[test_size:len(dataX)]\n",
    "trainY, testY = dataY[0:train_size], dataY[test_size:len(dataY)]\n",
    "model_rf = RandomForestRegressor(n_estimators=100,  min_samples_leaf=10,random_state=0, n_jobs=2)\n",
    "model_rf.fit(trainX, trainY)\n",
    "\n",
    "yPredictTrain = model_rf.predict(trainX)\n",
    "yPredictTest = model_rf.predict(testX)\n",
    "\n",
    "rmseTrain = math.sqrt(mean_squared_error(trainY,yPredictTrain))\n",
    "rmseTest = math.sqrt(mean_squared_error(testY,yPredictTest))\n",
    "print('RMSE Train: '+str(rmseTrain))\n",
    "print('RMSE Test: '+str(rmseTest))\n",
    "\n",
    "r2Train = r2_score(trainY,yPredictTrain) \n",
    "r2Test = r2_score(testY,yPredictTest) \n",
    "print('r2 Train: '+str(r2Train))\n",
    "print('r2 Test: '+str(r2Test))"
   ]
  },
  {
   "cell_type": "code",
   "execution_count": null,
   "metadata": {
    "id": "_EmsBcineOto"
   },
   "outputs": [],
   "source": [
    "#%%\n",
    "dataX= pd.DataFrame({'SurfacePressure':datosSolarSinCompletar.SurfacePressure,'RelativeHumidity':datosSolarSinCompletar.RelativeHumidity,'CloudOpacity': datosSolarSinCompletar.CloudOpacity, 'WindSpeed10m': datosSolarSinCompletar.WindSpeed10m, 'AirTemp':datosSolarSinCompletar.AirTemp, 'Dhi':datosSolarSinCompletar.Dhi, 'Dni':datosSolarSinCompletar.Dni, 'Ghi':datosSolarSinCompletar.Ghi})\n",
    "dataY= datosSDSinCompletar.RadSolar\n",
    "\n",
    "train_size = int(len(dataX)*0.8)\n",
    "test_size = len(dataX) - train_size\n",
    "\n",
    "trainX, testX = dataX[0:train_size], dataX[test_size:len(dataX)]\n",
    "trainY, testY = dataY[0:train_size], dataY[test_size:len(dataY)]\n",
    "\n",
    "model_rf = RandomForestRegressor(n_estimators=100, max_features=4, min_samples_leaf=10,random_state=0, n_jobs=2)\n",
    "model_rf.fit(trainX, trainY)\n",
    "\n",
    "yPredictTrain = model_rf.predict(trainX)\n",
    "yPredictTest = model_rf.predict(testX)\n",
    "\n",
    "rmseTrain = math.sqrt(mean_squared_error(trainY,yPredictTrain))\n",
    "rmseTest = math.sqrt(mean_squared_error(testY,yPredictTest))\n",
    "print('RMSE Train: '+str(rmseTrain))\n",
    "print('RMSE Test: '+str(rmseTest))\n",
    "\n",
    "r2Train = r2_score(trainY,yPredictTrain) \n",
    "r2Test = r2_score(testY,yPredictTest) \n",
    "print('r2 Train: '+str(r2Train))\n",
    "print('r2 Test: '+str(r2Test))\n",
    "\n",
    "x=range(len(testY[test_size+24*7*3:test_size+24*7*4]))\n",
    "plt.plot(x, testY[test_size+24*7*3:test_size+24*7*4])\n",
    "plt.plot(x, yPredictTest[test_size+24*7*3:test_size+24*7*4])\n",
    "plt.show()"
   ]
  },
  {
   "cell_type": "code",
   "execution_count": null,
   "metadata": {
    "id": "Gd2pLaYKeOto"
   },
   "outputs": [],
   "source": [
    "#%%\n",
    "# LINEAR REGRESION\n",
    "#%%\n",
    "clf = linear_model.LinearRegression()\n",
    "clf.fit(trainX, trainY)\n",
    "yPredict = clf.predict(testX)\n",
    "\n",
    "x=range(len(testY[test_size+24*7*3:test_size+24*7*4]))\n",
    "plt.plot(x, testY[test_size+24*7*3:test_size+24*7*4])\n",
    "plt.plot(x, yPredict[test_size+24*7*3:test_size+24*7*4])\n",
    "plt.show()\n",
    "\n",
    "rmse = math.sqrt(mean_squared_error(testY,yPredict))\n",
    "print(rmse)\n",
    "\n",
    "r2 = r2_score(testY,yPredict) \n",
    "print(r2)"
   ]
  },
  {
   "cell_type": "code",
   "execution_count": null,
   "metadata": {
    "id": "BzH-YfgheOtp"
   },
   "outputs": [],
   "source": [
    "#%% \n",
    "# GRIDSEARCH CV\n",
    "\n",
    "from sklearn.model_selection import GridSearchCV\n",
    "estimator = RandomForestRegressor()\n",
    "param_grid = {\"n_estimators\": [10,50,100,200], \"max_features\": [\"auto\", \"sqrt\", \"log2\"],\"min_samples_split\" : [2,4,8],\"bootstrap\": [True, False]}\n",
    "grid = GridSearchCV(estimator, param_grid, n_jobs=-1, cv=5)\n",
    "grid.fit(trainX, trainY)\n",
    "print(grid.best_score_)\n",
    "print(grid.best_params_)\n",
    "\n",
    "#%%\n",
    "x=range(len(dataX[test_size+24*7*3:test_size+24*7*4]))\n",
    "plt.plot(x, dataX.Ghi[test_size+24*7*3:test_size+24*7*4])\n",
    "plt.plot(x, dataY[test_size+24*7*3:test_size+24*7*4])\n",
    "plt.show()"
   ]
  },
  {
   "cell_type": "markdown",
   "metadata": {},
   "source": [
    "# Ecuaciones"
   ]
  },
  {
   "cell_type": "markdown",
   "metadata": {},
   "source": [
    "## Paper 2"
   ]
  },
  {
   "cell_type": "code",
   "execution_count": null,
   "metadata": {},
   "outputs": [],
   "source": [
    "def ross(Ta, Tnoct, Gt):\n",
    "    Tc = Ta + (Tnoct - 20)/800*Gt\n",
    "    return Tc"
   ]
  },
  {
   "cell_type": "markdown",
   "metadata": {},
   "source": [
    "\n",
    "## Paper 3"
   ]
  },
  {
   "cell_type": "code",
   "execution_count": null,
   "metadata": {},
   "outputs": [],
   "source": [
    "def risser(G, Ta, Vw):\n",
    "    Tc = 3.81 + 0.0282*G + 1.31*Ta - 1.65*Vw\n",
    "    return Tc"
   ]
  },
  {
   "cell_type": "code",
   "execution_count": null,
   "metadata": {},
   "outputs": [],
   "source": [
    "alfa = 0.0138\n",
    "beta = 0.031\n",
    "gamma = 0.042"
   ]
  },
  {
   "cell_type": "code",
   "execution_count": null,
   "metadata": {},
   "outputs": [],
   "source": [
    "def servant(Ta, G, Vw, nm):\n",
    "    Tc = Ta + alfa*G*(1+beta*Ta)*(1-gamma*Vw)*(1-1.053*nm)\n",
    "    return Tc"
   ]
  },
  {
   "cell_type": "code",
   "execution_count": null,
   "metadata": {},
   "outputs": [],
   "source": [
    "def duffie(Ta, G, Gnoct, Vw, Tcnoct, Tanoct, n):\n",
    "    Tc = Ta + ((G/Gnoct)*(9.5/(5.7+3.8*Vw)*(Tcnoct-Tanoct)*(1-nc/(r*a))))"
   ]
  },
  {
   "cell_type": "markdown",
   "metadata": {},
   "source": [
    "Se calculan R2, RMSE, MBE"
   ]
  },
  {
   "cell_type": "code",
   "execution_count": null,
   "metadata": {},
   "outputs": [],
   "source": [
    "import sklearn\n",
    "from sklearn.metrics import *\n",
    "\n",
    "\n",
    "def myMetrics(true, pred):\n",
    "    r2 = r2_score(true, pred)\n",
    "    rmse = math.sqrt(mean_squared_error(true, pred))\n",
    "    #mape = sklearn.metrics.mean_absolute_percentage_error(true, pred)\n",
    "    mae = sklearn.metrics.mean_absolute_error(true, pred)\n",
    "    #maxerror = sklearn.metrics.max_error()\n",
    "    mbe = np.mean(pred-true)\n",
    "    \n",
    "    print('RMSE: '+str(rmse)) #Root Mean Square error\n",
    "    print('R2: '+str(r2))\n",
    "    print('MBE: '+ str(mbe)) #Mean Bias error\n",
    "    print('MAE: '+ str(mae)) #Mean Absolute  error\n",
    "    #print('MAPE: '+ str(mape)) #Mean Absolute percentage error\n",
    "   # print('Max Error'+str(maxerror))"
   ]
  },
  {
   "cell_type": "code",
   "execution_count": null,
   "metadata": {},
   "outputs": [],
   "source": [
    "list(dataX)"
   ]
  },
  {
   "cell_type": "code",
   "execution_count": null,
   "metadata": {},
   "outputs": [],
   "source": [
    "list(datosSD)"
   ]
  },
  {
   "cell_type": "code",
   "execution_count": null,
   "metadata": {},
   "outputs": [],
   "source": [
    "#Datos Satelitales\n",
    "Ta = dataX['AirTemp']\n",
    "Tnoct = 25\n",
    "G = dataX[ 'Ghi']\n",
    "Vw = dataX['WindSpeed10m']\n",
    "#nm\n",
    "\n",
    "yRoss = ross(Ta, Tnoct, G)\n",
    "yRisser = risser(G, Ta, Vw)\n",
    "#yServant = servant(Ta, G, Vw, nm)"
   ]
  },
  {
   "cell_type": "code",
   "execution_count": null,
   "metadata": {},
   "outputs": [],
   "source": [
    "myMetrics(yRoss, yRisser)"
   ]
  },
  {
   "cell_type": "code",
   "execution_count": null,
   "metadata": {},
   "outputs": [],
   "source": [
    "# Gráficas\n",
    "x1=range(len(yRoss))\n",
    "x2=range(len(yRisser))\n",
    "plt.plot(x1,yRoss)\n",
    "plt.plot(x2,yRisser)\n",
    "plt.show()"
   ]
  },
  {
   "cell_type": "code",
   "execution_count": null,
   "metadata": {},
   "outputs": [],
   "source": [
    "plt.plot(x1,yRoss)\n",
    "plt.show()"
   ]
  },
  {
   "cell_type": "code",
   "execution_count": null,
   "metadata": {},
   "outputs": [],
   "source": [
    "# Datos en sitio \n",
    "\"\"\"Los datos del SD no tienen la temperatura de los paneles\"\"\"\n",
    "Ta = dataX['AirTemp']\n",
    "Tnoct = 25\n",
    "G = dataX[ 'Ghi']\n",
    "Vw = dataX['WindSpeed10m']\n",
    "#nm\n",
    "\n",
    "yRoss = ross(Ta, Tnoct, G)\n",
    "yRisser = risser(G, Ta, Vw)"
   ]
  },
  {
   "cell_type": "markdown",
   "metadata": {},
   "source": [
    "## Datos ENEL"
   ]
  },
  {
   "cell_type": "markdown",
   "metadata": {},
   "source": [
    "Datos in sitio:\n",
    "    ENEL side adaptation (NREL) check\n",
    "    SD temp promedio horas pasadas, velocidad de viento (interpolación)\n",
    "    Side-adaptation con los datos [SOLCAST SD nuevos]\n",
    "    \n",
    "Calcular modelos de temperatura"
   ]
  },
  {
   "cell_type": "code",
   "execution_count": null,
   "metadata": {},
   "outputs": [],
   "source": [
    "# Datos ENEL\n",
    "ruta = os.getcwd()+\"\\\\Data\\\\Datos_ENEL_TemperaturaSD\\\\METEO\\\\\"\n",
    "datosEnel = pd.read_csv(ruta+'meteost.csv')\n",
    "datosEnel.head()"
   ]
  },
  {
   "cell_type": "code",
   "execution_count": null,
   "metadata": {},
   "outputs": [],
   "source": [
    "# Datos ENELPyra\n",
    "datosEnelPyra = pd.read_csv(ruta+'pyranometers.csv')\n",
    "datosTempModuleEnel = pd.read_excel(os.getcwd()+\"\\\\Data\\\\TEMP MODULE-2.xlsx\", header=1)\n",
    "datosEnelPyra.head()"
   ]
  },
  {
   "cell_type": "code",
   "execution_count": null,
   "metadata": {},
   "outputs": [],
   "source": [
    "datosTempModuleEnel.head()"
   ]
  },
  {
   "cell_type": "code",
   "execution_count": null,
   "metadata": {},
   "outputs": [],
   "source": [
    "datosTempModuleEnel.iloc[0]"
   ]
  },
  {
   "cell_type": "code",
   "execution_count": null,
   "metadata": {},
   "outputs": [],
   "source": [
    "datosTempModuleEnel.iloc[-1]"
   ]
  },
  {
   "cell_type": "code",
   "execution_count": null,
   "metadata": {},
   "outputs": [],
   "source": [
    "# Arreglar columnas numéricas\n",
    "test = datosTempModuleEnel.replace(\"0  FA\", np.nan)\n",
    "test = test.replace(\"FA\", \"\", regex=True)\n",
    "test = test.replace(\",\", \".\", regex=True)\n",
    "\n",
    "# Strip all columns\n",
    "strip_columns = list(test.columns)\n",
    "strip_columns.remove(\"Time\")\n",
    "test[strip_columns] = test[strip_columns].astype(str).apply(lambda x: x.str.strip()).astype(float)\n",
    "   \n",
    "test.head()"
   ]
  },
  {
   "cell_type": "code",
   "execution_count": null,
   "metadata": {},
   "outputs": [],
   "source": [
    "test.isna().sum()"
   ]
  },
  {
   "cell_type": "code",
   "execution_count": null,
   "metadata": {},
   "outputs": [],
   "source": [
    "test.describe()"
   ]
  },
  {
   "cell_type": "code",
   "execution_count": null,
   "metadata": {},
   "outputs": [],
   "source": [
    "datosTempModuleEnel['Time'].min()"
   ]
  },
  {
   "cell_type": "code",
   "execution_count": null,
   "metadata": {},
   "outputs": [],
   "source": [
    "fechasEnel = pd.date_range(start = datosTempModuleEnel['Time'].min(), end = datosTempModuleEnel['Time'].max(), freq=\"H\" )\n",
    "fechasEnel"
   ]
  },
  {
   "cell_type": "code",
   "execution_count": null,
   "metadata": {},
   "outputs": [],
   "source": [
    "numerics = ['int16', 'int32', 'int64', 'float16', 'float32', 'float64']\n",
    "nuevo = test.iloc[0:59]#.dropna().select_dtypes(include=numerics).mean(axis=0)\n",
    "nuevo\n",
    "#ya que no la logré para el dataset completo haré una sola columna"
   ]
  },
  {
   "cell_type": "code",
   "execution_count": null,
   "metadata": {},
   "outputs": [],
   "source": [
    "datosTempModuleEnel['EP1_I06_AN00037'].iloc[0:59].mean()"
   ]
  },
  {
   "cell_type": "code",
   "execution_count": null,
   "metadata": {},
   "outputs": [],
   "source": [
    "\"\"\"sacar el promedio con o group by o un for de modulo 60\"\"\"\n",
    "\n",
    "nuevo = [datosTempModuleEnel['EP1_I06_AN00037'].iloc[0:59].mean()]\n",
    "\n",
    "for i in range(1,len(datosTempModuleEnel)-1,60):\n",
    "    #nuevo[i%60] = datosTempModuleEnel[i:i+59].mean()\n",
    "    temp = datosTempModuleEnel['EP1_I06_AN00037'].iloc[i:i+59].mean()\n",
    "    print(temp)\n",
    "    \"\"\"print(i)\n",
    "    print(i+59)\n",
    "    print(temp)\"\"\"    \n",
    "    nuevo.append(temp)\n",
    "    "
   ]
  },
  {
   "cell_type": "code",
   "execution_count": null,
   "metadata": {},
   "outputs": [],
   "source": [
    "range(1,len(datosTempModuleEnel)-1,60)"
   ]
  },
  {
   "cell_type": "code",
   "execution_count": null,
   "metadata": {},
   "outputs": [],
   "source": [
    "print(nuevo)"
   ]
  },
  {
   "cell_type": "code",
   "execution_count": null,
   "metadata": {},
   "outputs": [],
   "source": [
    "len(nuevo)"
   ]
  },
  {
   "cell_type": "code",
   "execution_count": null,
   "metadata": {},
   "outputs": [],
   "source": [
    "type(datosTempModuleEnel['Time'][0])"
   ]
  },
  {
   "cell_type": "code",
   "execution_count": null,
   "metadata": {},
   "outputs": [],
   "source": [
    "test['Time2'] = datosTempModuleEnel['Time'].apply(lambda x: x.replace(minute=0, second=0))"
   ]
  },
  {
   "cell_type": "code",
   "execution_count": null,
   "metadata": {
    "scrolled": true
   },
   "outputs": [],
   "source": [
    "test.dtypes\n"
   ]
  },
  {
   "cell_type": "code",
   "execution_count": null,
   "metadata": {},
   "outputs": [],
   "source": [
    "\"Toca quitarles las FA\"\n"
   ]
  },
  {
   "cell_type": "code",
   "execution_count": null,
   "metadata": {},
   "outputs": [],
   "source": [
    "a = test['EP1_I06_AN00037'].astype(float).groupby('Time2').mean()\n",
    "print(a)"
   ]
  },
  {
   "cell_type": "code",
   "execution_count": null,
   "metadata": {},
   "outputs": [],
   "source": [
    "datosTempSD = pd.read_csv('Temp_SD_2019_01_01_2021_04_28.csv', sep=\";\")#,error_bad_lines=False)\n",
    "datosTempSD.columns = [\"Time\", \"Tc\", \"Ta\"]\n",
    "datosTempSD[\"Tc\"] = datosTempSD[\"Tc\"].str.replace(\",\",\".\").astype(float)\n",
    "datosTempSD[\"Ta\"] = datosTempSD[\"Ta\"].str.replace(\",\",\".\").astype(float)\n",
    "\n",
    "datosTempSD = datosTempSD[(~datosTempSD[\"Tc\"].isna())].reset_index(drop=True)\n",
    "\n",
    "\"\"\"\n",
    "Acá vamos\n",
    "\"\"\"\n",
    "\n",
    "datosTempSD.head()"
   ]
  },
  {
   "cell_type": "code",
   "execution_count": null,
   "metadata": {},
   "outputs": [],
   "source": [
    "datosTempSD.loc[8758][\"Tm\"]"
   ]
  },
  {
   "cell_type": "code",
   "execution_count": null,
   "metadata": {},
   "outputs": [],
   "source": [
    "from csv import reader\n",
    "\n",
    "# open file in read mode\n",
    "with open('Temp_SD_2019_01_01_2021_04_28.csv', 'r') as read_obj:\n",
    "    \n",
    "    # pass the file object to reader() to get the reader object\n",
    "    csv_reader = reader(read_obj)\n",
    "    # Iterate over each row in the csv using reader object\n",
    "    for idx,row in enumerate(csv_reader):\n",
    "        # row variable is a list that represents a row in csv\n",
    "        print(row)\n",
    "        if idx == 3:\n",
    "            break"
   ]
  },
  {
   "cell_type": "code",
   "execution_count": null,
   "metadata": {},
   "outputs": [],
   "source": [
    "datosTempSD.head()"
   ]
  },
  {
   "cell_type": "markdown",
   "metadata": {},
   "source": [
    "# Otros"
   ]
  },
  {
   "cell_type": "code",
   "execution_count": null,
   "metadata": {},
   "outputs": [],
   "source": [
    "# Se guardan los datos\n",
    "data.to_csv(\"datos_procesados.csv\", index=False, encoding=\"latin-1\")"
   ]
  },
  {
   "cell_type": "code",
   "execution_count": null,
   "metadata": {},
   "outputs": [],
   "source": [
    "\"\"\"jupyter nbextension enable toc\n",
    "pip install writeandexecute\n",
    "import \"https://raw.githubusercontent.com/minrk/ipython_extensions/master/extensions/writeandexecute.py\"\n",
    "jlpm run watch\"\"\""
   ]
  },
  {
   "cell_type": "code",
   "execution_count": null,
   "metadata": {
    "colab": {
     "base_uri": "https://localhost:8080/"
    },
    "id": "JyXH0_ChOr0l",
    "outputId": "e807063a-945d-49c1-caff-ea25274b2b5f"
   },
   "outputs": [],
   "source": [
    "from google.colab import drive\n",
    "drive.mount('/content/drive')"
   ]
  },
  {
   "cell_type": "markdown",
   "metadata": {},
   "source": [
    "\n",
    "Se cargan los datos"
   ]
  },
  {
   "cell_type": "code",
   "execution_count": null,
   "metadata": {},
   "outputs": [],
   "source": [
    "ruta = os.getcwd()+\"\\\\data\\\\\"\n",
    "# ruta = drive\n",
    "#Datos viejos del SD\n",
    "datosSD2020 = pd.read_excel(ruta+\"datosRadiacionSD.xlsx\")\n",
    "datosfechaSD2020 = datosSD2020.set_index('DateTime')"
   ]
  },
  {
   "cell_type": "code",
   "execution_count": null,
   "metadata": {
    "ExecuteTime": {
     "end_time": "2021-03-05T02:24:46.338880Z",
     "start_time": "2021-03-05T02:24:46.314850Z"
    },
    "id": "0pn0pHOSeOtM"
   },
   "outputs": [],
   "source": [
    "a =[None]*2\n",
    "fechitas=['2006-12-31T20:00:00Z','2006-12-31T21:00:00Z','2006-12-31T22:00:00Z','2006-12-31T23:00:00Z','2007-01-01T00:00:00Z']\n",
    "a.append(pd.Series(fechitas))\n",
    "b = datosSolar.PeriodStart[0:len(datosSolar)-5]\n",
    "a.append(b)\n",
    "c=pd.concat(a)\n",
    "dataFechaSolarCastArreglado = datosSolar.set_index(c)"
   ]
  },
  {
   "cell_type": "code",
   "execution_count": null,
   "metadata": {
    "ExecuteTime": {
     "end_time": "2021-03-05T02:24:47.644343Z",
     "start_time": "2021-03-05T02:24:47.618343Z"
    },
    "id": "MdGJ9TwreOtN"
   },
   "outputs": [],
   "source": [
    "# Datos SD viejos\n",
    "datosSDSinCompletar = datosfechaSD2020.loc['2019-05-07 17:00:00':'2019-05-12  1:00:00']\n",
    "datosSDSinCompletar = datosSDSinCompletar.append(datosfechaSD2020.loc['2019-05-12 9:00:00':'2019-05-16  3:00:00'])\n",
    "datosSDSinCompletar = datosSDSinCompletar.append(datosfechaSD2020.loc['2019-05-16 11:00:00':'2019-05-29  6:00:00'])\n",
    "datosSDSinCompletar = datosSDSinCompletar.append(datosfechaSD2020.loc['2019-05-29 14:00:00':'2019-07-8  9:00:00'])"
   ]
  },
  {
   "cell_type": "code",
   "execution_count": null,
   "metadata": {
    "ExecuteTime": {
     "end_time": "2021-03-05T02:24:48.466531Z",
     "start_time": "2021-03-05T02:24:48.422392Z"
    },
    "id": "54nIPDCqeOtN"
   },
   "outputs": [],
   "source": [
    "#\n",
    "datosSolarSinCompletar = dataFechaSolarCastArreglado.loc['2019-05-07T17:00:00Z':'2019-05-12T01:00:00Z']\n",
    "datosSolarSinCompletar = datosSolarSinCompletar.append(dataFechaSolarCastArreglado.loc['2019-05-12T09:00:00Z':'2019-05-16T03:00:00Z'])\n",
    "datosSolarSinCompletar = datosSolarSinCompletar.append(dataFechaSolarCastArreglado.loc['2019-05-16T11:00:00Z':'2019-05-29T06:00:00Z'])\n",
    "datosSolarSinCompletar = datosSolarSinCompletar.append(dataFechaSolarCastArreglado.loc['2019-05-29T14:00:00Z':'2019-07-08T09:00:00Z'])\n",
    "#\n",
    "datosSolarSinCompletar2020 = datosSolarSinCompletar.set_index(datosSDSinCompletar.index)"
   ]
  },
  {
   "cell_type": "code",
   "execution_count": null,
   "metadata": {
    "ExecuteTime": {
     "end_time": "2021-03-05T02:25:55.530389Z",
     "start_time": "2021-03-05T02:25:55.517420Z"
    },
    "id": "VTzM4dhbeOtO",
    "outputId": "d105e4ab-47ef-435d-c2a4-5e77f97add0a"
   },
   "outputs": [],
   "source": [
    "datosSDSinCompletar2020"
   ]
  },
  {
   "cell_type": "code",
   "execution_count": null,
   "metadata": {
    "ExecuteTime": {
     "end_time": "2021-03-05T02:32:41.922642Z",
     "start_time": "2021-03-05T02:32:41.889643Z"
    },
    "id": "qiSK9e2ieOtQ",
    "outputId": "cd85a389-3c00-41db-ba12-85761d453660"
   },
   "outputs": [],
   "source": [
    "datosSolarSinCompletar"
   ]
  },
  {
   "cell_type": "code",
   "execution_count": null,
   "metadata": {
    "ExecuteTime": {
     "end_time": "2021-03-05T02:48:03.093112Z",
     "start_time": "2021-03-05T02:48:03.059114Z"
    },
    "id": "KSt1HCVFeOtR",
    "outputId": "1335c181-74f0-4fef-abfe-af317032833e"
   },
   "outputs": [],
   "source": [
    "# Merge data\n",
    "data = datosSDSinCompletar2020.merge(datosSolarSinCompletar2020, left_index=True, right_index=True)\n",
    "shuffle_data = data.sample(frac=1)\n",
    "shuffle_data"
   ]
  },
  {
   "cell_type": "code",
   "execution_count": null,
   "metadata": {
    "ExecuteTime": {
     "end_time": "2021-03-05T03:19:55.034378Z",
     "start_time": "2021-03-05T03:19:55.022387Z"
    },
    "id": "jnbZIl-JeOtS"
   },
   "outputs": [],
   "source": [
    "shuffle_data = datosSD.sample(frac=1)\n",
    "\n",
    "# Se dividen los datos\n",
    "\n",
    "numerics = ['int16', 'int32', 'int64', 'float16', 'float32', 'float64']\n",
    "\n",
    "#dataX = shuffle_data.select_dtypes(include=numerics).drop(columns=\"Temp\")\n",
    "dataX = shuffle_data[[\"AirTemp\"]]\n",
    "dataY = shuffle_data[\"Temp\"]\n",
    "\n",
    "train_size = int(len(dataX)*0.8)\n",
    "test_size = len(dataX) - train_size\n",
    "\n",
    "trainX, testX = dataX[0:train_size], dataX[test_size:len(dataX)]\n",
    "trainY, testY = dataY[0:train_size], dataY[test_size:len(dataY)]"
   ]
  },
  {
   "cell_type": "code",
   "execution_count": null,
   "metadata": {
    "id": "gywh_qmmeOtp"
   },
   "outputs": [],
   "source": [
    "#%% Sofía está muy cansada y llegó hasta aquí\n",
    "datosPredecir1 = datosfechaSD.loc['2019-05-12 2:00:00':'2019-05-12 8:00:00']\n",
    "datosPredecir2 = datosfechaSD.loc['2019-05-16  4:00:00':'2019-05-16 10:00:00']\n",
    "datosPredecir3 = datosfechaSD.loc['2019-05-29  7:00:00':'2019-05-29 13:00:00']\n",
    "datosPredecir = datosPredecir1\n",
    "datosPredecir = datosPredecir.append(datosPredecir2)\n",
    "datosPredecir = datosPredecir.append(datosPredecir3)\n",
    "\n",
    "datosPredecirSolar1 =  dataFechaSolarCastArreglado.loc['2019-05-12T02:00:00Z':'2019-05-12T08:00:00Z']\n",
    "datosPredecirSolar2 = dataFechaSolarCastArreglado.loc['2019-05-16T04:00:00Z':'2019-05-16T10:00:00Z']\n",
    "datosPredecirSolar3 = dataFechaSolarCastArreglado.loc['2019-05-29T07:00:00Z':'2019-05-29T13:00:00Z']\n",
    "#%%\n",
    "datosPredecirSolar = datosPredecirSolar1\n",
    "datosPredecirSolar = datosPredecirSolar.append(datosPredecirSolar2)\n",
    "datosPredecirSolar = datosPredecirSolar.append(datosPredecirSolar3)\n",
    "#%%\n",
    "datosPredecirSolar1 = datosPredecirSolar1.set_index(datosPredecir1.index)\n",
    "datosPredecirSolar2 = datosPredecirSolar2.set_index(datosPredecir2.index)\n",
    "datosPredecirSolar3 = datosPredecirSolar3.set_index(datosPredecir3.index)\n",
    "\n",
    "#%% falla porque no hay los datos en sitio\n",
    "dataXTodo = pd.DataFrame({'Temp':datosPredecir.Temp, 'VelocidadViento':datosPredecir.VelocidadViento, 'Dhi':datosPredecirSolar.Dhi, 'Dni':datosPredecirSolar.Dni, 'Ghi':datosPredecirSolar.Ghi})\n",
    "yPredictTodo = model_rfTodo.predict(dataXTodo) \n",
    "#%%\n",
    "dataX1 = pd.DataFrame({'SurfacePressure':datosPredecirSolar1.SurfacePressure,'RelativeHumidity':datosPredecirSolar1.RelativeHumidity,'CloudOpacity': datosPredecirSolar1.CloudOpacity, 'WindSpeed10m': datosPredecirSolar1.WindSpeed10m, 'AirTemp':datosPredecirSolar1.AirTemp, 'Dhi':datosPredecirSolar1.Dhi, 'Dni':datosPredecirSolar1.Dni, 'Ghi':datosPredecirSolar1.Ghi})\n",
    "dataX2 = pd.DataFrame({'SurfacePressure':datosPredecirSolar2.SurfacePressure,'RelativeHumidity':datosPredecirSolar2.RelativeHumidity,'CloudOpacity': datosPredecirSolar2.CloudOpacity, 'WindSpeed10m': datosPredecirSolar2.WindSpeed10m, 'AirTemp':datosPredecirSolar2.AirTemp, 'Dhi':datosPredecirSolar2.Dhi, 'Dni':datosPredecirSolar2.Dni, 'Ghi':datosPredecirSolar2.Ghi})\n",
    "dataX3 = pd.DataFrame({'SurfacePressure':datosPredecirSolar3.SurfacePressure,'RelativeHumidity':datosPredecirSolar3.RelativeHumidity,'CloudOpacity': datosPredecirSolar3.CloudOpacity, 'WindSpeed10m': datosPredecirSolar3.WindSpeed10m, 'AirTemp':datosPredecirSolar3.AirTemp, 'Dhi':datosPredecirSolar3.Dhi, 'Dni':datosPredecirSolar3.Dni, 'Ghi':datosPredecirSolar3.Ghi})\n",
    "\n",
    "yPredict1 = model_rf.predict(dataX1)\n",
    "yPredict2 = model_rf.predict(dataX2)\n",
    "yPredict3 = model_rf.predict(dataX3)\n",
    "#%%\n",
    "\n",
    "x=range(len(yPredict))\n",
    "plt.plot(x,datosPredecirSolar.Ghi)\n",
    "plt.plot(x,yPredict)\n",
    "#%%\n",
    "datosCompletos = np.concatenate((np.array(datosfechaSD.loc['2019-05-07 17:00:00':'2019-05-12  1:00:00'].RadSolar),\n",
    "                                yPredict1,\n",
    "                                np.array(datosfechaSD.loc['2019-05-12 9:00:00':'2019-05-16  3:00:00'].RadSolar),\n",
    "                                yPredict2,\n",
    "                                np.array(datosfechaSD.loc['2019-05-16 11:00:00':'2019-05-29  6:00:00'].RadSolar),\n",
    "                                yPredict3,\n",
    "                                np.array(datosfechaSD.loc['2019-05-29 14:00:00':'2019-07-8  9:00:00'].RadSolar)))\n",
    "#%%\n",
    "datosCompletosDF = pd.DataFrame({'DateTime':datosSD.DateTime[1:len(datosSD)], 'Radiacion':datosCompletos})\n",
    "datosCompletosDF.to_csv('DatosSDCompletados.csv', header=True, index=False)\n",
    "#%%\n",
    "datosIDEAMAuto = pd.read_csv('datosIDEAMAuto.csv')\n",
    "completo = pd.read_csv('../Tesis/DatosKioskoNSRDB/DatosUnidosMediaHoraConBisiestos.csv')\n",
    "#%%\n",
    "fechasNSRDB= completo.Year.astype(int).astype(str)+'-'+completo.Month.astype(int).astype(str)+'-'+completo.Day.astype(int).astype(str)+'T'+completo.Hour.astype(int).astype(str)+':00:00Z'\n",
    "completo = completo.set_index(fechasNSRDB)\n",
    "#%%\n",
    "prueba = datetime(int(completo.Year[0]), int(completo.Month[0]), int(completo.Day[0]) , int(completo.Hour[0]), 00 )\n",
    "print(prueba)\n",
    "#%%\n",
    "prueba2 = datetime.strptime(datosIDEAMAuto.Fecha[0], '%Y-%m-%d %H:%M')\n",
    "print(prueba2)\n",
    "#%%\n",
    "datosCompatiblesNRELeIDEAMAuto =  completo.loc['2013-12-1T0:00:00Z':'2018-10-1T0:00:00Z']\n",
    "\n",
    "#%%\n",
    "dataXIDEAMAuto = []\n",
    "dataYIDEAMAuto = []\n",
    "dataPredecirIDEAMAuto = []\n",
    "i = 0\n",
    "j = 0\n",
    "while (i < len(datosCompatiblesNRELeIDEAMAuto)):\n",
    "    fechaNREL = datetime(int(datosCompatiblesNRELeIDEAMAuto.Year[i]), int(datosCompatiblesNRELeIDEAMAuto.Month[i]), int(datosCompatiblesNRELeIDEAMAuto.Day[i]) , int(datosCompatiblesNRELeIDEAMAuto.Hour[i]), 00 )\n",
    "    fechaIDEAM = datetime.strptime(datosIDEAMAuto.Fecha[j], '%Y-%m-%d %H:%M')\n",
    "    if(fechaNREL == fechaIDEAM):\n",
    "        dataXIDEAMAuto.append(datosCompatiblesNRELeIDEAMAuto.iloc[i])\n",
    "        dataYIDEAMAuto.append(datosIDEAMAuto.Valor[j])\n",
    "        i = i+1\n",
    "        j = j+1\n",
    "    else:\n",
    "        dataPredecirIDEAMAuto.append(datosCompatiblesNRELeIDEAMAuto.iloc[i])\n",
    "        i = i+1\n",
    "dataXIDEAMAuto = pd.DataFrame(dataXIDEAMAuto)\n",
    "dataPredecirIDEAMAuto = pd.DataFrame(dataPredecirIDEAMAuto)   \n",
    "#%% \n",
    "r2 = r2_score(dataYIDEAMAuto, dataXIDEAMAuto.GHI)\n",
    "#%%\n",
    "dataXfeaturesIDEAMAuto = pd.DataFrame({'DHI':dataXIDEAMAuto.DHI,'DNI':dataXIDEAMAuto.DNI, 'GHI':dataXIDEAMAuto.GHI})\n",
    "\n",
    "train_sizeIDEAMAuto = int(len(dataXfeaturesIDEAMAuto)*0.8)\n",
    "test_sizeIDEAMAuto = len(dataXfeaturesIDEAMAuto) - train_sizeIDEAMAuto\n",
    "\n",
    "trainXIDEAMAuto, testXIDEAMAuto = dataXfeaturesIDEAMAuto[0:train_sizeIDEAMAuto], dataXfeaturesIDEAMAuto[test_sizeIDEAMAuto:len(dataXIDEAMAuto)]\n",
    "trainYIDEAMAuto, testYIDEAMAuto = dataYIDEAMAuto[0:train_sizeIDEAMAuto], dataYIDEAMAuto[test_sizeIDEAMAuto:len(dataYIDEAMAuto)]\n",
    "\n",
    "model_rfIDEAMAuto = RandomForestRegressor(n_estimators=100, min_samples_leaf=10,random_state=0, n_jobs=2)\n",
    "model_rfIDEAMAuto.fit(trainXIDEAMAuto, trainYIDEAMAuto)\n",
    "\n",
    "yPredictIDEAMAuto = model_rfIDEAMAuto.predict(testXIDEAMAuto)\n",
    "\n",
    "rmseIDEAMAuto = math.sqrt(mean_squared_error(testYIDEAMAuto,yPredictIDEAMAuto))\n",
    "print(rmseIDEAMAuto)\n",
    "\n",
    "r2IDEAMAuto = r2_score(testYIDEAMAuto,yPredictIDEAMAuto) \n",
    "print(r2)\n",
    "\n",
    "xIDEAMAuto=range(len(testYIDEAMAuto[test_size+24*7*3:test_sizeIDEAMAuto+24*7*4]))\n",
    "plt.plot(xIDEAMAuto, testYIDEAMAuto[test_size+24*7*3:test_sizeIDEAMAuto+24*7*4])\n",
    "plt.plot(xIDEAMAuto, yPredictIDEAMAuto[test_size+24*7*3:test_sizeIDEAMAuto+24*7*4])\n",
    "plt.show()\n",
    "\n",
    "#%%\n",
    "dataXfeatures1IDEAMAuto = pd.DataFrame({'DHI':dataXIDEAMAuto.DHI,'DNI':dataXIDEAMAuto.DNI, 'GHI':dataXIDEAMAuto.GHI, 'Clearsky DHI':dataXIDEAMAuto['Clearsky DHI'],'Clearsky DNI':dataXIDEAMAuto['Clearsky DNI'],'Clearsky GHI':dataXIDEAMAuto['Clearsky GHI'], 'Temperature':dataXIDEAMAuto.Temperature,'Wind Speed':dataXIDEAMAuto['Wind Speed'], 'Cloud Type':dataXIDEAMAuto['Cloud Type'], 'Relative Humidity':dataXIDEAMAuto['Relative Humidity'], 'Precipitable Water':dataXIDEAMAuto['Precipitable Water']})\n",
    "\n",
    "train_sizeIDEAMAuto = int(len(dataXIDEAMAuto)*0.8)\n",
    "test_sizeIDEAMAuto = len(dataXIDEAMAuto) - train_sizeIDEAMAuto\n",
    "\n",
    "trainX1IDEAMAuto, testX1IDEAMAuto = dataXfeatures1IDEAMAuto[0:train_sizeIDEAMAuto], dataXfeatures1IDEAMAuto[test_sizeIDEAMAuto:len(dataXfeatures1IDEAMAuto)]\n",
    "trainYIDEAMAuto, testYIDEAMAuto = dataYIDEAMAuto[0:train_sizeIDEAMAuto], dataYIDEAMAuto[test_sizeIDEAMAuto:len(dataYIDEAMAuto)]\n",
    "\n",
    "model_rf1IDEAMAuto = RandomForestRegressor(n_estimators=100,max_features=4, min_samples_leaf=10,random_state=0, n_jobs=2)\n",
    "model_rf1IDEAMAuto.fit(trainX1IDEAMAuto, trainYIDEAMAuto)\n",
    "yPredictRandomForestIDEAMAuto = model_rf1IDEAMAuto.predict(testX1IDEAMAuto)\n",
    "rmseRandomForest = math.sqrt(mean_squared_error(testYIDEAMAuto,yPredictRandomForestIDEAMAuto))\n",
    "print('rmseRandomForest: '+str(rmseRandomForest))\n",
    "r2RandomForest = r2_score(testYIDEAMAuto,yPredictRandomForestIDEAMAuto) \n",
    "print('r2RandomForest: '+str(r2RandomForest))\n",
    "xIDEAMAuto = range(len(testYIDEAMAuto[test_sizeIDEAMAuto+24*7*3:test_sizeIDEAMAuto+24*7*4]))\n",
    "plt.plot(xIDEAMAuto, testYIDEAMAuto[test_sizeIDEAMAuto+24*7*3:test_sizeIDEAMAuto+24*7*4])\n",
    "plt.plot(xIDEAMAuto, yPredictRandomForestIDEAMAuto[test_sizeIDEAMAuto+24*7*3:test_sizeIDEAMAuto+24*7*4])\n",
    "plt.show()\n",
    "\n",
    "clf = linear_model.LinearRegression()\n",
    "clf.fit(trainX1IDEAMAuto, trainYIDEAMAuto)\n",
    "yPredictRegresionLinealIDEAMAuto = clf.predict(testX1IDEAMAuto)\n",
    "rmseRegresionLineal = math.sqrt(mean_squared_error(testYIDEAMAuto,yPredictRegresionLinealIDEAMAuto))\n",
    "print('rmseRegresionLineal: '+str(rmseRegresionLineal\n",
    "\n",
    "#%% scores TRAIN\n",
    "yPredictRandomForestIDEAMAutoTrain = model_rf1IDEAMAuto.predict(trainX1IDEAMAuto)\n",
    "rmseRandomForestTrain = math.sqrt(mean_squared_error(trainYIDEAMAuto,yPredictRandomForestIDEAMAutoTrain))\n",
    "print('rmseRandomForest: '+str(rmseRandomForestTrain))\n",
    "r2RandomForestTrain = r2_score(trainYIDEAMAuto,yPredictRandomForestIDEAMAutoTrain) \n",
    "print('r2RandomForest: '+str(r2RandomForestTrain))\n",
    "))\n",
    "r2RegresionLineal = r2_score(testYIDEAMAuto,yPredictRegresionLinealIDEAMAuto) \n",
    "print('r2RegresionLineal: '+str(r2RegresionLineal))\n",
    "\n",
    "xIDEAMAuto = range(len(testYIDEAMAuto[test_sizeIDEAMAuto+24*7*3:test_sizeIDEAMAuto+24*7*4]))\n",
    "plt.plot(xIDEAMAuto, testYIDEAMAuto[test_sizeIDEAMAuto+24*7*3:test_sizeIDEAMAuto+24*7*4])\n",
    "plt.plot(xIDEAMAuto, yPredictRegresionLinealIDEAMAuto[test_sizeIDEAMAuto+24*7*3:test_sizeIDEAMAuto+24*7*4])\n",
    "plt.show()\n",
    "#%%\n",
    "casiCompletos = model_rf1IDEAMAuto.predict(dataXfeatures1IDEAMAuto)\n",
    "rmseRandomForestCC = math.sqrt(mean_squared_error(dataYIDEAMAuto,casiCompletos))\n",
    "print('rmseRandomForest: '+str(rmseRandomForestCC))\n",
    "r2RandomForestCC = r2_score(dataYIDEAMAuto,casiCompletos) \n",
    "print('r2RandomForest: '+str(r2RandomForestCC))\n",
    "\n",
    "#%%\n",
    "dataXfeatures2IDEAMAuto = pd.DataFrame({'DHI':completo.DHI,'DNI':completo.DNI, 'GHI':completo.GHI, 'Clearsky DHI':completo['Clearsky DHI'],'Clearsky DNI':completo['Clearsky DNI'],'Clearsky GHI':completo['Clearsky GHI'], 'Temperature':completo.Temperature,'Wind Speed':completo['Wind Speed'], 'Cloud Type':completo['Cloud Type'], 'Relative Humidity':completo['Relative Humidity'], 'Precipitable Water':completo['Precipitable Water']})\n",
    "NRELAuto = model_rf1IDEAMAuto.predict(dataXfeatures2IDEAMAuto)\n",
    "\n",
    "#%%\n",
    "copiaNRELAuto = NRELAuto\n",
    "copiaNRELAuto[(completo.Hour<6)|(completo.Hour>18)]=0\n",
    "\n",
    "#%%\n",
    "datosIDEAMCompletadosDF =pd.DataFrame({'Year':completo.Year, 'Month':completo.Month, 'Day': completo.Day, 'Hour':completo.Hour, 'Valor':copiaNRELAuto})\n",
    "datosIDEAMCompletadosDF.to_csv('datosNREL2IDEAMAuto.csv', header=True, index=False)\n",
    "\n",
    "#%%\n",
    "copiaYPredictRandomForest=yPredictRandomForestIDEAMAuto\n",
    "copiaYPredictRandomForest[(dataXIDEAMAuto[test_sizeIDEAMAuto:len(dataXfeatures1IDEAMAuto)].Hour<6)|(dataXIDEAMAuto.Hour[test_sizeIDEAMAuto:len(dataXfeatures1IDEAMAuto)]>18)]=0\n",
    "rmseconCeros = math.sqrt(mean_squared_error(testYIDEAMAuto,copiaYPredictRandomForest))\n",
    "print('rmseRegresionLineal: '+str(rmseconCeros))\n",
    "r2conCeros = r2_score(testYIDEAMAuto,copiaYPredictRandomForest)\n",
    "print('r2conCeros: '+str(r2conCeros))\n",
    "\n",
    "#%%\n",
    "a= dataX.GHI[dataX.GHI==0]\n",
    "y =np.array(dataY)\n",
    "c = y==0\n",
    "a == c\n",
    "\n",
    "#%%\n",
    "yPredictRandomForestIDEAMAuto[testY==0]\n",
    "\n",
    "#%% \n",
    "dataPredecirFeaturesIDEAMAuto = pd.DataFrame({'DHI':dataPredecirIDEAMAuto.DHI,'DNI':dataPredecirIDEAMAuto.DNI, 'GHI':dataPredecirIDEAMAuto.GHI, 'Clearsky DHI':dataPredecirIDEAMAuto['Clearsky DHI'],'Clearsky DNI':dataPredecirIDEAMAuto['Clearsky DNI'],'Clearsky GHI':dataPredecirIDEAMAuto['Clearsky GHI'], 'Temperature':dataPredecirIDEAMAuto.Temperature,'Wind Speed':dataPredecirIDEAMAuto['Wind Speed'], 'Cloud Type':dataPredecirIDEAMAuto['Cloud Type'], 'Relative Humidity':dataPredecirIDEAMAuto['Relative Humidity'], 'Precipitable Water':dataPredecirIDEAMAuto['Precipitable Water']})\n",
    "datosPredichos = model_rf1IDEAMAuto.predict(dataPredecirFeaturesIDEAMAuto)\n",
    "\n",
    "#%% Correción ceros\n",
    "datosCompatiblesNRELeIDEAMAuto[datosCompatiblesNRELeIDEAMAuto.GHI==0]\n",
    "\n",
    "#%%\n",
    "datosIDEAMCompletados = []\n",
    "i = 0\n",
    "j = 0\n",
    "k = 0\n",
    "while (i < len(datosCompatiblesNRELeIDEAMAuto)):\n",
    "    fechaNREL = datetime(int(datosCompatiblesNRELeIDEAMAuto.Year[i]), int(datosCompatiblesNRELeIDEAMAuto.Month[i]), int(datosCompatiblesNRELeIDEAMAuto.Day[i]) , int(datosCompatiblesNRELeIDEAMAuto.Hour[i]), 00 )\n",
    "    fechaIDEAM = datetime.strptime(datosIDEAMAuto.Fecha[j], '%Y-%m-%d %H:%M')\n",
    "    if(fechaNREL == fechaIDEAM):\n",
    "        datosIDEAMCompletados.append(datosIDEAMAuto.Valor[j])\n",
    "        i = i+1\n",
    "        j = j+1\n",
    "    else:\n",
    "        if((datosCompatiblesNRELeIDEAMAuto.Hour[i]<5)|(datosCompatiblesNRELeIDEAMAuto.Hour[i]>19)):\n",
    "            datosIDEAMCompletados.append(0)\n",
    "        else:\n",
    "            datosIDEAMCompletados.append(datosPredichos[k])\n",
    "        k = k+1\n",
    "        i=i+1\n",
    "datosIDEAMCompletadosDF =pd.DataFrame({'Year':datosCompatiblesNRELeIDEAMAuto.Year, 'Month':datosCompatiblesNRELeIDEAMAuto.Month, 'Day': datosCompatiblesNRELeIDEAMAuto.Day, 'Hour':datosCompatiblesNRELeIDEAMAuto.Hour, 'Valor':datosIDEAMCompletados})\n",
    "\n",
    "#%%\n",
    "datosIDEAMCompletadosDF.to_csv('datosIDEAMAutoCompletados.csv', header=True, index=False)\n",
    "#%%\n",
    "completo2 = pd.read_csv('../Tesis/DatosKioskoNSRDB/DatosUnidosPromediados.csv')\n",
    "dataPredecir = pd.DataFrame({'DHI':completo2.DHI,'DNI':completo2.DNI, 'GHI':completo2.GHI, 'Clearsky DHI':completo2['Clearsky DHI'],'Clearsky DNI':completo2['Clearsky DNI'],'Clearsky GHI':completo2['Clearsky GHI'], 'Temperature':completo2.Temperature,'Wind Speed':completo2['Wind Speed'], 'Cloud Type':completo2['Cloud Type'], 'Relative Humidity':completo2['Relative Humidity'], 'Precipitable Water':completo2['Precipitable Water']})\n",
    "datosPredichos = model_rf1IDEAMAuto.predict(dataPredecir)\n",
    "datosPredichos.to_csv('datosIDEAMAutoCompletados.csv', header=True, index=False)\n",
    "\n",
    "#%% Correción ceros\n",
    "datosCompatiblesNRELeIDEAMAuto[datosCompatiblesNRELeIDEAMAuto.GHI==0]\n",
    "#%%\n",
    "'''\n",
    "'''\n",
    "datosIDEAMNuevaGeneracion = pd.read_csv('datosIDEAMNuevaGeneracion.csv') \n",
    "datosCompatiblesNRELeIDEAMNuevaGeneracion =  completo.loc['2015-2-1T0:00:00Z':'2018-10-1T0:00:00Z']\n",
    "#%%\n",
    "dataX = []\n",
    "dataY = []\n",
    "dataPredecir = []\n",
    "i = 0\n",
    "j = 0\n",
    "while (i < len(datosCompatiblesNRELeIDEAMNuevaGeneracion)):\n",
    "    fechaNREL = datetime(int(datosCompatiblesNRELeIDEAMNuevaGeneracion.Year[i]), int(datosCompatiblesNRELeIDEAMNuevaGeneracion.Month[i]), int(datosCompatiblesNRELeIDEAMNuevaGeneracion.Day[i]) , int(datosCompatiblesNRELeIDEAMNuevaGeneracion.Hour[i]), 00 )\n",
    "    fechaIDEAM = datetime.strptime(datosIDEAMNuevaGeneracion.Fecha[j], '%Y-%m-%d %H:%M')\n",
    "    if(fechaNREL == fechaIDEAM):\n",
    "        dataX.append(datosCompatiblesNRELeIDEAMNuevaGeneracion.iloc[i])\n",
    "        dataY.append(datosIDEAMNuevaGeneracion.Valor[j])\n",
    "        i = i+1\n",
    "        j = j+1\n",
    "    else:\n",
    "        dataPredecir.append(datosCompatiblesNRELeIDEAMNuevaGeneracion.iloc[i])\n",
    "        i = i+1\n",
    "dataX = pd.DataFrame(dataX)\n",
    "dataPredecir = pd.DataFrame(dataPredecir)   \n",
    "#%%\n",
    "dataXfeatures = pd.DataFrame({'DHI':dataX.DHI,'DNI':dataX.DNI, 'GHI':dataX.GHI})\n",
    "\n",
    "train_size = int(len(dataXfeatures)*0.8)\n",
    "test_size = len(dataXfeatures) - train_size\n",
    "\n",
    "trainX, testX = dataXfeatures[0:train_size], dataXfeatures[test_size:len(dataX)]\n",
    "trainY, testY = dataY[0:train_size], dataY[test_size:len(dataY)]\n",
    "\n",
    "model_rf1 = RandomForestRegressor(n_estimators=100, min_samples_leaf=10,random_state=0, n_jobs=2)\n",
    "model_rf1.fit(trainX, trainY)\n",
    "yPredictRandomForest = model_rf1.predict(testX)\n",
    "rmseRandomForest = math.sqrt(mean_squared_error(testY,yPredictRandomForest))\n",
    "print('rmseRandomForest: '+str(rmseRandomForest))\n",
    "r2RandomForest = r2_score(testY,yPredictRandomForest) \n",
    "print('r2RandomForest: '+str(r2RandomForest))\n",
    "x=range(len(testY[test_size+24*7*3:test_size+24*7*4]))\n",
    "plt.plot(x, testY[test_size+24*7*3:test_size+24*7*4])\n",
    "plt.plot(x, yPredictRandomForest[test_size+24*7*3:test_size+24*7*4])\n",
    "plt.show()\n",
    "\n",
    "clf = linear_model.LinearRegression()\n",
    "clf.fit(trainX, trainY)\n",
    "yPredictRegresionLineal = clf.predict(testX)\n",
    "rmseRegresionLineal = math.sqrt(mean_squared_error(testY,yPredictRegresionLineal))\n",
    "print('rmseRegresionLineal: '+str(rmseRegresionLineal))\n",
    "r2RegresionLineal = r2_score(testY,yPredictRegresionLineal) \n",
    "print('r2RegresionLineal: '+str(r2RegresionLineal))\n",
    "\n",
    "x=range(len(testY[test_size+24*7*3:test_size+24*7*4]))\n",
    "plt.plot(x, testY[test_size+24*7*3:test_size+24*7*4])\n",
    "plt.plot(x, yPredictRegresionLineal[test_size+24*7*3:test_size+24*7*4])\n",
    "plt.show()\n",
    "#%%\n",
    "dataXfeatures1 = pd.DataFrame({'DHI':dataX.DHI,'DNI':dataX.DNI, 'GHI':dataX.GHI, 'Clearsky DHI':dataX['Clearsky DHI'],'Clearsky DNI':dataX['Clearsky DNI'],'Clearsky GHI':dataX['Clearsky GHI'], 'Temperature':dataX.Temperature,'Wind Speed':dataX['Wind Speed'], 'Cloud Type':dataX['Cloud Type'], 'Relative Humidity':dataX['Relative Humidity'], 'Precipitable Water':dataX['Precipitable Water']})\n",
    "\n",
    "train_size = int(len(dataX)*0.8)\n",
    "test_size = len(dataX) - train_size\n",
    "\n",
    "trainX1, testX1 = dataXfeatures1[0:train_size], dataXfeatures1[test_size:len(dataXfeatures1)]\n",
    "trainY, testY = dataY[0:train_size], dataY[test_size:len(dataY)]\n",
    "\n",
    "model_rf1 = RandomForestRegressor(n_estimators=100,max_features=4, min_samples_leaf=10,random_state=0, n_jobs=2)\n",
    "model_rf1.fit(trainX1, trainY)\n",
    "yPredictRandomForest = model_rf1.predict(testX1)\n",
    "rmseRandomForest = math.sqrt(mean_squared_error(testY,yPredictRandomForest))\n",
    "print('rmseRandomForest: '+str(rmseRandomForest))\n",
    "r2RandomForest = r2_score(testY,yPredictRandomForest) \n",
    "print('r2RandomForest: '+str(r2RandomForest))\n",
    "x=range(len(testY[test_size+24*7*3:test_size+24*7*4]))\n",
    "plt.plot(x, testY[test_size+24*7*3:test_size+24*7*4])\n",
    "plt.plot(x, yPredictRandomForest[test_size+24*7*3:test_size+24*7*4])\n",
    "plt.show()\n",
    "\n",
    "clf = linear_model.LinearRegression()\n",
    "clf.fit(trainX1, trainY)\n",
    "yPredictRegresionLineal = clf.predict(testX1)\n",
    "rmseRegresionLineal = math.sqrt(mean_squared_error(testY,yPredictRegresionLineal))\n",
    "print('rmseRegresionLineal: '+str(rmseRegresionLineal))\n",
    "r2RegresionLineal = r2_score(testY,yPredictRegresionLineal) \n",
    "print('r2RegresionLineal: '+str(r2RegresionLineal))\n",
    "\n",
    "x=range(len(testY[test_size+24*7*3:test_size+24*7*4]))\n",
    "plt.plot(x, testY[test_size+24*7*3:test_size+24*7*4])\n",
    "plt.plot(x, yPredictRegresionLineal[test_size+24*7*3:test_size+24*7*4])\n",
    "plt.show()\n",
    "\n",
    "#%%\n",
    "copiaYPredictRandomForest=yPredictRandomForest\n",
    "copiaYPredictRandomForest[(dataX[test_size:len(dataXfeatures1)].Hour<6)|(dataX.Hour[test_size:len(dataXfeatures1)]>18)]=0\n",
    "rmseconCeros = math.sqrt(mean_squared_error(testY,copiaYPredictRandomForest))\n",
    "print('rmseRegresionLineal: '+str(rmseconCeros))\n",
    "r2conCeros = r2_score(testY,copiaYPredictRandomForest)\n",
    "print('r2conCeros: '+str(r2conCeros))\n",
    "\n",
    "#%%\n",
    "datosIDEAMCompletados = []\n",
    "i = 0\n",
    "j = 0\n",
    "k = 0\n",
    "while (i < len(datosCompatiblesNRELeIDEAMNuevaGeneracion)):\n",
    "    fechaNREL = datetime(int(datosCompatiblesNRELeIDEAMNuevaGeneracion.Year[i]), int(datosCompatiblesNRELeIDEAMNuevaGeneracion.Month[i]), int(datosCompatiblesNRELeIDEAMNuevaGeneracion.Day[i]) , int(datosCompatiblesNRELeIDEAMNuevaGeneracion.Hour[i]), 00 )\n",
    "    fechaIDEAM = datetime.strptime(datosIDEAMNuevaGeneracion.Fecha[j], '%Y-%m-%d %H:%M')\n",
    "    if(fechaNREL == fechaIDEAM):\n",
    "        datosIDEAMCompletados.append(datosIDEAMNuevaGeneracion.Valor[j])\n",
    "        i = i+1\n",
    "        j = j+1\n",
    "    else:\n",
    "        datosIDEAMCompletados.append(copiaYPredictRandomForest[k])\n",
    "        k = k+1\n",
    "        i=i+1\n",
    "datosIDEAMCompletadosDF =pd.DataFrame({'Year':datosCompatiblesNRELeIDEAMNuevaGeneracion.Year, 'Month':datosCompatiblesNRELeIDEAMNuevaGeneracion.Month, 'Day': datosCompatiblesNRELeIDEAMNuevaGeneracion.Day, 'Hour':datosCompatiblesNRELeIDEAMNuevaGeneracion.Hour, 'Valor':datosIDEAMCompletados})\n",
    "#%%\n",
    "datosIDEAMCompletadosDF.to_csv('datosIDEAMNuevaGeneracionCompletados.csv', header=True, index=False)\n",
    "#%%\n",
    "#%%\n",
    "'''\n",
    "'''\n",
    "datosIDEAMVillaTeresa = pd.read_csv('datosIDEAMVillaTeresa.csv') \n",
    "#%%\n",
    "datosCompatiblesNRELeIDEAMVillaTeresa =  completo.loc['2007-5-10T12:00:00Z':'2016-9-30T23:00:00Z']\n",
    "#%%\n",
    "dataX = []\n",
    "dataY = []\n",
    "dataPredecir = []\n",
    "i = 0\n",
    "j = 0\n",
    "while (i < len(datosCompatiblesNRELeIDEAMVillaTeresa)):\n",
    "    fechaNREL = datetime(int(datosCompatiblesNRELeIDEAMVillaTeresa.Year[i]), int(datosCompatiblesNRELeIDEAMVillaTeresa.Month[i]), int(datosCompatiblesNRELeIDEAMVillaTeresa.Day[i]) , int(datosCompatiblesNRELeIDEAMVillaTeresa.Hour[i]), 00 )\n",
    "    fechaIDEAM = datetime.strptime(datosIDEAMVillaTeresa.Fecha[j], '%Y-%m-%d %H:%M')\n",
    "    if(fechaNREL == fechaIDEAM):\n",
    "        dataX.append(datosCompatiblesNRELeIDEAMVillaTeresa.iloc[i])\n",
    "        dataY.append(datosIDEAMVillaTeresa.Valor[j])\n",
    "        i = i+1\n",
    "        j = j+1\n",
    "    else:\n",
    "        dataPredecir.append(datosCompatiblesNRELeIDEAMVillaTeresa.iloc[i])\n",
    "        i = i+1\n",
    "dataX = pd.DataFrame(dataX)\n",
    "dataPredecir = pd.DataFrame(dataPredecir)   \n",
    "#%%\n",
    "dataXfeatures = pd.DataFrame({'DHI':dataX.DHI,'DNI':dataX.DNI, 'GHI':dataX.GHI})\n",
    "\n",
    "train_size = int(len(dataXfeatures)*0.8)\n",
    "test_size = len(dataXfeatures) - train_size\n",
    "\n",
    "trainX, testX = dataXfeatures[0:train_size], dataXfeatures[test_size:len(dataX)]\n",
    "trainY, testY = dataY[0:train_size], dataY[test_size:len(dataY)]\n",
    "\n",
    "model_rf1 = RandomForestRegressor(n_estimators=100, min_samples_leaf=10,random_state=0, n_jobs=2)\n",
    "model_rf1.fit(trainX, trainY)\n",
    "yPredictRandomForest = model_rf1.predict(testX)\n",
    "rmseRandomForest = math.sqrt(mean_squared_error(testY,yPredictRandomForest))\n",
    "print('rmseRandomForest: '+str(rmseRandomForest))\n",
    "r2RandomForest = r2_score(testY,yPredictRandomForest) \n",
    "print('r2RandomForest: '+str(r2RandomForest))\n",
    "x=range(len(testY[test_size+24*7*3:test_size+24*7*4]))\n",
    "plt.plot(x, testY[test_size+24*7*3:test_size+24*7*4])\n",
    "plt.plot(x, yPredictRandomForest[test_size+24*7*3:test_size+24*7*4])\n",
    "plt.show()\n",
    "\n",
    "clf = linear_model.LinearRegression()\n",
    "clf.fit(trainX, trainY)\n",
    "yPredictRegresionLineal = clf.predict(testX)\n",
    "rmseRegresionLineal = math.sqrt(mean_squared_error(testY,yPredictRegresionLineal))\n",
    "print('rmseRegresionLineal: '+str(rmseRegresionLineal))\n",
    "r2RegresionLineal = r2_score(testY,yPredictRegresionLineal) \n",
    "print('r2RegresionLineal: '+str(r2RegresionLineal))\n",
    "\n",
    "x=range(len(testY[test_size+24*7*3:test_size+24*7*4]))\n",
    "plt.plot(x, testY[test_size+24*7*3:test_size+24*7*4])\n",
    "plt.plot(x, yPredictRegresionLineal[test_size+24*7*3:test_size+24*7*4])\n",
    "plt.show()\n",
    "#%%\n",
    "dataXfeatures1 = pd.DataFrame({'DHI':dataX.DHI,'DNI':dataX.DNI, 'GHI':dataX.GHI, 'Clearsky DHI':dataX['Clearsky DHI'],'Clearsky DNI':dataX['Clearsky DNI'],'Clearsky GHI':dataX['Clearsky GHI'], 'Temperature':dataX.Temperature,'Wind Speed':dataX['Wind Speed'], 'Cloud Type':dataX['Cloud Type'], 'Relative Humidity':dataX['Relative Humidity'], 'Precipitable Water':dataX['Precipitable Water']})\n",
    "\n",
    "train_size = int(len(dataX)*0.8)\n",
    "test_size = len(dataX) - train_size\n",
    "\n",
    "trainX1, testX1 = dataXfeatures1[0:train_size], dataXfeatures1[test_size:len(dataXfeatures1)]\n",
    "trainY, testY = dataY[0:train_size], dataY[test_size:len(dataY)]\n",
    "\n",
    "model_rf1 = RandomForestRegressor(n_estimators=100,max_features=4, min_samples_leaf=10,random_state=0, n_jobs=2)\n",
    "model_rf1.fit(trainX1, trainY)\n",
    "yPredictRandomForest = model_rf1.predict(testX1)\n",
    "rmseRandomForest = math.sqrt(mean_squared_error(testY,yPredictRandomForest))\n",
    "print('rmseRandomForest: '+str(rmseRandomForest))\n",
    "r2RandomForest = r2_score(testY,yPredictRandomForest) \n",
    "print('r2RandomForest: '+str(r2RandomForest))\n",
    "x=range(len(testY[test_size+24*7*3:test_size+24*7*4]))\n",
    "plt.plot(x, testY[test_size+24*7*3:test_size+24*7*4])\n",
    "plt.plot(x, yPredictRandomForest[test_size+24*7*3:test_size+24*7*4])\n",
    "plt.show()\n",
    "\n",
    "clf = linear_model.LinearRegression()\n",
    "clf.fit(trainX1, trainY)\n",
    "yPredictRegresionLineal = clf.predict(testX1)\n",
    "rmseRegresionLineal = math.sqrt(mean_squared_error(testY,yPredictRegresionLineal))\n",
    "print('rmseRegresionLineal: '+str(rmseRegresionLineal))\n",
    "r2RegresionLineal = r2_score(testY,yPredictRegresionLineal) \n",
    "print('r2RegresionLineal: '+str(r2RegresionLineal))\n",
    "\n",
    "x=range(len(testY[test_size+24*7*3:test_size+24*7*4]))\n",
    "plt.plot(x, testY[test_size+24*7*3:test_size+24*7*4])\n",
    "plt.plot(x, yPredictRegresionLineal[test_size+24*7*3:test_size+24*7*4])\n",
    "plt.show()\n",
    "#%%\n",
    "copiaYPredictRandomForest=yPredictRandomForest\n",
    "copiaYPredictRandomForest[(dataX[test_size:len(dataXfeatures1)].Hour<6)|(dataX.Hour[test_size:len(dataXfeatures1)]>18)]=0\n",
    "rmseconCeros = math.sqrt(mean_squared_error(testY,copiaYPredictRandomForest))\n",
    "print('rmseRegresionLineal: '+str(rmseconCeros))\n",
    "r2conCeros = r2_score(testY,copiaYPredictRandomForest)\n",
    "print('r2conCeros: '+str(r2conCeros))\n",
    "#%%\n",
    "datosIDEAMCompletados = []\n",
    "i = 0\n",
    "j = 0\n",
    "k = 0\n",
    "while (i < len(datosCompatiblesNRELeIDEAMVillaTeresa)):\n",
    "    fechaNREL = datetime(int(datosCompatiblesNRELeIDEAMVillaTeresa.Year[i]), int(datosCompatiblesNRELeIDEAMVillaTeresa.Month[i]), int(datosCompatiblesNRELeIDEAMVillaTeresa.Day[i]) , int(datosCompatiblesNRELeIDEAMVillaTeresa.Hour[i]), 00 )\n",
    "    fechaIDEAM = datetime.strptime(datosIDEAMVillaTeresa.Fecha[j], '%Y-%m-%d %H:%M')\n",
    "    if(fechaNREL == fechaIDEAM):\n",
    "        datosIDEAMCompletados.append(datosIDEAMVillaTeresa.Valor[j])\n",
    "        i = i+1\n",
    "        j = j+1\n",
    "    else:\n",
    "        datosIDEAMCompletados.append(copiaYPredictRandomForest[k])\n",
    "        k = k+1\n",
    "        i=i+1\n",
    "datosIDEAMCompletadosDF =pd.DataFrame({'Year':datosCompatiblesNRELeIDEAMVillaTeresa.Year, 'Month':datosCompatiblesNRELeIDEAMVillaTeresa.Month, 'Day': datosCompatiblesNRELeIDEAMVillaTeresa.Day, 'Hour':datosCompatiblesNRELeIDEAMVillaTeresa.Hour, 'Valor':datosIDEAMCompletados})\n",
    "#%%\n",
    "datosIDEAMCompletadosDF.to_csv('datosIDEAMVillaTeresaCompletados.csv', header=True, index=False)"
   ]
  }
 ],
 "metadata": {
  "anaconda-cloud": {},
  "colab": {
   "name": "Data Adaptation.ipynb",
   "provenance": [],
   "toc_visible": true
  },
  "gist_id": "2309ebc5658f1deb54fbad56eec90ba3",
  "kernelspec": {
   "display_name": "Python 3",
   "language": "python",
   "name": "python3"
  },
  "language_info": {
   "codemirror_mode": {
    "name": "ipython",
    "version": 3
   },
   "file_extension": ".py",
   "mimetype": "text/x-python",
   "name": "python",
   "nbconvert_exporter": "python",
   "pygments_lexer": "ipython3",
   "version": "3.8.5"
  },
  "latex_envs": {
   "LaTeX_envs_menu_present": true,
   "autoclose": false,
   "autocomplete": true,
   "bibliofile": "biblio.bib",
   "cite_by": "apalike",
   "current_citInitial": 1,
   "eqLabelWithNumbers": true,
   "eqNumInitial": 1,
   "hotkeys": {
    "equation": "Ctrl-E",
    "itemize": "Ctrl-I"
   },
   "labels_anchors": false,
   "latex_user_defs": false,
   "report_style_numbering": false,
   "user_envs_cfg": false
  },
  "toc": {
   "base_numbering": 1,
   "nav_menu": {},
   "number_sections": true,
   "sideBar": true,
   "skip_h1_title": false,
   "title_cell": "Table of Contents",
   "title_sidebar": "Contents",
   "toc_cell": false,
   "toc_position": {},
   "toc_section_display": true,
   "toc_window_display": false
  },
  "varInspector": {
   "cols": {
    "lenName": 16,
    "lenType": 16,
    "lenVar": 40
   },
   "kernels_config": {
    "python": {
     "delete_cmd_postfix": "",
     "delete_cmd_prefix": "del ",
     "library": "var_list.py",
     "varRefreshCmd": "print(var_dic_list())"
    },
    "r": {
     "delete_cmd_postfix": ") ",
     "delete_cmd_prefix": "rm(",
     "library": "var_list.r",
     "varRefreshCmd": "cat(var_dic_list()) "
    }
   },
   "types_to_exclude": [
    "module",
    "function",
    "builtin_function_or_method",
    "instance",
    "_Feature"
   ],
   "window_display": false
  }
 },
 "nbformat": 4,
 "nbformat_minor": 2
}
