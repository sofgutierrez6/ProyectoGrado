{
 "cells": [
  {
   "cell_type": "markdown",
   "metadata": {},
   "source": [
    "# Proyecto de Grado\n",
    "\n",
    "Presentado por Sofía Gutiérrez"
   ]
  },
  {
   "cell_type": "markdown",
   "metadata": {
    "toc": true
   },
   "source": [
    "<h1>Contenido<span class=\"tocSkip\"></span></h1>\n",
    "<div class=\"toc\"><ul class=\"toc-item\"><li><span><a href=\"#Preprocesamiento-de-los-Datos\" data-toc-modified-id=\"Preprocesamiento-de-los-Datos-1\"><span class=\"toc-item-num\">1&nbsp;&nbsp;</span>Preprocesamiento de los Datos</a></span><ul class=\"toc-item\"><li><span><a href=\"#Cargar-Datos\" data-toc-modified-id=\"Cargar-Datos-1.1\"><span class=\"toc-item-num\">1.1&nbsp;&nbsp;</span>Cargar Datos</a></span></li><li><span><a href=\"#Añadir-fechas-faltantes\" data-toc-modified-id=\"Añadir-fechas-faltantes-1.2\"><span class=\"toc-item-num\">1.2&nbsp;&nbsp;</span>Añadir fechas faltantes</a></span></li><li><span><a href=\"#Llenar-temperaturas-faltantes\" data-toc-modified-id=\"Llenar-temperaturas-faltantes-1.3\"><span class=\"toc-item-num\">1.3&nbsp;&nbsp;</span>Llenar temperaturas faltantes</a></span></li><li><span><a href=\"#Llenar-velocidad-del-viento-faltante\" data-toc-modified-id=\"Llenar-velocidad-del-viento-faltante-1.4\"><span class=\"toc-item-num\">1.4&nbsp;&nbsp;</span>Llenar velocidad del viento faltante</a></span></li><li><span><a href=\"#Pruebas-de-Calidad\" data-toc-modified-id=\"Pruebas-de-Calidad-1.5\"><span class=\"toc-item-num\">1.5&nbsp;&nbsp;</span>Pruebas de Calidad</a></span></li><li><span><a href=\"#Guardar-Datos\" data-toc-modified-id=\"Guardar-Datos-1.6\"><span class=\"toc-item-num\">1.6&nbsp;&nbsp;</span>Guardar Datos</a></span></li></ul></li></ul></div>"
   ]
  },
  {
   "cell_type": "markdown",
   "metadata": {},
   "source": [
    "## Preprocesamiento de los Datos"
   ]
  },
  {
   "cell_type": "code",
   "execution_count": 1,
   "metadata": {
    "ExecuteTime": {
     "end_time": "2021-02-25T23:11:20.169445Z",
     "start_time": "2021-02-25T23:11:19.878444Z"
    },
    "collapsed": true
   },
   "outputs": [],
   "source": [
    "# Librerías\n",
    "import pandas as pd\n",
    "import numpy as np\n",
    "\n",
    "# COnfiguración\n",
    "pd.set_option('display.max_rows', 500)\n",
    "pd.set_option('display.max_columns', 500)\n",
    "pd.set_option('display.width', 1000)"
   ]
  },
  {
   "cell_type": "markdown",
   "metadata": {},
   "source": [
    "## Cargar Datos"
   ]
  },
  {
   "cell_type": "code",
   "execution_count": 2,
   "metadata": {
    "ExecuteTime": {
     "end_time": "2021-02-25T23:11:23.594443Z",
     "start_time": "2021-02-25T23:11:20.170444Z"
    },
    "collapsed": false
   },
   "outputs": [
    {
     "name": "stdout",
     "output_type": "stream",
     "text": [
      "Tamaño: (15253, 30)\n"
     ]
    },
    {
     "data": {
      "text/html": [
       "<div>\n",
       "<style scoped>\n",
       "    .dataframe tbody tr th:only-of-type {\n",
       "        vertical-align: middle;\n",
       "    }\n",
       "\n",
       "    .dataframe tbody tr th {\n",
       "        vertical-align: top;\n",
       "    }\n",
       "\n",
       "    .dataframe thead th {\n",
       "        text-align: right;\n",
       "    }\n",
       "</style>\n",
       "<table border=\"1\" class=\"dataframe\">\n",
       "  <thead>\n",
       "    <tr style=\"text-align: right;\">\n",
       "      <th></th>\n",
       "      <th>Date &amp; Time</th>\n",
       "      <th>Date</th>\n",
       "      <th>Time</th>\n",
       "      <th>Temp - °C</th>\n",
       "      <th>Temp. Alta - °C</th>\n",
       "      <th>Temp. Baja - °C</th>\n",
       "      <th>Hum - %</th>\n",
       "      <th>Punto de rocío - °C</th>\n",
       "      <th>Wet Bulb - °C</th>\n",
       "      <th>Velocidad del viento - m/s</th>\n",
       "      <th>Dirección del viento</th>\n",
       "      <th>Viento Corriente - m</th>\n",
       "      <th>Alta velocidad del viento - m/s</th>\n",
       "      <th>Alta Dirección del viento</th>\n",
       "      <th>Viento Frío - °C</th>\n",
       "      <th>Índice de calor - °C</th>\n",
       "      <th>THW Index - °C</th>\n",
       "      <th>THSW  índice - °C</th>\n",
       "      <th>Barómetro - mm Hg</th>\n",
       "      <th>Lluvia - mm</th>\n",
       "      <th>Tasa de lluvia - mm/h</th>\n",
       "      <th>Rad Solar - W/m^2</th>\n",
       "      <th>Energía solar</th>\n",
       "      <th>Rad Solar Alta - W/m^2</th>\n",
       "      <th>ET - mm</th>\n",
       "      <th>El índice UV - Index</th>\n",
       "      <th>Dosis de UV</th>\n",
       "      <th>Alto índice UV - Index</th>\n",
       "      <th>Días-grado de calentamiento</th>\n",
       "      <th>Días-grado de enfriamiento</th>\n",
       "    </tr>\n",
       "  </thead>\n",
       "  <tbody>\n",
       "    <tr>\n",
       "      <th>0</th>\n",
       "      <td>2019-05-07 16:00:00</td>\n",
       "      <td>2019-05-07</td>\n",
       "      <td>16:00:00</td>\n",
       "      <td>21.2</td>\n",
       "      <td>21.3</td>\n",
       "      <td>21.2</td>\n",
       "      <td>47.0</td>\n",
       "      <td>9.5</td>\n",
       "      <td>12.2</td>\n",
       "      <td>0.9</td>\n",
       "      <td>ENE</td>\n",
       "      <td>0.89</td>\n",
       "      <td>1.8</td>\n",
       "      <td>ESE</td>\n",
       "      <td>21.2</td>\n",
       "      <td>20.2</td>\n",
       "      <td>20.2</td>\n",
       "      <td>NaN</td>\n",
       "      <td>556.2</td>\n",
       "      <td>0.0</td>\n",
       "      <td>0.0</td>\n",
       "      <td>NaN</td>\n",
       "      <td>NaN</td>\n",
       "      <td>NaN</td>\n",
       "      <td>0.00</td>\n",
       "      <td>1.6</td>\n",
       "      <td>0.69</td>\n",
       "      <td>1.6</td>\n",
       "      <td>0.000</td>\n",
       "      <td>0.217</td>\n",
       "    </tr>\n",
       "    <tr>\n",
       "      <th>1</th>\n",
       "      <td>2019-05-07 17:00:00</td>\n",
       "      <td>2019-05-07</td>\n",
       "      <td>17:00:00</td>\n",
       "      <td>19.4</td>\n",
       "      <td>23.0</td>\n",
       "      <td>19.4</td>\n",
       "      <td>52.0</td>\n",
       "      <td>9.3</td>\n",
       "      <td>11.8</td>\n",
       "      <td>0.4</td>\n",
       "      <td>E</td>\n",
       "      <td>0.45</td>\n",
       "      <td>4.5</td>\n",
       "      <td>SE</td>\n",
       "      <td>19.4</td>\n",
       "      <td>18.7</td>\n",
       "      <td>18.7</td>\n",
       "      <td>19.4</td>\n",
       "      <td>556.3</td>\n",
       "      <td>0.0</td>\n",
       "      <td>0.0</td>\n",
       "      <td>59.0</td>\n",
       "      <td>5.08</td>\n",
       "      <td>162.0</td>\n",
       "      <td>0.05</td>\n",
       "      <td>0.4</td>\n",
       "      <td>0.17</td>\n",
       "      <td>1.6</td>\n",
       "      <td>0.000</td>\n",
       "      <td>0.083</td>\n",
       "    </tr>\n",
       "    <tr>\n",
       "      <th>2</th>\n",
       "      <td>2019-05-07 18:00:00</td>\n",
       "      <td>2019-05-07</td>\n",
       "      <td>18:00:00</td>\n",
       "      <td>17.4</td>\n",
       "      <td>19.5</td>\n",
       "      <td>17.4</td>\n",
       "      <td>60.0</td>\n",
       "      <td>9.6</td>\n",
       "      <td>11.7</td>\n",
       "      <td>1.3</td>\n",
       "      <td>ESE</td>\n",
       "      <td>1.34</td>\n",
       "      <td>4.9</td>\n",
       "      <td>ESE</td>\n",
       "      <td>17.4</td>\n",
       "      <td>16.8</td>\n",
       "      <td>16.8</td>\n",
       "      <td>16.1</td>\n",
       "      <td>555.9</td>\n",
       "      <td>0.0</td>\n",
       "      <td>0.0</td>\n",
       "      <td>47.0</td>\n",
       "      <td>4.04</td>\n",
       "      <td>97.0</td>\n",
       "      <td>0.05</td>\n",
       "      <td>0.0</td>\n",
       "      <td>0.00</td>\n",
       "      <td>0.5</td>\n",
       "      <td>0.067</td>\n",
       "      <td>0.000</td>\n",
       "    </tr>\n",
       "  </tbody>\n",
       "</table>\n",
       "</div>"
      ],
      "text/plain": [
       "          Date & Time       Date      Time  Temp - °C  Temp. Alta - °C  Temp. Baja - °C  Hum - %  Punto de rocío - °C  Wet Bulb - °C  Velocidad del viento - m/s Dirección del viento  Viento Corriente - m  Alta velocidad del viento - m/s Alta Dirección del viento  Viento Frío - °C  Índice de calor - °C  THW Index - °C  THSW  índice - °C  Barómetro - mm Hg  Lluvia - mm  Tasa de lluvia - mm/h  Rad Solar - W/m^2  Energía solar  Rad Solar Alta - W/m^2  ET - mm  El índice UV - Index  Dosis de UV  Alto índice UV - Index  Días-grado de calentamiento  Días-grado de enfriamiento\n",
       "0 2019-05-07 16:00:00 2019-05-07  16:00:00       21.2             21.3             21.2     47.0                  9.5           12.2                         0.9                  ENE                  0.89                              1.8                       ESE              21.2                  20.2            20.2                NaN              556.2          0.0                    0.0                NaN            NaN                     NaN     0.00                   1.6         0.69                     1.6                        0.000                       0.217\n",
       "1 2019-05-07 17:00:00 2019-05-07  17:00:00       19.4             23.0             19.4     52.0                  9.3           11.8                         0.4                    E                  0.45                              4.5                        SE              19.4                  18.7            18.7               19.4              556.3          0.0                    0.0               59.0           5.08                   162.0     0.05                   0.4         0.17                     1.6                        0.000                       0.083\n",
       "2 2019-05-07 18:00:00 2019-05-07  18:00:00       17.4             19.5             17.4     60.0                  9.6           11.7                         1.3                  ESE                  1.34                              4.9                       ESE              17.4                  16.8            16.8               16.1              555.9          0.0                    0.0               47.0           4.04                    97.0     0.05                   0.0         0.00                     0.5                        0.067                       0.000"
      ]
     },
     "execution_count": 2,
     "metadata": {},
     "output_type": "execute_result"
    }
   ],
   "source": [
    "# Cargar datos desde Excel\n",
    "data = pd.read_excel('UNIANDES_SD_2021-02-01.xlsx')\n",
    "\n",
    "# Marcar Vacíos\n",
    "data = data.replace(\"--\", np.nan)\n",
    "\n",
    "# Ejemplo datos\n",
    "print(\"Tamaño: {}\".format(data.shape))\n",
    "data.head(3)"
   ]
  },
  {
   "cell_type": "markdown",
   "metadata": {},
   "source": [
    "## Añadir fechas faltantes"
   ]
  },
  {
   "cell_type": "code",
   "execution_count": 3,
   "metadata": {
    "ExecuteTime": {
     "end_time": "2021-02-25T23:11:23.641443Z",
     "start_time": "2021-02-25T23:11:23.595444Z"
    },
    "collapsed": false
   },
   "outputs": [
    {
     "name": "stdout",
     "output_type": "stream",
     "text": [
      "Nuevo tamaño (15258, 30)\n"
     ]
    },
    {
     "data": {
      "text/html": [
       "<div>\n",
       "<style scoped>\n",
       "    .dataframe tbody tr th:only-of-type {\n",
       "        vertical-align: middle;\n",
       "    }\n",
       "\n",
       "    .dataframe tbody tr th {\n",
       "        vertical-align: top;\n",
       "    }\n",
       "\n",
       "    .dataframe thead th {\n",
       "        text-align: right;\n",
       "    }\n",
       "</style>\n",
       "<table border=\"1\" class=\"dataframe\">\n",
       "  <thead>\n",
       "    <tr style=\"text-align: right;\">\n",
       "      <th></th>\n",
       "      <th>Date &amp; Time</th>\n",
       "      <th>Date</th>\n",
       "      <th>Time</th>\n",
       "      <th>Temp - °C</th>\n",
       "      <th>Temp. Alta - °C</th>\n",
       "      <th>Temp. Baja - °C</th>\n",
       "      <th>Hum - %</th>\n",
       "      <th>Punto de rocío - °C</th>\n",
       "      <th>Wet Bulb - °C</th>\n",
       "      <th>Velocidad del viento - m/s</th>\n",
       "      <th>Dirección del viento</th>\n",
       "      <th>Viento Corriente - m</th>\n",
       "      <th>Alta velocidad del viento - m/s</th>\n",
       "      <th>Alta Dirección del viento</th>\n",
       "      <th>Viento Frío - °C</th>\n",
       "      <th>Índice de calor - °C</th>\n",
       "      <th>THW Index - °C</th>\n",
       "      <th>THSW  índice - °C</th>\n",
       "      <th>Barómetro - mm Hg</th>\n",
       "      <th>Lluvia - mm</th>\n",
       "      <th>Tasa de lluvia - mm/h</th>\n",
       "      <th>Rad Solar - W/m^2</th>\n",
       "      <th>Energía solar</th>\n",
       "      <th>Rad Solar Alta - W/m^2</th>\n",
       "      <th>ET - mm</th>\n",
       "      <th>El índice UV - Index</th>\n",
       "      <th>Dosis de UV</th>\n",
       "      <th>Alto índice UV - Index</th>\n",
       "      <th>Días-grado de calentamiento</th>\n",
       "      <th>Días-grado de enfriamiento</th>\n",
       "    </tr>\n",
       "  </thead>\n",
       "  <tbody>\n",
       "    <tr>\n",
       "      <th>0</th>\n",
       "      <td>2019-05-07 16:00:00</td>\n",
       "      <td>2019-05-07</td>\n",
       "      <td>16:00:00</td>\n",
       "      <td>21.2</td>\n",
       "      <td>21.3</td>\n",
       "      <td>21.2</td>\n",
       "      <td>47.0</td>\n",
       "      <td>9.5</td>\n",
       "      <td>12.2</td>\n",
       "      <td>0.9</td>\n",
       "      <td>ENE</td>\n",
       "      <td>0.89</td>\n",
       "      <td>1.8</td>\n",
       "      <td>ESE</td>\n",
       "      <td>21.2</td>\n",
       "      <td>20.2</td>\n",
       "      <td>20.2</td>\n",
       "      <td>NaN</td>\n",
       "      <td>556.2</td>\n",
       "      <td>0.0</td>\n",
       "      <td>0.0</td>\n",
       "      <td>NaN</td>\n",
       "      <td>NaN</td>\n",
       "      <td>NaN</td>\n",
       "      <td>0.00</td>\n",
       "      <td>1.6</td>\n",
       "      <td>0.69</td>\n",
       "      <td>1.6</td>\n",
       "      <td>0.000</td>\n",
       "      <td>0.217</td>\n",
       "    </tr>\n",
       "    <tr>\n",
       "      <th>1</th>\n",
       "      <td>2019-05-07 17:00:00</td>\n",
       "      <td>2019-05-07</td>\n",
       "      <td>17:00:00</td>\n",
       "      <td>19.4</td>\n",
       "      <td>23.0</td>\n",
       "      <td>19.4</td>\n",
       "      <td>52.0</td>\n",
       "      <td>9.3</td>\n",
       "      <td>11.8</td>\n",
       "      <td>0.4</td>\n",
       "      <td>E</td>\n",
       "      <td>0.45</td>\n",
       "      <td>4.5</td>\n",
       "      <td>SE</td>\n",
       "      <td>19.4</td>\n",
       "      <td>18.7</td>\n",
       "      <td>18.7</td>\n",
       "      <td>19.4</td>\n",
       "      <td>556.3</td>\n",
       "      <td>0.0</td>\n",
       "      <td>0.0</td>\n",
       "      <td>59.0</td>\n",
       "      <td>5.08</td>\n",
       "      <td>162.0</td>\n",
       "      <td>0.05</td>\n",
       "      <td>0.4</td>\n",
       "      <td>0.17</td>\n",
       "      <td>1.6</td>\n",
       "      <td>0.000</td>\n",
       "      <td>0.083</td>\n",
       "    </tr>\n",
       "    <tr>\n",
       "      <th>2</th>\n",
       "      <td>2019-05-07 18:00:00</td>\n",
       "      <td>2019-05-07</td>\n",
       "      <td>18:00:00</td>\n",
       "      <td>17.4</td>\n",
       "      <td>19.5</td>\n",
       "      <td>17.4</td>\n",
       "      <td>60.0</td>\n",
       "      <td>9.6</td>\n",
       "      <td>11.7</td>\n",
       "      <td>1.3</td>\n",
       "      <td>ESE</td>\n",
       "      <td>1.34</td>\n",
       "      <td>4.9</td>\n",
       "      <td>ESE</td>\n",
       "      <td>17.4</td>\n",
       "      <td>16.8</td>\n",
       "      <td>16.8</td>\n",
       "      <td>16.1</td>\n",
       "      <td>555.9</td>\n",
       "      <td>0.0</td>\n",
       "      <td>0.0</td>\n",
       "      <td>47.0</td>\n",
       "      <td>4.04</td>\n",
       "      <td>97.0</td>\n",
       "      <td>0.05</td>\n",
       "      <td>0.0</td>\n",
       "      <td>0.00</td>\n",
       "      <td>0.5</td>\n",
       "      <td>0.067</td>\n",
       "      <td>0.000</td>\n",
       "    </tr>\n",
       "  </tbody>\n",
       "</table>\n",
       "</div>"
      ],
      "text/plain": [
       "          Date & Time       Date      Time  Temp - °C  Temp. Alta - °C  Temp. Baja - °C  Hum - %  Punto de rocío - °C  Wet Bulb - °C  Velocidad del viento - m/s Dirección del viento  Viento Corriente - m  Alta velocidad del viento - m/s Alta Dirección del viento  Viento Frío - °C  Índice de calor - °C  THW Index - °C  THSW  índice - °C  Barómetro - mm Hg  Lluvia - mm  Tasa de lluvia - mm/h  Rad Solar - W/m^2  Energía solar  Rad Solar Alta - W/m^2  ET - mm  El índice UV - Index  Dosis de UV  Alto índice UV - Index  Días-grado de calentamiento  Días-grado de enfriamiento\n",
       "0 2019-05-07 16:00:00 2019-05-07  16:00:00       21.2             21.3             21.2     47.0                  9.5           12.2                         0.9                  ENE                  0.89                              1.8                       ESE              21.2                  20.2            20.2                NaN              556.2          0.0                    0.0                NaN            NaN                     NaN     0.00                   1.6         0.69                     1.6                        0.000                       0.217\n",
       "1 2019-05-07 17:00:00 2019-05-07  17:00:00       19.4             23.0             19.4     52.0                  9.3           11.8                         0.4                    E                  0.45                              4.5                        SE              19.4                  18.7            18.7               19.4              556.3          0.0                    0.0               59.0           5.08                   162.0     0.05                   0.4         0.17                     1.6                        0.000                       0.083\n",
       "2 2019-05-07 18:00:00 2019-05-07  18:00:00       17.4             19.5             17.4     60.0                  9.6           11.7                         1.3                  ESE                  1.34                              4.9                       ESE              17.4                  16.8            16.8               16.1              555.9          0.0                    0.0               47.0           4.04                    97.0     0.05                   0.0         0.00                     0.5                        0.067                       0.000"
      ]
     },
     "execution_count": 3,
     "metadata": {},
     "output_type": "execute_result"
    }
   ],
   "source": [
    "# Fecha mínima y máxima\n",
    "min_date = data[\"Date & Time\"].min()\n",
    "max_date = data[\"Date & Time\"].max()\n",
    "\n",
    "# Todas las fechas entre 'min_darte' y 'max_date'\n",
    "all_dates = pd.date_range(start = min_date, end = max_date, freq=\"H\")\n",
    "\n",
    "# Fijar la fecha como el índice\n",
    "data = data.set_index(\"Date & Time\")\n",
    "\n",
    "# Rellenar fechas faltantes\n",
    "data = data.reindex(all_dates, fill_value=np.nan)\n",
    "\n",
    "# Regresar fecha como columna\n",
    "data = data.reset_index().rename(columns={\"index\":\"Date & Time\"})\n",
    "\n",
    "# Nueva tabla\n",
    "print(\"Nuevo tamaño {}\".format(data.shape))\n",
    "data.head(3)"
   ]
  },
  {
   "cell_type": "markdown",
   "metadata": {
    "ExecuteTime": {
     "end_time": "2021-02-25T22:26:18.825662Z",
     "start_time": "2021-02-25T22:26:18.808662Z"
    }
   },
   "source": [
    "## Llenar temperaturas faltantes"
   ]
  },
  {
   "cell_type": "code",
   "execution_count": 4,
   "metadata": {
    "ExecuteTime": {
     "end_time": "2021-02-25T23:11:23.893444Z",
     "start_time": "2021-02-25T23:11:23.642444Z"
    },
    "collapsed": false
   },
   "outputs": [
    {
     "data": {
      "text/html": [
       "<div>\n",
       "<style scoped>\n",
       "    .dataframe tbody tr th:only-of-type {\n",
       "        vertical-align: middle;\n",
       "    }\n",
       "\n",
       "    .dataframe tbody tr th {\n",
       "        vertical-align: top;\n",
       "    }\n",
       "\n",
       "    .dataframe thead th {\n",
       "        text-align: right;\n",
       "    }\n",
       "</style>\n",
       "<table border=\"1\" class=\"dataframe\">\n",
       "  <thead>\n",
       "    <tr style=\"text-align: right;\">\n",
       "      <th></th>\n",
       "      <th>Date &amp; Time</th>\n",
       "      <th>Date</th>\n",
       "      <th>Time</th>\n",
       "      <th>Temp - °C</th>\n",
       "      <th>Temp. Alta - °C</th>\n",
       "      <th>Temp. Baja - °C</th>\n",
       "      <th>Hum - %</th>\n",
       "      <th>Punto de rocío - °C</th>\n",
       "      <th>Wet Bulb - °C</th>\n",
       "      <th>Velocidad del viento - m/s</th>\n",
       "      <th>Dirección del viento</th>\n",
       "      <th>Viento Corriente - m</th>\n",
       "      <th>Alta velocidad del viento - m/s</th>\n",
       "      <th>Alta Dirección del viento</th>\n",
       "      <th>Viento Frío - °C</th>\n",
       "      <th>Índice de calor - °C</th>\n",
       "      <th>THW Index - °C</th>\n",
       "      <th>THSW  índice - °C</th>\n",
       "      <th>Barómetro - mm Hg</th>\n",
       "      <th>Lluvia - mm</th>\n",
       "      <th>Tasa de lluvia - mm/h</th>\n",
       "      <th>Rad Solar - W/m^2</th>\n",
       "      <th>Energía solar</th>\n",
       "      <th>Rad Solar Alta - W/m^2</th>\n",
       "      <th>ET - mm</th>\n",
       "      <th>El índice UV - Index</th>\n",
       "      <th>Dosis de UV</th>\n",
       "      <th>Alto índice UV - Index</th>\n",
       "      <th>Días-grado de calentamiento</th>\n",
       "      <th>Días-grado de enfriamiento</th>\n",
       "    </tr>\n",
       "  </thead>\n",
       "  <tbody>\n",
       "    <tr>\n",
       "      <th>0</th>\n",
       "      <td>2019-05-07 16:00:00</td>\n",
       "      <td>2019-05-07</td>\n",
       "      <td>16:00:00</td>\n",
       "      <td>21.2</td>\n",
       "      <td>21.3</td>\n",
       "      <td>21.2</td>\n",
       "      <td>47.0</td>\n",
       "      <td>9.5</td>\n",
       "      <td>12.2</td>\n",
       "      <td>0.9</td>\n",
       "      <td>ENE</td>\n",
       "      <td>0.89</td>\n",
       "      <td>1.8</td>\n",
       "      <td>ESE</td>\n",
       "      <td>21.2</td>\n",
       "      <td>20.2</td>\n",
       "      <td>20.2</td>\n",
       "      <td>NaN</td>\n",
       "      <td>556.2</td>\n",
       "      <td>0.0</td>\n",
       "      <td>0.0</td>\n",
       "      <td>NaN</td>\n",
       "      <td>NaN</td>\n",
       "      <td>NaN</td>\n",
       "      <td>0.00</td>\n",
       "      <td>1.6</td>\n",
       "      <td>0.69</td>\n",
       "      <td>1.6</td>\n",
       "      <td>0.000</td>\n",
       "      <td>0.217</td>\n",
       "    </tr>\n",
       "    <tr>\n",
       "      <th>1</th>\n",
       "      <td>2019-05-07 17:00:00</td>\n",
       "      <td>2019-05-07</td>\n",
       "      <td>17:00:00</td>\n",
       "      <td>19.4</td>\n",
       "      <td>23.0</td>\n",
       "      <td>19.4</td>\n",
       "      <td>52.0</td>\n",
       "      <td>9.3</td>\n",
       "      <td>11.8</td>\n",
       "      <td>0.4</td>\n",
       "      <td>E</td>\n",
       "      <td>0.45</td>\n",
       "      <td>4.5</td>\n",
       "      <td>SE</td>\n",
       "      <td>19.4</td>\n",
       "      <td>18.7</td>\n",
       "      <td>18.7</td>\n",
       "      <td>19.4</td>\n",
       "      <td>556.3</td>\n",
       "      <td>0.0</td>\n",
       "      <td>0.0</td>\n",
       "      <td>59.0</td>\n",
       "      <td>5.08</td>\n",
       "      <td>162.0</td>\n",
       "      <td>0.05</td>\n",
       "      <td>0.4</td>\n",
       "      <td>0.17</td>\n",
       "      <td>1.6</td>\n",
       "      <td>0.000</td>\n",
       "      <td>0.083</td>\n",
       "    </tr>\n",
       "    <tr>\n",
       "      <th>2</th>\n",
       "      <td>2019-05-07 18:00:00</td>\n",
       "      <td>2019-05-07</td>\n",
       "      <td>18:00:00</td>\n",
       "      <td>17.4</td>\n",
       "      <td>19.5</td>\n",
       "      <td>17.4</td>\n",
       "      <td>60.0</td>\n",
       "      <td>9.6</td>\n",
       "      <td>11.7</td>\n",
       "      <td>1.3</td>\n",
       "      <td>ESE</td>\n",
       "      <td>1.34</td>\n",
       "      <td>4.9</td>\n",
       "      <td>ESE</td>\n",
       "      <td>17.4</td>\n",
       "      <td>16.8</td>\n",
       "      <td>16.8</td>\n",
       "      <td>16.1</td>\n",
       "      <td>555.9</td>\n",
       "      <td>0.0</td>\n",
       "      <td>0.0</td>\n",
       "      <td>47.0</td>\n",
       "      <td>4.04</td>\n",
       "      <td>97.0</td>\n",
       "      <td>0.05</td>\n",
       "      <td>0.0</td>\n",
       "      <td>0.00</td>\n",
       "      <td>0.5</td>\n",
       "      <td>0.067</td>\n",
       "      <td>0.000</td>\n",
       "    </tr>\n",
       "  </tbody>\n",
       "</table>\n",
       "</div>"
      ],
      "text/plain": [
       "          Date & Time       Date      Time  Temp - °C  Temp. Alta - °C  Temp. Baja - °C  Hum - %  Punto de rocío - °C  Wet Bulb - °C  Velocidad del viento - m/s Dirección del viento  Viento Corriente - m  Alta velocidad del viento - m/s Alta Dirección del viento  Viento Frío - °C  Índice de calor - °C  THW Index - °C  THSW  índice - °C  Barómetro - mm Hg  Lluvia - mm  Tasa de lluvia - mm/h  Rad Solar - W/m^2  Energía solar  Rad Solar Alta - W/m^2  ET - mm  El índice UV - Index  Dosis de UV  Alto índice UV - Index  Días-grado de calentamiento  Días-grado de enfriamiento\n",
       "0 2019-05-07 16:00:00 2019-05-07  16:00:00       21.2             21.3             21.2     47.0                  9.5           12.2                         0.9                  ENE                  0.89                              1.8                       ESE              21.2                  20.2            20.2                NaN              556.2          0.0                    0.0                NaN            NaN                     NaN     0.00                   1.6         0.69                     1.6                        0.000                       0.217\n",
       "1 2019-05-07 17:00:00 2019-05-07  17:00:00       19.4             23.0             19.4     52.0                  9.3           11.8                         0.4                    E                  0.45                              4.5                        SE              19.4                  18.7            18.7               19.4              556.3          0.0                    0.0               59.0           5.08                   162.0     0.05                   0.4         0.17                     1.6                        0.000                       0.083\n",
       "2 2019-05-07 18:00:00 2019-05-07  18:00:00       17.4             19.5             17.4     60.0                  9.6           11.7                         1.3                  ESE                  1.34                              4.9                       ESE              17.4                  16.8            16.8               16.1              555.9          0.0                    0.0               47.0           4.04                    97.0     0.05                   0.0         0.00                     0.5                        0.067                       0.000"
      ]
     },
     "execution_count": 4,
     "metadata": {},
     "output_type": "execute_result"
    }
   ],
   "source": [
    "# Llenar con datos cercanos\n",
    "num_periods = 9 # 4 antes + 4 después + Periodo actual (no cuentan los nan)\n",
    "average_temps = data[\"Temp - °C\"].rolling(num_periods, center=True, min_periods=1).mean()\n",
    "data[\"Temp - °C\"] = data[\"Temp - °C\"].fillna(average_temps)\n",
    "\n",
    "# Llenar faltantes con promedios de hora\n",
    "average_temps_hour = data.groupby(\"Time\")[\"Temp - °C\"].mean().to_dict()\n",
    "data[\"Temp - °C\"] = data.apply(\n",
    "    lambda row: average_temps_hour[row[\"Time\"]] if np.isnan(row[\"Temp - °C\"]) else row[\"Temp - °C\"], \n",
    "    axis=1)\n",
    "\n",
    "# Primeras columnas\n",
    "data.head(3)"
   ]
  },
  {
   "cell_type": "markdown",
   "metadata": {},
   "source": [
    "## Llenar velocidad del viento faltante"
   ]
  },
  {
   "cell_type": "code",
   "execution_count": 5,
   "metadata": {
    "ExecuteTime": {
     "end_time": "2021-02-25T23:11:24.130444Z",
     "start_time": "2021-02-25T23:11:23.894444Z"
    },
    "collapsed": false
   },
   "outputs": [
    {
     "data": {
      "text/html": [
       "<div>\n",
       "<style scoped>\n",
       "    .dataframe tbody tr th:only-of-type {\n",
       "        vertical-align: middle;\n",
       "    }\n",
       "\n",
       "    .dataframe tbody tr th {\n",
       "        vertical-align: top;\n",
       "    }\n",
       "\n",
       "    .dataframe thead th {\n",
       "        text-align: right;\n",
       "    }\n",
       "</style>\n",
       "<table border=\"1\" class=\"dataframe\">\n",
       "  <thead>\n",
       "    <tr style=\"text-align: right;\">\n",
       "      <th></th>\n",
       "      <th>Date &amp; Time</th>\n",
       "      <th>Date</th>\n",
       "      <th>Time</th>\n",
       "      <th>Temp - °C</th>\n",
       "      <th>Temp. Alta - °C</th>\n",
       "      <th>Temp. Baja - °C</th>\n",
       "      <th>Hum - %</th>\n",
       "      <th>Punto de rocío - °C</th>\n",
       "      <th>Wet Bulb - °C</th>\n",
       "      <th>Velocidad del viento - m/s</th>\n",
       "      <th>Dirección del viento</th>\n",
       "      <th>Viento Corriente - m</th>\n",
       "      <th>Alta velocidad del viento - m/s</th>\n",
       "      <th>Alta Dirección del viento</th>\n",
       "      <th>Viento Frío - °C</th>\n",
       "      <th>Índice de calor - °C</th>\n",
       "      <th>THW Index - °C</th>\n",
       "      <th>THSW  índice - °C</th>\n",
       "      <th>Barómetro - mm Hg</th>\n",
       "      <th>Lluvia - mm</th>\n",
       "      <th>Tasa de lluvia - mm/h</th>\n",
       "      <th>Rad Solar - W/m^2</th>\n",
       "      <th>Energía solar</th>\n",
       "      <th>Rad Solar Alta - W/m^2</th>\n",
       "      <th>ET - mm</th>\n",
       "      <th>El índice UV - Index</th>\n",
       "      <th>Dosis de UV</th>\n",
       "      <th>Alto índice UV - Index</th>\n",
       "      <th>Días-grado de calentamiento</th>\n",
       "      <th>Días-grado de enfriamiento</th>\n",
       "    </tr>\n",
       "  </thead>\n",
       "  <tbody>\n",
       "    <tr>\n",
       "      <th>0</th>\n",
       "      <td>2019-05-07 16:00:00</td>\n",
       "      <td>2019-05-07</td>\n",
       "      <td>16:00:00</td>\n",
       "      <td>21.2</td>\n",
       "      <td>21.3</td>\n",
       "      <td>21.2</td>\n",
       "      <td>47.0</td>\n",
       "      <td>9.5</td>\n",
       "      <td>12.2</td>\n",
       "      <td>0.9</td>\n",
       "      <td>ENE</td>\n",
       "      <td>0.89</td>\n",
       "      <td>1.8</td>\n",
       "      <td>ESE</td>\n",
       "      <td>21.2</td>\n",
       "      <td>20.2</td>\n",
       "      <td>20.2</td>\n",
       "      <td>NaN</td>\n",
       "      <td>556.2</td>\n",
       "      <td>0.0</td>\n",
       "      <td>0.0</td>\n",
       "      <td>NaN</td>\n",
       "      <td>NaN</td>\n",
       "      <td>NaN</td>\n",
       "      <td>0.00</td>\n",
       "      <td>1.6</td>\n",
       "      <td>0.69</td>\n",
       "      <td>1.6</td>\n",
       "      <td>0.000</td>\n",
       "      <td>0.217</td>\n",
       "    </tr>\n",
       "    <tr>\n",
       "      <th>1</th>\n",
       "      <td>2019-05-07 17:00:00</td>\n",
       "      <td>2019-05-07</td>\n",
       "      <td>17:00:00</td>\n",
       "      <td>19.4</td>\n",
       "      <td>23.0</td>\n",
       "      <td>19.4</td>\n",
       "      <td>52.0</td>\n",
       "      <td>9.3</td>\n",
       "      <td>11.8</td>\n",
       "      <td>0.4</td>\n",
       "      <td>E</td>\n",
       "      <td>0.45</td>\n",
       "      <td>4.5</td>\n",
       "      <td>SE</td>\n",
       "      <td>19.4</td>\n",
       "      <td>18.7</td>\n",
       "      <td>18.7</td>\n",
       "      <td>19.4</td>\n",
       "      <td>556.3</td>\n",
       "      <td>0.0</td>\n",
       "      <td>0.0</td>\n",
       "      <td>59.0</td>\n",
       "      <td>5.08</td>\n",
       "      <td>162.0</td>\n",
       "      <td>0.05</td>\n",
       "      <td>0.4</td>\n",
       "      <td>0.17</td>\n",
       "      <td>1.6</td>\n",
       "      <td>0.000</td>\n",
       "      <td>0.083</td>\n",
       "    </tr>\n",
       "    <tr>\n",
       "      <th>2</th>\n",
       "      <td>2019-05-07 18:00:00</td>\n",
       "      <td>2019-05-07</td>\n",
       "      <td>18:00:00</td>\n",
       "      <td>17.4</td>\n",
       "      <td>19.5</td>\n",
       "      <td>17.4</td>\n",
       "      <td>60.0</td>\n",
       "      <td>9.6</td>\n",
       "      <td>11.7</td>\n",
       "      <td>1.3</td>\n",
       "      <td>ESE</td>\n",
       "      <td>1.34</td>\n",
       "      <td>4.9</td>\n",
       "      <td>ESE</td>\n",
       "      <td>17.4</td>\n",
       "      <td>16.8</td>\n",
       "      <td>16.8</td>\n",
       "      <td>16.1</td>\n",
       "      <td>555.9</td>\n",
       "      <td>0.0</td>\n",
       "      <td>0.0</td>\n",
       "      <td>47.0</td>\n",
       "      <td>4.04</td>\n",
       "      <td>97.0</td>\n",
       "      <td>0.05</td>\n",
       "      <td>0.0</td>\n",
       "      <td>0.00</td>\n",
       "      <td>0.5</td>\n",
       "      <td>0.067</td>\n",
       "      <td>0.000</td>\n",
       "    </tr>\n",
       "  </tbody>\n",
       "</table>\n",
       "</div>"
      ],
      "text/plain": [
       "          Date & Time       Date      Time  Temp - °C  Temp. Alta - °C  Temp. Baja - °C  Hum - %  Punto de rocío - °C  Wet Bulb - °C  Velocidad del viento - m/s Dirección del viento  Viento Corriente - m  Alta velocidad del viento - m/s Alta Dirección del viento  Viento Frío - °C  Índice de calor - °C  THW Index - °C  THSW  índice - °C  Barómetro - mm Hg  Lluvia - mm  Tasa de lluvia - mm/h  Rad Solar - W/m^2  Energía solar  Rad Solar Alta - W/m^2  ET - mm  El índice UV - Index  Dosis de UV  Alto índice UV - Index  Días-grado de calentamiento  Días-grado de enfriamiento\n",
       "0 2019-05-07 16:00:00 2019-05-07  16:00:00       21.2             21.3             21.2     47.0                  9.5           12.2                         0.9                  ENE                  0.89                              1.8                       ESE              21.2                  20.2            20.2                NaN              556.2          0.0                    0.0                NaN            NaN                     NaN     0.00                   1.6         0.69                     1.6                        0.000                       0.217\n",
       "1 2019-05-07 17:00:00 2019-05-07  17:00:00       19.4             23.0             19.4     52.0                  9.3           11.8                         0.4                    E                  0.45                              4.5                        SE              19.4                  18.7            18.7               19.4              556.3          0.0                    0.0               59.0           5.08                   162.0     0.05                   0.4         0.17                     1.6                        0.000                       0.083\n",
       "2 2019-05-07 18:00:00 2019-05-07  18:00:00       17.4             19.5             17.4     60.0                  9.6           11.7                         1.3                  ESE                  1.34                              4.9                       ESE              17.4                  16.8            16.8               16.1              555.9          0.0                    0.0               47.0           4.04                    97.0     0.05                   0.0         0.00                     0.5                        0.067                       0.000"
      ]
     },
     "execution_count": 5,
     "metadata": {},
     "output_type": "execute_result"
    }
   ],
   "source": [
    "# Llenar con datos cercanos\n",
    "num_periods = 9 # 4 antes + 4 después + Periodo actual (no cuentan los nan)\n",
    "average_speeds = data[\"Velocidad del viento - m/s\"].rolling(num_periods, center=True, min_periods=1).mean()\n",
    "data[\"Velocidad del viento - m/s\"] = data[\"Velocidad del viento - m/s\"].fillna(average_speeds)\n",
    "\n",
    "# Llenar faltantes con promedios de hora\n",
    "average_speeds_hour = data.groupby(\"Time\")[\"Velocidad del viento - m/s\"].mean().to_dict()\n",
    "data[\"Velocidad del viento - m/s\"] = data.apply(\n",
    "    lambda row: average_speeds_hour[row[\"Time\"]] if np.isnan(row[\"Velocidad del viento - m/s\"]) else row[\"Velocidad del viento - m/s\"], \n",
    "    axis=1)\n",
    "\n",
    "# Primeras columnas\n",
    "data.head(3)"
   ]
  },
  {
   "cell_type": "markdown",
   "metadata": {},
   "source": [
    "## Pruebas de Calidad"
   ]
  },
  {
   "cell_type": "code",
   "execution_count": 6,
   "metadata": {
    "ExecuteTime": {
     "end_time": "2021-02-25T23:11:24.146445Z",
     "start_time": "2021-02-25T23:11:24.131444Z"
    },
    "collapsed": false
   },
   "outputs": [
    {
     "name": "stdout",
     "output_type": "stream",
     "text": [
      "La tabla no tiene vacíos.\n"
     ]
    }
   ],
   "source": [
    "# Check de vacíos\n",
    "assert data[\"Temp - °C\"].isna().sum() == 0, \"La tabla contiene vacíos en Temperatura.\"\n",
    "assert data[\"Velocidad del viento - m/s\"].isna().sum() == 0, \"La tabla contiene vacíos en Velocidad del Viento.\"\n",
    "print(\"La tabla no tiene vacíos.\")"
   ]
  },
  {
   "cell_type": "code",
   "execution_count": 7,
   "metadata": {
    "ExecuteTime": {
     "end_time": "2021-02-25T23:11:24.498579Z",
     "start_time": "2021-02-25T23:11:24.147445Z"
    },
    "collapsed": false
   },
   "outputs": [
    {
     "data": {
      "text/plain": [
       "[<matplotlib.lines.Line2D at 0x244a6357430>]"
      ]
     },
     "execution_count": 7,
     "metadata": {},
     "output_type": "execute_result"
    },
    {
     "data": {
      "image/png": "[encoded data removed]",
      "text/plain": [
       "<Figure size 432x288 with 1 Axes>"
      ]
     },
     "metadata": {
      "needs_background": "light"
     },
     "output_type": "display_data"
    }
   ],
   "source": [
    "import matplotlib.pyplot as plt\n",
    "plt.plot(data[\"Date & Time\"], data[\"Temp - °C\"])"
   ]
  },
  {
   "cell_type": "code",
   "execution_count": 8,
   "metadata": {
    "ExecuteTime": {
     "end_time": "2021-02-25T23:11:24.673688Z",
     "start_time": "2021-02-25T23:11:24.499600Z"
    },
    "collapsed": false
   },
   "outputs": [
    {
     "data": {
      "text/plain": [
       "[<matplotlib.lines.Line2D at 0x244a5cbd550>]"
      ]
     },
     "execution_count": 8,
     "metadata": {},
     "output_type": "execute_result"
    },
    {
     "data": {
      "image/png": "[encoded data removed]",
      "text/plain": [
       "<Figure size 432x288 with 1 Axes>"
      ]
     },
     "metadata": {
      "needs_background": "light"
     },
     "output_type": "display_data"
    }
   ],
   "source": [
    "import matplotlib.pyplot as plt\n",
    "plt.plot(data[\"Date & Time\"], data[\"Velocidad del viento - m/s\"])"
   ]
  },
  {
   "cell_type": "markdown",
   "metadata": {
    "ExecuteTime": {
     "end_time": "2021-02-25T22:51:02.992387Z",
     "start_time": "2021-02-25T22:51:02.986410Z"
    }
   },
   "source": [
    "## Guardar Datos"
   ]
  },
  {
   "cell_type": "code",
   "execution_count": 9,
   "metadata": {
    "ExecuteTime": {
     "end_time": "2021-02-25T23:11:24.973578Z",
     "start_time": "2021-02-25T23:11:24.674577Z"
    },
    "collapsed": true
   },
   "outputs": [],
   "source": [
    "# Se guardan los datos\n",
    "data.to_csv(\"datos_procesados.csv\", index=False, encoding=\"latin-1\")"
   ]
  }
 ],
 "metadata": {
  "kernelspec": {
   "display_name": "Python [conda root]",
   "language": "python",
   "name": "conda-root-py"
  },
  "language_info": {
   "codemirror_mode": {
    "name": "ipython",
    "version": 2
   },
   "file_extension": ".py",
   "mimetype": "text/x-python",
   "name": "python",
   "nbconvert_exporter": "python",
   "pygments_lexer": "ipython2",
   "version": "2.7.12"
  },
  "toc": {
   "base_numbering": 1,
   "nav_menu": {},
   "number_sections": true,
   "sideBar": true,
   "skip_h1_title": false,
   "title_cell": "Table of Contents",
   "title_sidebar": "Contents",
   "toc_cell": true,
   "toc_position": {
    "height": "calc(100% - 180px)",
    "left": "10px",
    "top": "150px",
    "width": "303.875px"
   },
   "toc_section_display": true,
   "toc_window_display": true
  },
  "varInspector": {
   "cols": {
    "lenName": 16,
    "lenType": 16,
    "lenVar": 40
   },
   "kernels_config": {
    "python": {
     "delete_cmd_postfix": "",
     "delete_cmd_prefix": "del ",
     "library": "var_list.py",
     "varRefreshCmd": "print(var_dic_list())"
    },
    "r": {
     "delete_cmd_postfix": ") ",
     "delete_cmd_prefix": "rm(",
     "library": "var_list.r",
     "varRefreshCmd": "cat(var_dic_list()) "
    }
   },
   "types_to_exclude": [
    "module",
    "function",
    "builtin_function_or_method",
    "instance",
    "_Feature"
   ],
   "window_display": false
  }
 },
 "nbformat": 4,
 "nbformat_minor": 4
}
